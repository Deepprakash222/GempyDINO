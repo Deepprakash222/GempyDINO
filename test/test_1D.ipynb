{
 "cells": [
  {
   "cell_type": "markdown",
   "metadata": {},
   "source": [
    "# This notebook is to test the implentation of hippylib and hippyflow to solve pde and calculate the jacobian"
   ]
  },
  {
   "cell_type": "code",
   "execution_count": 574,
   "metadata": {},
   "outputs": [],
   "source": [
    "import json\n",
    "import ufl\n",
    "import dolfin as dl\n",
    "import numpy as np\n",
    "import matplotlib.pyplot as plt\n",
    "#sys.path.append(os.environ.get('HIPPYLIB_PATH', \"../../\"))\n",
    "import hippylib as hp\n",
    "#sys.path.append(os.environ.get('HIPPYFLOW_PATH',\"../../\"))\n",
    "import hippyflow as hf"
   ]
  },
  {
   "cell_type": "markdown",
   "metadata": {},
   "source": [
    "# Let's Define a 1D problem\n",
    "$$ - \\nabla \\cdot(m \\nabla u) =f $$\n",
    "where, $$m = 1 + k x$$ \n",
    "# Weak formulation\n",
    "## Let $v \\in H^1_0(\\Omega)$ be a test function, then find $u \\in H^1(\\Omega)$, such that\n",
    "$$ \\int_{\\Omega} \\nabla \\cdot(m \\nabla u) v d\\Omega + \\int_{\\Omega}f v d\\Omega =0$$\n",
    "As we know that,  $\\nabla \\cdot (v m \\nabla u) = \\nabla \\cdot(m \\nabla u) v + \\nabla v \\cdot(m \\nabla u)$, \n",
    "we can get, $$ \\int_{\\Omega} (\\nabla \\cdot (v m \\nabla u) -\\nabla v \\cdot(m \\nabla u))d\\Omega + \\int_{\\Omega}f v d\\Omega =0$$\n",
    "$$ -\\int_{\\Omega} \\nabla v \\cdot(m \\nabla u)d\\Omega  +\\int_{\\Omega} \\nabla \\cdot (v m \\nabla u)d\\Omega + \\int_{\\Omega}f v d\\Omega =0$$\n",
    "Using the divergence rule, we can integrate over the boundary of the domain\n",
    "$$ -\\int_{\\Omega} m \\nabla u \\cdot \\nabla v d\\Omega  +\\int_{\\Gamma}  v m \\nabla u\\cdot n d\\Gamma+ \\int_{\\Omega}f v d\\Omega =0$$\n",
    "We assume that we have Dirichlet Boundary condtion\n",
    "$$ -\\int_{\\Omega} m \\nabla u \\cdot \\nabla v d\\Omega  +\\int_{\\Gamma_D}  v m \\nabla u\\cdot n d\\Gamma_D+ \\int_{\\Omega}f v d\\Omega =0$$\n",
    "Since $v=0$ at Dirichlet BC, we can simplify the above equation as \n",
    "$$ -\\int_{\\Omega} m \\nabla u \\cdot \\nabla v d\\Omega  + \\int_{\\Omega}f v d\\Omega =0$$\n",
    "If there is no source term, that is $f=0$, we will get\n",
    "$$ \\int_{\\Omega} m \\nabla u \\cdot \\nabla v d\\Omega  =0$$\n",
    "## Strong solution is the weak solution\n",
    "$$\\frac{d}{dx}(m\\frac{du}{dx}) = 0 $$\n",
    "Integrating w.r.t to x and assuming $C_1$ as the integration constant\n",
    "$$\\frac{du}{dx} = \\frac{C_1}{1+kx} $$\n",
    "Integrating again w.r.t to x and assuming $C_2$ as the integration constant\n",
    "$$u= \\frac{C_1}{k} \\ln(1+kx) + C_2 $$\n",
    "Now assuming that $u(0) = 0 $ and $u(1) = 1 $ as the BC, we can get\n",
    "$$u= \\frac{\\ln(1+kx)}{\\ln(1+k)}  $$"
   ]
  },
  {
   "cell_type": "code",
   "execution_count": 575,
   "metadata": {},
   "outputs": [
    {
     "name": "stderr",
     "output_type": "stream",
     "text": [
      "/var/folders/lr/h2867zhs72gcy61j6_cy0n0r0000gq/T/ipykernel_48389/3827168699.py:43: DeprecationWarning: Conversion of an array with ndim > 0 to a scalar is deprecated, and will error in future. Ensure you extract a single element from your array before performing this operation. (Deprecated NumPy 1.25.)\n",
      "  m.vector().set_local(m_values[d2v]) #uncomment this\n"
     ]
    }
   ],
   "source": [
    "nx =1000 #\n",
    "nodes = nx+1 # Number of nodal point\n",
    "# Create an uniform interval grid of mesh points\n",
    "mesh = dl.IntervalMesh(nx, dl.Constant(0.0), dl.Constant(1.0)) \n",
    "# Define Functional space for the state and parameter variable\n",
    "degree = 2\n",
    "Vh_STATE = dl.FunctionSpace(mesh, \"CG\", degree)\n",
    "Vh_PARAMETER = dl.FunctionSpace(mesh, \"CG\", 1)\n",
    "# Creat a list of Spaces for State, parameter and adjoint\n",
    "Vh = [Vh_STATE, Vh_PARAMETER, Vh_STATE]\n",
    "k = 2 # Para\n",
    "#print(mesh.coordinates())\n",
    "coord = mesh.coordinates()\n",
    "#print(\"coord\\n\", coord)\n",
    "m_data = 1 + k * mesh.coordinates().copy()\n",
    "\n",
    "d2v = dl.dof_to_vertex_map(Vh[hp.PARAMETER])\n",
    "\n",
    "v2d = dl.vertex_to_dof_map(Vh[hp.PARAMETER])\n",
    "\n",
    "def u_boundary(x, on_boundary):\n",
    "    return on_boundary and ( x[0] < dl.DOLFIN_EPS or x[0] > 1.0 - dl.DOLFIN_EPS)\n",
    "\n",
    "u_bdr = dl.Expression(\"x[0]\", degree=2)\n",
    "u_bdr0 = dl.Constant(0.0)\n",
    "bc = dl.DirichletBC(Vh[hp.STATE], u_bdr, u_boundary)\n",
    "bc0 = dl.DirichletBC(Vh[hp.STATE], u_bdr0, u_boundary)\n",
    "\n",
    "f = dl.Constant(0.0)\n",
    "\n",
    "def pde_varf(u,m,p):\n",
    "    return ufl.inner(m*ufl.grad(u), ufl.grad(p))*ufl.dx - f*p*ufl.dx\n",
    "\n",
    "pde = hp.PDEVariationalProblem(Vh, pde_varf, bc, bc0, is_fwd_linear=True)\n",
    "\n",
    "\n",
    "m = dl.Function(Vh[hp.PARAMETER])\n",
    "\n",
    "u = dl.Function(Vh[hp.STATE])\n",
    "uadj = dl.Function(Vh[hp.ADJOINT])\n",
    "\n",
    "m_values = m_data.copy()\n",
    "m.vector().set_local(m_values[d2v]) #uncomment this\n",
    "\n",
    "x = [u.vector(),m.vector(),uadj.vector()]\n",
    "pde.solveFwd(x[hp.STATE], x)\n",
    "\n",
    "u_data = x[hp.STATE].get_local()\n",
    "\n"
   ]
  },
  {
   "cell_type": "code",
   "execution_count": 576,
   "metadata": {},
   "outputs": [],
   "source": [
    "u_trial = dl.TrialFunction(Vh[hp.STATE])\n",
    "u_test = dl.TestFunction(Vh[hp.STATE])\n",
    "M = dl.PETScMatrix()\n",
    "M_U = dl.assemble(dl.inner(u_trial,u_test)*dl.dx)\n",
    "\n",
    "I_U = hf.StateSpaceIdentityOperator(M_U)\n",
    "\n",
    "#observable = hf.LinearStateObservable(pde,M_U)\n",
    "observable = hf.LinearStateObservable(pde,I_U)\n",
    "\n",
    "Jm = hf.ObservableJacobian(observable)\n",
    "\n",
    "m_trial = dl.TrialFunction(Vh[hp.PARAMETER])\n",
    "m_test = dl.TestFunction(Vh[hp.PARAMETER])\n",
    "\n",
    "M_M = dl.assemble(dl.inner(m_trial,m_test)*dl.dx)"
   ]
  },
  {
   "cell_type": "code",
   "execution_count": 577,
   "metadata": {},
   "outputs": [
    {
     "data": {
      "text/plain": [
       "(numpy.ndarray, (1001, 1))"
      ]
     },
     "execution_count": 577,
     "metadata": {},
     "output_type": "execute_result"
    }
   ],
   "source": [
    "u_true = np.log(m_data)/np.log(1+k)\n",
    "type(u_true), u_true.shape #, u_pde.shape"
   ]
  },
  {
   "cell_type": "code",
   "execution_count": 578,
   "metadata": {},
   "outputs": [
    {
     "data": {
      "text/plain": [
       "array([   0,    1,    2, ...,  998,  999, 1000],\n",
       "      shape=(1001,), dtype=uint64)"
      ]
     },
     "execution_count": 578,
     "metadata": {},
     "output_type": "execute_result"
    }
   ],
   "source": [
    "d2v"
   ]
  },
  {
   "cell_type": "code",
   "execution_count": 579,
   "metadata": {},
   "outputs": [
    {
     "name": "stdout",
     "output_type": "stream",
     "text": [
      "2001\n"
     ]
    }
   ],
   "source": [
    "global_indices = mesh.topology().global_indices(0)  \n",
    "# the points associated with the DOFs of the CG2 space.\n",
    "dof_coordinates = Vh[hp.STATE].tabulate_dof_coordinates()\n",
    "# print(\"mesh Coordinates :\")\n",
    "# print(mesh.coordinates())\n",
    "# print(\"Coordinates of CG2 nodes:\")\n",
    "#print(dof_coordinates)\n",
    "N =dof_coordinates.shape[0]\n",
    "print(N)"
   ]
  },
  {
   "cell_type": "code",
   "execution_count": 580,
   "metadata": {},
   "outputs": [
    {
     "data": {
      "text/plain": [
       "array([0.        , 0.00181866, 0.00363369, ..., 0.99878554, 0.99939297,\n",
       "       1.        ], shape=(1001,))"
      ]
     },
     "execution_count": 580,
     "metadata": {},
     "output_type": "execute_result"
    }
   ],
   "source": [
    "dof_coordinates = Vh[hp.STATE].tabulate_dof_coordinates()\n",
    "data_dict = {}\n",
    "cg2=[]\n",
    "for i, values in enumerate(dof_coordinates):\n",
    "    data_dict[str(values)] = [i, u_data[i]]\n",
    "    \n",
    "u_pde_list=[]\n",
    "for values in coord:\n",
    "    cg2.append(data_dict[str(values)][0])\n",
    "    u_pde_list.append(data_dict[str(values)][1])\n",
    "u_pde= np.array(u_pde_list)\n",
    "u_pde\n"
   ]
  },
  {
   "cell_type": "code",
   "execution_count": 581,
   "metadata": {},
   "outputs": [],
   "source": [
    "# cg2 = list(range(N-degree, -1, -degree))\n",
    "# if cg2[-1]!=0:\n",
    "#     cg2.append(0)\n",
    "# print(cg2)\n",
    "# u_pde = u_data[cg2]"
   ]
  },
  {
   "cell_type": "code",
   "execution_count": 582,
   "metadata": {},
   "outputs": [
    {
     "data": {
      "image/png": "[encoded data removed]",
      "text/plain": [
       "<Figure size 640x480 with 1 Axes>"
      ]
     },
     "metadata": {},
     "output_type": "display_data"
    }
   ],
   "source": [
    "plt.plot(coord, u_true, 'r--',linewidth=0.5, label='True Solution')   # red, dashed, circles\n",
    "plt.plot(coord, u_pde, 'g-.',linewidth=0.5,label='PDE Solution')      # blue, solid, squares\n",
    "\n",
    "plt.xlabel(\"x\")\n",
    "plt.ylabel(\"u(x)\")\n",
    "plt.title(\"Comparison of True and PDE Solutions\")\n",
    "plt.legend()\n",
    "plt.grid(True)\n",
    "plt.show()"
   ]
  },
  {
   "cell_type": "code",
   "execution_count": 583,
   "metadata": {},
   "outputs": [
    {
     "name": "stdout",
     "output_type": "stream",
     "text": [
      "1001 1001\n",
      "<hippyflow.modeling.jacobian.ObservableJacobian object at 0x134a63e80>\n"
     ]
    }
   ],
   "source": [
    "\n",
    "dU = u.vector().get_local()[cg2].shape[0]\n",
    "dM = m.vector().get_local().shape[0]\n",
    "# once you have modified the means of c->m(c) comment this\n",
    "print(dU, dM)\n",
    "uhat = dl.Function(Vh[hp.STATE])\n",
    "m_nodes_hat = dl.Function(Vh[hp.PARAMETER])\n",
    "m_nodes_hat_ = dl.Function(Vh[hp.PARAMETER])\n",
    "Jm_data = np.zeros((dU, dM))\n",
    "m_values = m_data.copy()\n",
    "Jm.observable.setLinearizationPoint(x)\n",
    "# observable.setLinearizationPoint(x)\n",
    "# Jm = hf.ObservableJacobian(observable)\n",
    "print(Jm)\n",
    "for component in range(dM):\n",
    "    m_hat = np.zeros((dM))\n",
    "    m_hat[component] = 1\n",
    "    m_nodes_hat.vector().set_local(m_hat[v2d]) \n",
    "    #m_nodes_hat.vector().set_local(M_M.array()[:,component][v2d]) \n",
    "    # M_M.mult(m_nodes_hat.vector(), m_nodes_hat_.vector())\n",
    "    # Jm.mult(m_nodes_hat_.vector(), uhat.vector()) \n",
    "    Jm.mult(m_nodes_hat.vector(), uhat.vector()) \n",
    "    Jm_data[:,component] = uhat.vector().get_local()[cg2]\n",
    "#Jm_data"
   ]
  },
  {
   "cell_type": "markdown",
   "metadata": {},
   "source": [
    "# We need to test if du/dm is correct or not"
   ]
  },
  {
   "cell_type": "code",
   "execution_count": 584,
   "metadata": {},
   "outputs": [
    {
     "name": "stderr",
     "output_type": "stream",
     "text": [
      "/var/folders/lr/h2867zhs72gcy61j6_cy0n0r0000gq/T/ipykernel_48389/2717073268.py:16: DeprecationWarning: Conversion of an array with ndim > 0 to a scalar is deprecated, and will error in future. Ensure you extract a single element from your array before performing this operation. (Deprecated NumPy 1.25.)\n",
      "  m.vector().set_local(m_values_[d2v]) #uncomment this\n"
     ]
    }
   ],
   "source": [
    "def test_jacobian(m_data_, u_true,  J_true, epsilon):\n",
    "    m = dl.Function(Vh[hp.PARAMETER])\n",
    "    u = dl.Function(Vh[hp.STATE])\n",
    "    uadj = dl.Function(Vh[hp.ADJOINT])\n",
    "    dU = u.vector().get_local().shape[0]\n",
    "    dM = m.vector().get_local().shape[0]\n",
    "    error_total = 0\n",
    "    error_div_u =0\n",
    "    # print(\"J_true\\n\", J_true)\n",
    "    for i in range(dM):\n",
    "        m = dl.Function(Vh[hp.PARAMETER])\n",
    "        u = dl.Function(Vh[hp.STATE])\n",
    "        uadj = dl.Function(Vh[hp.ADJOINT])\n",
    "        m_values_ = m_data_.copy()\n",
    "        m_values_[i] = m_values_[i] + epsilon\n",
    "        m.vector().set_local(m_values_[d2v]) #uncomment this\n",
    "        \n",
    "        x = [u.vector(),m.vector(),uadj.vector()]\n",
    "        pde.solveFwd(x[hp.STATE], x)\n",
    "\n",
    "        u_data_current = x[hp.STATE].get_local()[cg2]\n",
    "        delta_u  = u_data_current - u_true\n",
    "        error_div_u = error_div_u + np.linalg.norm(delta_u)\n",
    "        #print(delta_u)\n",
    "        Jm_FD_i = (u_data_current - u_true)/epsilon\n",
    "        # print(Jm_FD_i)\n",
    "        error = np.linalg.norm(Jm_FD_i - J_true[:,i])\n",
    "        error_total = error_total + error\n",
    "    # error_total = np.linalg.norm(delta_u)\n",
    "    return error_total ,error_div_u\n",
    "        \n",
    "        \n",
    "    \n",
    "epsilon_data = [1e-10, 1e-9, 1e-8, 1e-7,1e-6, 1e-5, 1e-4, 1e-3, 1e-2, 1e-1]\n",
    "#epsilon_data = [1e-8]\n",
    "error_data =[]\n",
    "error_div_u = []\n",
    "for eps in epsilon_data:\n",
    "    #test_jacobian(m_data_=m_data, u_true=u_pde,  J_true=Jm_data, epsilon=eps)\n",
    "    rms, err = test_jacobian(m_data_=m_data, u_true=u_pde,  J_true=Jm_data, epsilon=eps)\n",
    "    error_data.append(rms)\n",
    "    error_div_u.append(err)"
   ]
  },
  {
   "cell_type": "code",
   "execution_count": 585,
   "metadata": {},
   "outputs": [
    {
     "data": {
      "text/plain": [
       "([1e-10, 1e-09, 1e-08, 1e-07, 1e-06, 1e-05, 0.0001, 0.001, 0.01, 0.1],\n",
       " [np.float64(36.61993603965313),\n",
       "  np.float64(2.836564981413646),\n",
       "  np.float64(0.6326660216274393),\n",
       "  np.float64(0.040890432569477574),\n",
       "  np.float64(0.0040602461201118935),\n",
       "  np.float64(0.00041154275652695646),\n",
       "  np.float64(0.00034356834362915864),\n",
       "  np.float64(0.003304481989927587),\n",
       "  np.float64(0.03287349298498358),\n",
       "  np.float64(0.3134050378313005)])"
      ]
     },
     "execution_count": 585,
     "metadata": {},
     "output_type": "execute_result"
    }
   ],
   "source": [
    "epsilon_data , error_data"
   ]
  },
  {
   "cell_type": "code",
   "execution_count": 586,
   "metadata": {},
   "outputs": [
    {
     "data": {
      "text/plain": [
       "[<matplotlib.lines.Line2D at 0x134e6ba00>]"
      ]
     },
     "execution_count": 586,
     "metadata": {},
     "output_type": "execute_result"
    },
    {
     "data": {
      "image/png": "[encoded data removed]",
      "text/plain": [
       "<Figure size 640x480 with 1 Axes>"
      ]
     },
     "metadata": {},
     "output_type": "display_data"
    }
   ],
   "source": [
    "plt.plot(np.log10(epsilon_data), np.log10(error_div_u)) "
   ]
  },
  {
   "cell_type": "code",
   "execution_count": 587,
   "metadata": {},
   "outputs": [
    {
     "data": {
      "text/plain": [
       "[<matplotlib.lines.Line2D at 0x1354ccbb0>]"
      ]
     },
     "execution_count": 587,
     "metadata": {},
     "output_type": "execute_result"
    },
    {
     "data": {
      "image/png": "[encoded data removed]",
      "text/plain": [
       "<Figure size 640x480 with 1 Axes>"
      ]
     },
     "metadata": {},
     "output_type": "display_data"
    }
   ],
   "source": [
    "plt.plot(np.log10(epsilon_data), np.log10(error_data)) "
   ]
  },
  {
   "cell_type": "markdown",
   "metadata": {},
   "source": [
    "# We need to test with Jacobian w.r.t to k \n",
    "$$m = 1 + k x$$\n",
    "$$R(u,m) = 0$$\n",
    "$$\\frac{du}{dk} = \\frac{du}{dm} \\frac{dm}{dk}$$"
   ]
  },
  {
   "cell_type": "code",
   "execution_count": 588,
   "metadata": {},
   "outputs": [
    {
     "name": "stdout",
     "output_type": "stream",
     "text": [
      "dm_dk\n",
      " [[0.   ]\n",
      " [0.001]\n",
      " [0.002]\n",
      " ...\n",
      " [0.998]\n",
      " [0.999]\n",
      " [1.   ]]\n"
     ]
    },
    {
     "name": "stderr",
     "output_type": "stream",
     "text": [
      "/var/folders/lr/h2867zhs72gcy61j6_cy0n0r0000gq/T/ipykernel_48389/308014387.py:44: DeprecationWarning: Conversion of an array with ndim > 0 to a scalar is deprecated, and will error in future. Ensure you extract a single element from your array before performing this operation. (Deprecated NumPy 1.25.)\n",
      "  m.vector().set_local(m_values[d2v]) #uncomment this\n",
      "/var/folders/lr/h2867zhs72gcy61j6_cy0n0r0000gq/T/ipykernel_48389/308014387.py:93: DeprecationWarning: Conversion of an array with ndim > 0 to a scalar is deprecated, and will error in future. Ensure you extract a single element from your array before performing this operation. (Deprecated NumPy 1.25.)\n",
      "  m_nodes_hat.vector().set_local(dm_dk[v2d])\n"
     ]
    }
   ],
   "source": [
    "nx =1000 #\n",
    "nodes = nx+1 # Number of nodal point\n",
    "# Create an uniform interval grid of mesh points\n",
    "mesh = dl.IntervalMesh(nx, dl.Constant(0.0), dl.Constant(1.0)) \n",
    "# Define Functional space for the state and parameter variable\n",
    "degree = 2\n",
    "Vh_STATE = dl.FunctionSpace(mesh, \"CG\", degree)\n",
    "Vh_PARAMETER = dl.FunctionSpace(mesh, \"CG\", 1)\n",
    "# Creat a list of Spaces for State, parameter and adjoint\n",
    "Vh = [Vh_STATE, Vh_PARAMETER, Vh_STATE]\n",
    "k = 2 # Para\n",
    "#print(mesh.coordinates())\n",
    "coord = mesh.coordinates()\n",
    "\n",
    "m_data = 1 + k * mesh.coordinates().copy()\n",
    "dm_dk  = mesh.coordinates().copy()\n",
    "print(\"dm_dk\\n\", dm_dk)\n",
    "d2v = dl.dof_to_vertex_map(Vh[hp.PARAMETER])\n",
    "\n",
    "v2d = dl.vertex_to_dof_map(Vh[hp.PARAMETER])\n",
    "\n",
    "def u_boundary(x, on_boundary):\n",
    "    return on_boundary and ( x[0] < dl.DOLFIN_EPS or x[0] > 1.0 - dl.DOLFIN_EPS)\n",
    "\n",
    "u_bdr = dl.Expression(\"x[0]\", degree=2)\n",
    "u_bdr0 = dl.Constant(0.0)\n",
    "bc = dl.DirichletBC(Vh[hp.STATE], u_bdr, u_boundary)\n",
    "bc0 = dl.DirichletBC(Vh[hp.STATE], u_bdr0, u_boundary)\n",
    "\n",
    "f = dl.Constant(0.0)\n",
    "\n",
    "def pde_varf(u,m,p):\n",
    "    return ufl.inner(m*ufl.grad(u), ufl.grad(p))*ufl.dx - f*p*ufl.dx\n",
    "\n",
    "pde = hp.PDEVariationalProblem(Vh, pde_varf, bc, bc0, is_fwd_linear=True)\n",
    "\n",
    "\n",
    "m = dl.Function(Vh[hp.PARAMETER])\n",
    "\n",
    "u = dl.Function(Vh[hp.STATE])\n",
    "uadj = dl.Function(Vh[hp.ADJOINT])\n",
    "\n",
    "m_values = m_data.copy()\n",
    "m.vector().set_local(m_values[d2v]) #uncomment this\n",
    "\n",
    "x = [u.vector(),m.vector(),uadj.vector()]\n",
    "pde.solveFwd(x[hp.STATE], x)\n",
    "\n",
    "u_data = x[hp.STATE].get_local()\n",
    "\n",
    "u_trial = dl.TrialFunction(Vh[hp.STATE])\n",
    "u_test = dl.TestFunction(Vh[hp.STATE])\n",
    "M = dl.PETScMatrix()\n",
    "M_U = dl.assemble(dl.inner(u_trial,u_test)*dl.dx)\n",
    "\n",
    "I_U = hf.StateSpaceIdentityOperator(M_U)\n",
    "#observable = hf.LinearStateObservable(pde,M_U)\n",
    "observable = hf.LinearStateObservable(pde,I_U)\n",
    "\n",
    "Jm2 = hf.ObservableJacobian(observable)\n",
    "\n",
    "m_trial = dl.TrialFunction(Vh[hp.PARAMETER])\n",
    "m_test = dl.TestFunction(Vh[hp.PARAMETER])\n",
    "\n",
    "M_M = dl.assemble(dl.inner(m_trial,m_test)*dl.dx)\n",
    "\n",
    "global_indices = mesh.topology().global_indices(0)  \n",
    "# the points associated with the DOFs of the CG2 space.\n",
    "dof_coordinates = Vh[hp.STATE].tabulate_dof_coordinates()\n",
    "data_dict = {}\n",
    "cg2=[]\n",
    "for i, values in enumerate(dof_coordinates):\n",
    "    data_dict[str(values)] = [i, u_data[i]]\n",
    "    \n",
    "u_pde_list=[]\n",
    "for values in coord:\n",
    "    cg2.append(data_dict[str(values)][0])\n",
    "    u_pde_list.append(data_dict[str(values)][1])\n",
    "u_pde= np.array(u_pde_list)\n",
    "\n",
    "\n",
    "\n",
    "dU = u.vector().get_local()[cg2].shape[0]\n",
    "dM = m.vector().get_local().shape[0]\n",
    "# once you have modified the means of c->m(c) comment this\n",
    "\n",
    "uhat = dl.Function(Vh[hp.STATE])\n",
    "m_nodes_hat = dl.Function(Vh[hp.PARAMETER])\n",
    "m_nodes_hat_ = dl.Function(Vh[hp.PARAMETER])\n",
    "Jm_data2 = np.zeros((dU))\n",
    "m_values = m_data.copy()\n",
    "Jm2.observable.setLinearizationPoint(x)\n",
    "m_nodes_hat.vector().set_local(dm_dk[v2d]) \n",
    "#m_nodes_hat.vector().set_local(M_M.array()[:,component][v2d]) \n",
    "#M_M.mult(m_nodes_hat.vector(), m_nodes_hat_.vector())\n",
    "#Jm2.mult(m_nodes_hat_.vector(), uhat.vector()) \n",
    "Jm2.mult(m_nodes_hat.vector(), uhat.vector()) \n",
    "Jm_data2 = uhat.vector().get_local()[cg2]"
   ]
  },
  {
   "cell_type": "code",
   "execution_count": 589,
   "metadata": {},
   "outputs": [
    {
     "data": {
      "text/plain": [
       "array([-0.00000000e+00,  3.56617037e-04,  7.10715172e-04, ...,\n",
       "        1.65938244e-04,  8.29752271e-05, -0.00000000e+00], shape=(1001,))"
      ]
     },
     "execution_count": 589,
     "metadata": {},
     "output_type": "execute_result"
    }
   ],
   "source": [
    "Jm_data2"
   ]
  },
  {
   "cell_type": "code",
   "execution_count": 590,
   "metadata": {},
   "outputs": [
    {
     "name": "stderr",
     "output_type": "stream",
     "text": [
      "/var/folders/lr/h2867zhs72gcy61j6_cy0n0r0000gq/T/ipykernel_48389/91403075.py:15: DeprecationWarning: Conversion of an array with ndim > 0 to a scalar is deprecated, and will error in future. Ensure you extract a single element from your array before performing this operation. (Deprecated NumPy 1.25.)\n",
      "  m.vector().set_local(m_values_[d2v]) #uncomment this\n"
     ]
    }
   ],
   "source": [
    "def test_jacobian(k_data, u_true,  J_true, epsilon):\n",
    "    m = dl.Function(Vh[hp.PARAMETER])\n",
    "    u = dl.Function(Vh[hp.STATE])\n",
    "    uadj = dl.Function(Vh[hp.ADJOINT])\n",
    "    dU = u.vector().get_local().shape[0]\n",
    "    dM = m.vector().get_local().shape[0]\n",
    "    error_total = 0\n",
    "    error_div_u =0\n",
    "    # print(\"J_true\\n\", J_true)\n",
    "    m = dl.Function(Vh[hp.PARAMETER])\n",
    "    u = dl.Function(Vh[hp.STATE])\n",
    "    uadj = dl.Function(Vh[hp.ADJOINT])\n",
    "    \n",
    "    m_values_ = 1 + (k_data +epsilon) * mesh.coordinates().copy()\n",
    "    m.vector().set_local(m_values_[d2v]) #uncomment this\n",
    "    \n",
    "    x = [u.vector(),m.vector(),uadj.vector()]\n",
    "    pde.solveFwd(x[hp.STATE], x)\n",
    "\n",
    "    u_data_current = x[hp.STATE].get_local()[cg2]\n",
    "    delta_u  = u_data_current - u_true\n",
    "    error_div_u = error_div_u + np.linalg.norm(delta_u)\n",
    "    #print(delta_u)\n",
    "    Jm_FD_i = (u_data_current - u_true)/epsilon\n",
    "    # print(Jm_FD_i)\n",
    "    error = np.linalg.norm(Jm_FD_i - J_true)\n",
    "    error_total = error_total + error\n",
    "    # error_total = np.linalg.norm(delta_u)\n",
    "    return error_total ,error_div_u\n",
    "        \n",
    "        \n",
    "    \n",
    "epsilon_data = [1e-10, 1e-9, 1e-8, 1e-7,1e-6, 1e-5, 1e-4, 1e-3, 1e-2, 1e-1]\n",
    "#epsilon_data = [1e-8]\n",
    "error_data =[]\n",
    "error_div_u = []\n",
    "for eps in epsilon_data:\n",
    "    #test_jacobian(m_data_=m_data, u_true=u_pde,  J_true=Jm_data, epsilon=eps)\n",
    "    rms, err = test_jacobian(k_data=k, u_true=u_pde,  J_true=Jm_data2, epsilon=eps)\n",
    "    error_data.append(rms)\n",
    "    error_div_u.append(err)"
   ]
  },
  {
   "cell_type": "code",
   "execution_count": 591,
   "metadata": {},
   "outputs": [
    {
     "data": {
      "text/plain": [
       "[<matplotlib.lines.Line2D at 0x1350cba60>]"
      ]
     },
     "execution_count": 591,
     "metadata": {},
     "output_type": "execute_result"
    },
    {
     "data": {
      "image/png": "[encoded data removed]",
      "text/plain": [
       "<Figure size 640x480 with 1 Axes>"
      ]
     },
     "metadata": {},
     "output_type": "display_data"
    }
   ],
   "source": [
    "plt.plot(np.log10(epsilon_data), np.log10(error_div_u)) "
   ]
  },
  {
   "cell_type": "code",
   "execution_count": 592,
   "metadata": {},
   "outputs": [
    {
     "name": "stderr",
     "output_type": "stream",
     "text": [
      "/var/folders/lr/h2867zhs72gcy61j6_cy0n0r0000gq/T/ipykernel_48389/3722972882.py:5: UserWarning: No artists with labels found to put in legend.  Note that artists whose label start with an underscore are ignored when legend() is called with no argument.\n",
      "  plt.legend()\n"
     ]
    },
    {
     "data": {
      "image/png": "[encoded data removed]",
      "text/plain": [
       "<Figure size 640x480 with 1 Axes>"
      ]
     },
     "metadata": {},
     "output_type": "display_data"
    }
   ],
   "source": [
    "plt.plot(np.log10(epsilon_data), np.log10(error_data)) \n",
    "plt.xlabel(\"$\\log_{10} \\epsilon$\")\n",
    "plt.ylabel(\"$\\log_{10}$ error\")\n",
    "plt.title(\"Perturbation vs error\")\n",
    "plt.legend()\n",
    "plt.show()"
   ]
  },
  {
   "cell_type": "markdown",
   "metadata": {},
   "source": [
    "# Trying to verify the result if the paramter of PDE, m is dependent on a vecotor input\n",
    "$$m = k_1 + k_2 x$$"
   ]
  },
  {
   "cell_type": "code",
   "execution_count": 593,
   "metadata": {},
   "outputs": [
    {
     "name": "stderr",
     "output_type": "stream",
     "text": [
      "/var/folders/lr/h2867zhs72gcy61j6_cy0n0r0000gq/T/ipykernel_48389/1411923778.py:46: DeprecationWarning: Conversion of an array with ndim > 0 to a scalar is deprecated, and will error in future. Ensure you extract a single element from your array before performing this operation. (Deprecated NumPy 1.25.)\n",
      "  m.vector().set_local(m_values[d2v]) #uncomment this\n"
     ]
    },
    {
     "data": {
      "text/plain": [
       "array([[-0.00000000e+00, -0.00000000e+00],\n",
       "       [-7.13234074e-04,  3.56617037e-04],\n",
       "       [-1.42143034e-03,  7.10715172e-04],\n",
       "       ...,\n",
       "       [-3.31876488e-04,  1.65938244e-04],\n",
       "       [-1.65950454e-04,  8.29752271e-05],\n",
       "       [-0.00000000e+00, -0.00000000e+00]], shape=(1001, 2))"
      ]
     },
     "execution_count": 593,
     "metadata": {},
     "output_type": "execute_result"
    }
   ],
   "source": [
    "nx =1000 #\n",
    "nodes = nx+1 # Number of nodal point\n",
    "# Create an uniform interval grid of mesh points\n",
    "mesh = dl.IntervalMesh(nx, dl.Constant(0.0), dl.Constant(1.0)) \n",
    "# Define Functional space for the state and parameter variable\n",
    "degree = 2\n",
    "Vh_STATE = dl.FunctionSpace(mesh, \"CG\", degree)\n",
    "Vh_PARAMETER = dl.FunctionSpace(mesh, \"CG\", 1)\n",
    "# Creat a list of Spaces for State, parameter and adjoint\n",
    "Vh = [Vh_STATE, Vh_PARAMETER, Vh_STATE]\n",
    "k = [1,2] # Para\n",
    "#print(mesh.coordinates())\n",
    "coord = mesh.coordinates()\n",
    "\n",
    "m_data = k[0] + k[1] * mesh.coordinates().copy()\n",
    "dm_dk = np.zeros((nodes, len(k)))\n",
    "dm_dk[:,0]  = np.ones(nodes)\n",
    "dm_dk[:,1]  = coord[:,0]\n",
    "#print(\"dm_dk\\n\", dm_dk)\n",
    "d2v = dl.dof_to_vertex_map(Vh[hp.PARAMETER])\n",
    "\n",
    "v2d = dl.vertex_to_dof_map(Vh[hp.PARAMETER])\n",
    "\n",
    "def u_boundary(x, on_boundary):\n",
    "    return on_boundary and ( x[0] < dl.DOLFIN_EPS or x[0] > 1.0 - dl.DOLFIN_EPS)\n",
    "\n",
    "u_bdr = dl.Expression(\"x[0]\", degree=2)\n",
    "u_bdr0 = dl.Constant(0.0)\n",
    "bc = dl.DirichletBC(Vh[hp.STATE], u_bdr, u_boundary)\n",
    "bc0 = dl.DirichletBC(Vh[hp.STATE], u_bdr0, u_boundary)\n",
    "\n",
    "f = dl.Constant(0.0)\n",
    "\n",
    "def pde_varf(u,m,p):\n",
    "    return ufl.inner(m*ufl.grad(u), ufl.grad(p))*ufl.dx - f*p*ufl.dx\n",
    "\n",
    "pde = hp.PDEVariationalProblem(Vh, pde_varf, bc, bc0, is_fwd_linear=True)\n",
    "\n",
    "\n",
    "m = dl.Function(Vh[hp.PARAMETER])\n",
    "\n",
    "u = dl.Function(Vh[hp.STATE])\n",
    "uadj = dl.Function(Vh[hp.ADJOINT])\n",
    "\n",
    "m_values = m_data.copy()\n",
    "m.vector().set_local(m_values[d2v]) #uncomment this\n",
    "\n",
    "x = [u.vector(),m.vector(),uadj.vector()]\n",
    "pde.solveFwd(x[hp.STATE], x)\n",
    "\n",
    "u_data = x[hp.STATE].get_local()\n",
    "\n",
    "u_trial = dl.TrialFunction(Vh[hp.STATE])\n",
    "u_test = dl.TestFunction(Vh[hp.STATE])\n",
    "M = dl.PETScMatrix()\n",
    "M_U = dl.assemble(dl.inner(u_trial,u_test)*dl.dx)\n",
    "\n",
    "I_U = hf.StateSpaceIdentityOperator(M_U)\n",
    "#observable = hf.LinearStateObservable(pde,M_U)\n",
    "observable = hf.LinearStateObservable(pde,I_U)\n",
    "\n",
    "Jm3 = hf.ObservableJacobian(observable)\n",
    "\n",
    "m_trial = dl.TrialFunction(Vh[hp.PARAMETER])\n",
    "m_test = dl.TestFunction(Vh[hp.PARAMETER])\n",
    "\n",
    "M_M = dl.assemble(dl.inner(m_trial,m_test)*dl.dx)\n",
    "\n",
    "global_indices = mesh.topology().global_indices(0)  \n",
    "# the points associated with the DOFs of the CG2 space.\n",
    "dof_coordinates = Vh[hp.STATE].tabulate_dof_coordinates()\n",
    "data_dict = {}\n",
    "cg2=[]\n",
    "for i, values in enumerate(dof_coordinates):\n",
    "    data_dict[str(values)] = [i, u_data[i]]\n",
    "    \n",
    "u_pde_list=[]\n",
    "for values in coord:\n",
    "    cg2.append(data_dict[str(values)][0])\n",
    "    u_pde_list.append(data_dict[str(values)][1])\n",
    "u_pde= np.array(u_pde_list)\n",
    "\n",
    "\n",
    "dU = u.vector().get_local()[cg2].shape[0]\n",
    "dK = len(k)\n",
    "dM = m.vector().get_local().shape[0]\n",
    "# once you have modified the means of c->m(c) comment this\n",
    "\n",
    "uhat = dl.Function(Vh[hp.STATE])\n",
    "m_nodes_hat = dl.Function(Vh[hp.PARAMETER])\n",
    "m_nodes_hat_ = dl.Function(Vh[hp.PARAMETER])\n",
    "Jm_data3 = np.zeros((dU,dK))\n",
    "m_values = m_data.copy()\n",
    "Jm3.observable.setLinearizationPoint(x)\n",
    "m_nodes_hat.vector().set_local(dm_dk[:,0][v2d]) \n",
    "Jm2.mult(m_nodes_hat.vector(), uhat.vector()) \n",
    "Jm_data3[:,0] = uhat.vector().get_local()[cg2]\n",
    "m_nodes_hat.vector().set_local(dm_dk[:,1][v2d]) \n",
    "Jm2.mult(m_nodes_hat.vector(), uhat.vector()) \n",
    "Jm_data3[:,1] = uhat.vector().get_local()[cg2]\n",
    "Jm_data3"
   ]
  },
  {
   "cell_type": "code",
   "execution_count": 594,
   "metadata": {},
   "outputs": [
    {
     "name": "stderr",
     "output_type": "stream",
     "text": [
      "/var/folders/lr/h2867zhs72gcy61j6_cy0n0r0000gq/T/ipykernel_48389/2991254751.py:17: DeprecationWarning: Conversion of an array with ndim > 0 to a scalar is deprecated, and will error in future. Ensure you extract a single element from your array before performing this operation. (Deprecated NumPy 1.25.)\n",
      "  m.vector().set_local(m_values_[d2v]) #uncomment this\n"
     ]
    }
   ],
   "source": [
    "def test_jacobian(k_data, u_true,  J_true, epsilon):\n",
    "    m = dl.Function(Vh[hp.PARAMETER])\n",
    "    u = dl.Function(Vh[hp.STATE])\n",
    "    uadj = dl.Function(Vh[hp.ADJOINT])\n",
    "    dU = u.vector().get_local().shape[0]\n",
    "    dM = m.vector().get_local().shape[0]\n",
    "    error_total = 0\n",
    "    error_div_u =0\n",
    "    # print(\"J_true\\n\", J_true)\n",
    "    m = dl.Function(Vh[hp.PARAMETER])\n",
    "    u = dl.Function(Vh[hp.STATE])\n",
    "    uadj = dl.Function(Vh[hp.ADJOINT])\n",
    "    for i in range(len(k_data)):\n",
    "        k_data_ = k_data.copy()\n",
    "        k_data_[i] = k_data_[i] + epsilon\n",
    "        m_values_ = k_data_[0] + k_data_[1] * mesh.coordinates().copy()\n",
    "        m.vector().set_local(m_values_[d2v]) #uncomment this\n",
    "        x = [u.vector(),m.vector(),uadj.vector()]\n",
    "        pde.solveFwd(x[hp.STATE], x)\n",
    "        u_data_current = x[hp.STATE].get_local()[cg2]\n",
    "        delta_u  = u_data_current - u_true\n",
    "        error_div_u = error_div_u + np.linalg.norm(delta_u)\n",
    "        #print(delta_u)\n",
    "        Jm_FD_i = (u_data_current - u_true)/epsilon\n",
    "        # print(Jm_FD_i)\n",
    "        error = np.linalg.norm(Jm_FD_i - J_true[:,i])\n",
    "        error_total = error_total + error\n",
    "    # error_total = np.linalg.norm(delta_u)\n",
    "    return error_total ,error_div_u\n",
    "        \n",
    "        \n",
    "    \n",
    "epsilon_data = [1e-10, 1e-9, 1e-8, 1e-7,1e-6, 1e-5, 1e-4, 1e-3, 1e-2, 1e-1]\n",
    "#epsilon_data = [1e-8]\n",
    "error_data =[]\n",
    "error_div_u = []\n",
    "for eps in epsilon_data:\n",
    "    #test_jacobian(m_data_=m_data, u_true=u_pde,  J_true=Jm_data, epsilon=eps)\n",
    "    rms, err = test_jacobian(k_data=k, u_true=u_pde,  J_true=Jm_data3, epsilon=eps)\n",
    "    error_data.append(rms)\n",
    "    error_div_u.append(err)"
   ]
  },
  {
   "cell_type": "code",
   "execution_count": 595,
   "metadata": {},
   "outputs": [
    {
     "data": {
      "text/plain": [
       "[<matplotlib.lines.Line2D at 0x134c22530>]"
      ]
     },
     "execution_count": 595,
     "metadata": {},
     "output_type": "execute_result"
    },
    {
     "data": {
      "image/png": "[encoded data removed]",
      "text/plain": [
       "<Figure size 640x480 with 1 Axes>"
      ]
     },
     "metadata": {},
     "output_type": "display_data"
    }
   ],
   "source": [
    "plt.plot(np.log10(epsilon_data), np.log10(error_div_u)) "
   ]
  },
  {
   "cell_type": "code",
   "execution_count": 596,
   "metadata": {},
   "outputs": [
    {
     "name": "stderr",
     "output_type": "stream",
     "text": [
      "/var/folders/lr/h2867zhs72gcy61j6_cy0n0r0000gq/T/ipykernel_48389/3722972882.py:5: UserWarning: No artists with labels found to put in legend.  Note that artists whose label start with an underscore are ignored when legend() is called with no argument.\n",
      "  plt.legend()\n"
     ]
    },
    {
     "data": {
      "image/png": "[encoded data removed]",
      "text/plain": [
       "<Figure size 640x480 with 1 Axes>"
      ]
     },
     "metadata": {},
     "output_type": "display_data"
    }
   ],
   "source": [
    "plt.plot(np.log10(epsilon_data), np.log10(error_data)) \n",
    "plt.xlabel(\"$\\log_{10} \\epsilon$\")\n",
    "plt.ylabel(\"$\\log_{10}$ error\")\n",
    "plt.title(\"Perturbation vs error\")\n",
    "plt.legend()\n",
    "plt.show()"
   ]
  }
 ],
 "metadata": {
  "kernelspec": {
   "display_name": "gempy_dino",
   "language": "python",
   "name": "python3"
  },
  "language_info": {
   "codemirror_mode": {
    "name": "ipython",
    "version": 3
   },
   "file_extension": ".py",
   "mimetype": "text/x-python",
   "name": "python",
   "nbconvert_exporter": "python",
   "pygments_lexer": "ipython3",
   "version": "3.10.13"
  }
 },
 "nbformat": 4,
 "nbformat_minor": 2
}
