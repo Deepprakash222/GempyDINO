{
 "cells": [
  {
   "cell_type": "markdown",
   "metadata": {},
   "source": [
    "# This notebook is to test the implentation of hippylib and hippyflow to solve pde and calculate the jacobian"
   ]
  },
  {
   "cell_type": "code",
   "execution_count": 1,
   "metadata": {},
   "outputs": [
    {
     "name": "stderr",
     "output_type": "stream",
     "text": [
      "/home/jt925938/anaconda3/envs/gempy_dino/lib/python3.10/site-packages/dolfin/jit/jit.py:121: RuntimeWarning: mpi4py.MPI.Session size changed, may indicate binary incompatibility. Expected 32 from C header, got 40 from PyObject\n",
      "  def compile_class(cpp_data, mpi_comm=MPI.comm_world):\n",
      "/home/jt925938/anaconda3/envs/gempy_dino/lib/python3.10/site-packages/dolfin/jit/jit.py:46: RuntimeWarning: mpi4py.MPI.Session size changed, may indicate binary incompatibility. Expected 32 from C header, got 40 from PyObject\n",
      "  if MPI.size(mpi_comm) == 1:\n"
     ]
    }
   ],
   "source": [
    "import json\n",
    "import ufl\n",
    "import dolfin as dl\n",
    "import numpy as np\n",
    "import matplotlib.pyplot as plt\n",
    "#sys.path.append(os.environ.get('HIPPYLIB_PATH', \"../../\"))\n",
    "import hippylib as hp\n",
    "#sys.path.append(os.environ.get('HIPPYFLOW_PATH',\"../../\"))\n",
    "import hippyflow as hf"
   ]
  },
  {
   "cell_type": "markdown",
   "metadata": {},
   "source": [
    "# Let's Define a 1D problem\n",
    "$$ - \\nabla \\cdot(m \\nabla u) =f $$\n",
    "where, $$m = 1 + k x$$ \n",
    "# Weak formulation\n",
    "## Let $v \\in H^1_0(\\Omega)$ be a test function, then find $u \\in H^1(\\Omega)$, such that\n",
    "$$ \\int_{\\Omega} \\nabla \\cdot(m \\nabla u) v d\\Omega + \\int_{\\Omega}f v d\\Omega =0$$\n",
    "As we know that,  $\\nabla \\cdot (v m \\nabla u) = \\nabla \\cdot(m \\nabla u) v + \\nabla v \\cdot(m \\nabla u)$\n",
    "We can get, $$ \\int_{\\Omega} (\\nabla \\cdot (v m \\nabla u) -\\nabla v \\cdot(m \\nabla u))d\\Omega + \\int_{\\Omega}f v d\\Omega =0$$\n",
    "$$ -\\int_{\\Omega} \\nabla v \\cdot(m \\nabla u)d\\Omega  +\\int_{\\Omega} \\nabla \\cdot (v m \\nabla u)d\\Omega + \\int_{\\Omega}f v d\\Omega =0$$\n",
    "Using the divergence rule, we can integrate over the boundary of the domain\n",
    "$$ -\\int_{\\Omega} m \\nabla u \\cdot \\nabla v d\\Omega  +\\int_{\\Gamma}  v m \\nabla u\\cdot n d\\Gamma+ \\int_{\\Omega}f v d\\Omega =0$$\n",
    "We assume that we have on Dirichlet Boundary condtion\n",
    "$$ -\\int_{\\Omega} m \\nabla u \\cdot \\nabla v d\\Omega  +\\int_{\\Gamma_D}  v m \\nabla u\\cdot n d\\Gamma_D+ \\int_{\\Omega}f v d\\Omega =0$$\n",
    "Since $v=0$ at Dirichlet BC, we can simplify the above equation as \n",
    "$$ -\\int_{\\Omega} m \\nabla u \\cdot \\nabla v d\\Omega  + \\int_{\\Omega}f v d\\Omega =0$$\n",
    "If there is no source term, that is $f=0$, we will get\n",
    "$$ \\int_{\\Omega} m \\nabla u \\cdot \\nabla v d\\Omega  =0$$\n",
    "## Strong solution is the weak solution\n",
    "$$\\frac{d}{dx}(m\\frac{du}{dx}) = 0 $$\n",
    "Integrating w.r.t to x and assuming $C_1$ as the integration constant\n",
    "$$\\frac{du}{dx} = \\frac{C_1}{1+kx} $$\n",
    "Integrating again w.r.t to x and assuming $C_2$ as the integration constant\n",
    "$$u= \\frac{C_1}{k} \\ln(1+kx) + C_2 $$\n",
    "Now assuming that $u(0) = 0 $ and $u(1) = 1 $ as the BC, we can get\n",
    "$$u= \\frac{\\ln(1+kx)}{\\ln(1+k)}  $$"
   ]
  },
  {
   "cell_type": "code",
   "execution_count": 2,
   "metadata": {},
   "outputs": [
    {
     "name": "stderr",
     "output_type": "stream",
     "text": [
      "/tmp/jt925938/login23-g-1_133314/ipykernel_61892/2450201765.py:43: DeprecationWarning: Conversion of an array with ndim > 0 to a scalar is deprecated, and will error in future. Ensure you extract a single element from your array before performing this operation. (Deprecated NumPy 1.25.)\n",
      "  m.vector().set_local(m_values[d2v]) #uncomment this\n"
     ]
    }
   ],
   "source": [
    "nx =10 #\n",
    "nodes = nx+1 # Number of nodal point\n",
    "# Create an uniform interval grid of mesh points\n",
    "mesh = dl.IntervalMesh(nx, dl.Constant(0.0), dl.Constant(1.0)) \n",
    "# Define Functional space for the state and parameter variable\n",
    "degree = 2\n",
    "Vh_STATE = dl.FunctionSpace(mesh, \"CG\", degree)\n",
    "Vh_PARAMETER = dl.FunctionSpace(mesh, \"CG\", 1)\n",
    "# Creat a list of Spaces for State, parameter and adjoint\n",
    "Vh = [Vh_STATE, Vh_PARAMETER, Vh_STATE]\n",
    "k = 2 # Para\n",
    "#print(mesh.coordinates())\n",
    "coord = mesh.coordinates()\n",
    "\n",
    "m_data = 1 + k * mesh.coordinates().copy()\n",
    "\n",
    "d2v = dl.dof_to_vertex_map(Vh[hp.PARAMETER])\n",
    "\n",
    "v2d = dl.vertex_to_dof_map(Vh[hp.PARAMETER])\n",
    "\n",
    "def u_boundary(x, on_boundary):\n",
    "    return on_boundary and ( x[0] < dl.DOLFIN_EPS or x[0] > 1.0 - dl.DOLFIN_EPS)\n",
    "\n",
    "u_bdr = dl.Expression(\"x[0]\", degree=2)\n",
    "u_bdr0 = dl.Constant(0.0)\n",
    "bc = dl.DirichletBC(Vh[hp.STATE], u_bdr, u_boundary)\n",
    "bc0 = dl.DirichletBC(Vh[hp.STATE], u_bdr0, u_boundary)\n",
    "\n",
    "f = dl.Constant(0.0)\n",
    "\n",
    "def pde_varf(u,m,p):\n",
    "    return ufl.inner(m*ufl.grad(u), ufl.grad(p))*ufl.dx - f*p*ufl.dx\n",
    "\n",
    "pde = hp.PDEVariationalProblem(Vh, pde_varf, bc, bc0, is_fwd_linear=True)\n",
    "\n",
    "\n",
    "m = dl.Function(Vh[hp.PARAMETER])\n",
    "\n",
    "u = dl.Function(Vh[hp.STATE])\n",
    "uadj = dl.Function(Vh[hp.ADJOINT])\n",
    "\n",
    "m_values = m_data.copy()\n",
    "m.vector().set_local(m_values[d2v]) #uncomment this\n",
    "\n",
    "x = [u.vector(),m.vector(),uadj.vector()]\n",
    "pde.solveFwd(x[hp.STATE], x)\n",
    "\n",
    "u_data = x[hp.STATE].get_local()\n",
    "\n"
   ]
  },
  {
   "cell_type": "code",
   "execution_count": 3,
   "metadata": {},
   "outputs": [],
   "source": [
    "u_trial = dl.TrialFunction(Vh[hp.STATE])\n",
    "u_test = dl.TestFunction(Vh[hp.STATE])\n",
    "M = dl.PETScMatrix()\n",
    "M_U = dl.assemble(dl.inner(u_trial,u_test)*dl.dx)\n",
    "\n",
    "I_U = hf.StateSpaceIdentityOperator(M_U)\n",
    "\n",
    "observable = hf.LinearStateObservable(pde,I_U)\n",
    "\n",
    "Jm = hf.ObservableJacobian(observable)\n",
    "\n",
    "m_trial = dl.TrialFunction(Vh[hp.PARAMETER])\n",
    "m_test = dl.TestFunction(Vh[hp.PARAMETER])\n",
    "\n",
    "M_M = dl.assemble(dl.inner(m_trial,m_test)*dl.dx)"
   ]
  },
  {
   "cell_type": "code",
   "execution_count": 4,
   "metadata": {},
   "outputs": [
    {
     "data": {
      "text/plain": [
       "(numpy.ndarray, (11, 1))"
      ]
     },
     "execution_count": 4,
     "metadata": {},
     "output_type": "execute_result"
    }
   ],
   "source": [
    "u_true = np.log(m_data)/np.log(1+k)\n",
    "type(u_true), u_true.shape #, u_pde.shape"
   ]
  },
  {
   "cell_type": "code",
   "execution_count": 5,
   "metadata": {},
   "outputs": [
    {
     "data": {
      "text/plain": [
       "array([10,  9,  8,  7,  6,  5,  4,  3,  2,  1,  0], dtype=uint64)"
      ]
     },
     "execution_count": 5,
     "metadata": {},
     "output_type": "execute_result"
    }
   ],
   "source": [
    "d2v"
   ]
  },
  {
   "cell_type": "code",
   "execution_count": 6,
   "metadata": {},
   "outputs": [
    {
     "name": "stdout",
     "output_type": "stream",
     "text": [
      "21\n"
     ]
    }
   ],
   "source": [
    "global_indices = mesh.topology().global_indices(0)  \n",
    "# the points associated with the DOFs of the CG2 space.\n",
    "dof_coordinates = Vh[hp.STATE].tabulate_dof_coordinates()\n",
    "# print(\"mesh Coordinates :\")\n",
    "# print(mesh.coordinates())\n",
    "# print(\"Coordinates of CG2 nodes:\")\n",
    "# print(dof_coordinates)\n",
    "N =dof_coordinates.shape[0]\n",
    "print(N)"
   ]
  },
  {
   "cell_type": "code",
   "execution_count": 7,
   "metadata": {},
   "outputs": [
    {
     "name": "stdout",
     "output_type": "stream",
     "text": [
      "[19, 17, 15, 13, 11, 9, 7, 5, 3, 1, 0]\n"
     ]
    }
   ],
   "source": [
    "cg2 = list(range(N-degree, -1, -degree))\n",
    "if cg2[-1]!=0:\n",
    "    cg2.append(0)\n",
    "print(cg2)\n",
    "u_pde = u_data[cg2]"
   ]
  },
  {
   "cell_type": "code",
   "execution_count": 8,
   "metadata": {},
   "outputs": [
    {
     "data": {
      "image/png": "[encoded data removed]",
      "text/plain": [
       "<Figure size 640x480 with 1 Axes>"
      ]
     },
     "metadata": {},
     "output_type": "display_data"
    }
   ],
   "source": [
    "plt.plot(coord, u_true, 'r--',linewidth=0.5, label='True Solution')   # red, dashed, circles\n",
    "plt.plot(coord, u_pde, 'g-.',linewidth=0.5,label='PDE Solution')      # blue, solid, squares\n",
    "\n",
    "plt.xlabel(\"x\")\n",
    "plt.ylabel(\"u(x)\")\n",
    "plt.title(\"Comparison of True and PDE Solutions\")\n",
    "plt.legend()\n",
    "plt.grid(True)\n",
    "plt.show()"
   ]
  },
  {
   "cell_type": "code",
   "execution_count": 9,
   "metadata": {},
   "outputs": [
    {
     "name": "stdout",
     "output_type": "stream",
     "text": [
      "11 11\n",
      "<hippyflow.modeling.jacobian.ObservableJacobian object at 0x14687d61de10>\n"
     ]
    },
    {
     "data": {
      "text/plain": [
       "array([[-0.        , -0.        , -0.        , -0.        , -0.        ,\n",
       "        -0.        , -0.        , -0.        , -0.        , -0.        ,\n",
       "        -0.        ],\n",
       "       [-0.06708679, -0.0499879 ,  0.01557425,  0.01189494,  0.00938282,\n",
       "         0.00759106,  0.0062681 ,  0.00526344,  0.00448251,  0.00386343,\n",
       "         0.001757  ],\n",
       "       [-0.05580058, -0.08895004, -0.02266504,  0.021952  ,  0.01731591,\n",
       "         0.01400923,  0.01156772,  0.00971363,  0.00827242,  0.00712993,\n",
       "         0.00324253],\n",
       "       [-0.046024  , -0.07336549, -0.05369723, -0.00816822,  0.02418787,\n",
       "         0.01956891,  0.01615847,  0.01356857,  0.0115554 ,  0.0099595 ,\n",
       "         0.00452936],\n",
       "       [-0.03740044, -0.05961893, -0.04363593, -0.03332725, -0.00011805,\n",
       "         0.02447289,  0.0202078 ,  0.01696886,  0.01445119,  0.01245536,\n",
       "         0.00566442],\n",
       "       [-0.0296864 , -0.04732221, -0.03463579, -0.02645333, -0.02086659,\n",
       "         0.00446163,  0.02383005,  0.02001053,  0.01704157,  0.01468798,\n",
       "         0.00667976],\n",
       "       [-0.0227082 , -0.03619848, -0.02649417, -0.02023511, -0.01596161,\n",
       "        -0.01291355,  0.00707577,  0.02276206,  0.01938485,  0.01670764,\n",
       "         0.00759826],\n",
       "       [-0.01633761, -0.0260433 , -0.01906145, -0.01455832, -0.01148371,\n",
       "        -0.00929076, -0.00767158,  0.00853399,  0.0215241 ,  0.01855144,\n",
       "         0.00843678],\n",
       "       [-0.01047723, -0.01670144, -0.01222402, -0.00933618, -0.00736445,\n",
       "        -0.00595812, -0.00491975, -0.0041312 ,  0.00929363,  0.02024757,\n",
       "         0.00920814],\n",
       "       [-0.00505136, -0.00805222, -0.00589354, -0.00450123, -0.0035506 ,\n",
       "        -0.00287257, -0.00237195, -0.00199177, -0.00169625,  0.00962322,\n",
       "         0.00992231],\n",
       "       [-0.        , -0.        , -0.        , -0.        , -0.        ,\n",
       "        -0.        , -0.        , -0.        , -0.        , -0.        ,\n",
       "        -0.        ]])"
      ]
     },
     "execution_count": 9,
     "metadata": {},
     "output_type": "execute_result"
    }
   ],
   "source": [
    "\n",
    "dU = u.vector().get_local()[cg2].shape[0]\n",
    "dM = m.vector().get_local().shape[0]\n",
    "# once you have modified the means of c->m(c) comment this\n",
    "print(dU, dM)\n",
    "uhat = dl.Function(Vh[hp.STATE])\n",
    "m_nodes_hat = dl.Function(Vh[hp.PARAMETER])\n",
    "m_nodes_hat_ = dl.Function(Vh[hp.PARAMETER])\n",
    "Jm_data = np.zeros((dU, dM))\n",
    "m_values = m_data.copy()\n",
    "Jm.observable.setLinearizationPoint(x)\n",
    "# observable.setLinearizationPoint(x)\n",
    "# Jm = hf.ObservableJacobian(observable)\n",
    "print(Jm)\n",
    "for component in range(dM):\n",
    "    m_hat = np.zeros((dM))\n",
    "    m_hat[component] = 1\n",
    "    m_nodes_hat.vector().set_local(m_hat[v2d]) \n",
    "    #m_nodes_hat.vector().set_local(M_M.array()[:,component][v2d]) \n",
    "    # M_M.mult(m_nodes_hat.vector(), m_nodes_hat_.vector())\n",
    "    # Jm.mult(m_nodes_hat_.vector(), uhat.vector()) \n",
    "    Jm.mult(m_nodes_hat.vector(), uhat.vector()) \n",
    "    Jm_data[:,component] = uhat.vector().get_local()[cg2]\n",
    "Jm_data"
   ]
  },
  {
   "cell_type": "markdown",
   "metadata": {},
   "source": [
    "# We need to test if du/dm is correct or not"
   ]
  },
  {
   "cell_type": "code",
   "execution_count": null,
   "metadata": {},
   "outputs": [
    {
     "name": "stderr",
     "output_type": "stream",
     "text": [
      "/tmp/jt925938/login23-g-1_133314/ipykernel_61892/1628108422.py:16: DeprecationWarning: Conversion of an array with ndim > 0 to a scalar is deprecated, and will error in future. Ensure you extract a single element from your array before performing this operation. (Deprecated NumPy 1.25.)\n",
      "  m.vector().set_local(m_values_[d2v]) #uncomment this\n"
     ]
    }
   ],
   "source": [
    "def test_jacobian(m_data_, u_true,  J_true, epsilon):\n",
    "    m = dl.Function(Vh[hp.PARAMETER])\n",
    "    u = dl.Function(Vh[hp.STATE])\n",
    "    uadj = dl.Function(Vh[hp.ADJOINT])\n",
    "    dU = u.vector().get_local().shape[0]\n",
    "    dM = m.vector().get_local().shape[0]\n",
    "    error_total = 0\n",
    "    error_div_u =0\n",
    "    # print(\"J_true\\n\", J_true)\n",
    "    for i in range(dM):\n",
    "        m = dl.Function(Vh[hp.PARAMETER])\n",
    "        u = dl.Function(Vh[hp.STATE])\n",
    "        uadj = dl.Function(Vh[hp.ADJOINT])\n",
    "        m_values_ = m_data_.copy()\n",
    "        m_values_[i] = m_values_[i] + epsilon\n",
    "        m.vector().set_local(m_values_[d2v]) #uncomment this\n",
    "        \n",
    "        x = [u.vector(),m.vector(),uadj.vector()]\n",
    "        pde.solveFwd(x[hp.STATE], x)\n",
    "\n",
    "        u_data_current = x[hp.STATE].get_local()[cg2]\n",
    "        delta_u  = u_data_current - u_true\n",
    "        error_div_u = error_div_u + np.linalg.norm(delta_u)\n",
    "        #print(delta_u)\n",
    "        Jm_FD_i = (u_data_current - u_true)/epsilon\n",
    "        # print(Jm_FD_i)\n",
    "        error = np.linalg.norm(Jm_FD_i - J_true[:,i])\n",
    "        error_total = error_total + error\n",
    "    # error_total = np.linalg.norm(delta_u)\n",
    "    return error_total ,error_div_u\n",
    "        \n",
    "        \n",
    "    \n",
    "epsilon_data = [1e-10, 1e-9, 1e-8, 1e-7,1e-6, 1e-5, 1e-4, 1e-3, 1e-2, 1e-1]\n",
    "#epsilon_data = [1e-8]\n",
    "error_data =[]\n",
    "error_div_u = []\n",
    "for eps in epsilon_data:\n",
    "    #test_jacobian(m_data_=m_data, u_true=u_pde,  J_true=Jm_data, epsilon=eps)\n",
    "    rms, err = test_jacobian(m_data_=m_data, u_true=u_pde,  J_true=Jm_data, epsilon=eps)\n",
    "    error_data.append(rms)\n",
    "    error_div_u.append(err)"
   ]
  },
  {
   "cell_type": "code",
   "execution_count": 11,
   "metadata": {},
   "outputs": [
    {
     "data": {
      "text/plain": [
       "([1e-08, 1e-07, 1e-06, 1e-05, 0.0001, 0.001, 0.01, 0.1],\n",
       " [3.7530155421550517e-06,\n",
       "  3.7825955695419154e-07,\n",
       "  2.4586773350749264e-07,\n",
       "  2.5295056277561186e-06,\n",
       "  2.5296119167273786e-05,\n",
       "  0.0002528531015276888,\n",
       "  0.002517639630844044,\n",
       "  0.024142857332911348])"
      ]
     },
     "execution_count": 11,
     "metadata": {},
     "output_type": "execute_result"
    }
   ],
   "source": [
    "epsilon_data , error_data"
   ]
  },
  {
   "cell_type": "code",
   "execution_count": 12,
   "metadata": {},
   "outputs": [
    {
     "data": {
      "text/plain": [
       "[<matplotlib.lines.Line2D at 0x14687d0089a0>]"
      ]
     },
     "execution_count": 12,
     "metadata": {},
     "output_type": "execute_result"
    },
    {
     "data": {
      "image/png": "[encoded data removed]",
      "text/plain": [
       "<Figure size 640x480 with 1 Axes>"
      ]
     },
     "metadata": {},
     "output_type": "display_data"
    }
   ],
   "source": [
    "plt.plot(np.log10(epsilon_data), np.log10(error_div_u)) "
   ]
  },
  {
   "cell_type": "code",
   "execution_count": 13,
   "metadata": {},
   "outputs": [
    {
     "data": {
      "text/plain": [
       "[<matplotlib.lines.Line2D at 0x14687d0649a0>]"
      ]
     },
     "execution_count": 13,
     "metadata": {},
     "output_type": "execute_result"
    },
    {
     "data": {
      "image/png": "[encoded data removed]",
      "text/plain": [
       "<Figure size 640x480 with 1 Axes>"
      ]
     },
     "metadata": {},
     "output_type": "display_data"
    }
   ],
   "source": [
    "plt.plot(np.log10(epsilon_data), np.log10(error_data)) "
   ]
  }
 ],
 "metadata": {
  "kernelspec": {
   "display_name": "gempy_dino",
   "language": "python",
   "name": "python3"
  },
  "language_info": {
   "codemirror_mode": {
    "name": "ipython",
    "version": 3
   },
   "file_extension": ".py",
   "mimetype": "text/x-python",
   "name": "python",
   "nbconvert_exporter": "python",
   "pygments_lexer": "ipython3",
   "version": "3.10.13"
  }
 },
 "nbformat": 4,
 "nbformat_minor": 2
}
