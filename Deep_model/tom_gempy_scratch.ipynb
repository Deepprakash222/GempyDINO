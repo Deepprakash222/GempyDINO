{
 "cells": [
  {
   "cell_type": "code",
   "execution_count": 1,
   "id": "120bc1fe-29ac-4e80-ac70-7a2d1a23a5cc",
   "metadata": {},
   "outputs": [
    {
     "name": "stderr",
     "output_type": "stream",
     "text": [
      "/home/jt925938/anaconda3/envs/gempy_dino/lib/python3.10/site-packages/dolfin/jit/jit.py:121: RuntimeWarning: mpi4py.MPI.Session size changed, may indicate binary incompatibility. Expected 32 from C header, got 40 from PyObject\n",
      "  def compile_class(cpp_data, mpi_comm=MPI.comm_world):\n",
      "/home/jt925938/anaconda3/envs/gempy_dino/lib/python3.10/site-packages/dolfin/jit/jit.py:46: RuntimeWarning: mpi4py.MPI.Session size changed, may indicate binary incompatibility. Expected 32 from C header, got 40 from PyObject\n",
      "  if MPI.size(mpi_comm) == 1:\n"
     ]
    },
    {
     "name": "stdout",
     "output_type": "stream",
     "text": [
      "Setting Backend To: AvailableBackends.numpy\n"
     ]
    },
    {
     "name": "stderr",
     "output_type": "stream",
     "text": [
      "/home/jt925938/anaconda3/envs/gempy_dino/lib/python3.10/site-packages/tqdm/auto.py:21: TqdmWarning: IProgress not found. Please update jupyter and ipywidgets. See https://ipywidgets.readthedocs.io/en/stable/user_install.html\n",
      "  from .autonotebook import tqdm as notebook_tqdm\n"
     ]
    }
   ],
   "source": [
    "import os,sys\n",
    "\n",
    "import ufl\n",
    "import dolfin as dl\n",
    "\n",
    "#sys.path.append(os.environ.get('HIPPYLIB_PATH'))\n",
    "sys.path.append(os.environ.get('HIPPYLIB_PATH', \"../../\"))\n",
    "import hippylib as hp\n",
    "sys.path.append(os.environ.get('HIPPYFLOW_PATH'))\n",
    "import hippyflow as hf\n",
    "\n",
    "import torch\n",
    "\n",
    "import gempy as gp\n",
    "import gempy_engine\n",
    "import gempy_viewer as gpv\n",
    "from gempy_engine.core.backend_tensor import BackendTensor\n",
    "from gempy_probability.plot_posterior import default_red, default_blue, PlotPosterior\n",
    "\n",
    "from helpers import *\n",
    "from generate_samples import *"
   ]
  },
  {
   "cell_type": "markdown",
   "id": "5d1f8b2d-77b4-4ee9-9e6e-53f72e21e728",
   "metadata": {},
   "source": [
    "## Set up the gempy model"
   ]
  },
  {
   "cell_type": "code",
   "execution_count": null,
   "id": "5a710d67-4af6-47ee-9d79-3a99009307ec",
   "metadata": {},
   "outputs": [
    {
     "ename": "NameError",
     "evalue": "name 'create_initial_gempy_model_3_layer' is not defined",
     "output_type": "error",
     "traceback": [
      "\u001b[0;31m---------------------------------------------------------------------------\u001b[0m",
      "\u001b[0;31mNameError\u001b[0m                                 Traceback (most recent call last)",
      "Cell \u001b[0;32mIn[1], line 1\u001b[0m\n\u001b[0;32m----> 1\u001b[0m geo_model_test \u001b[38;5;241m=\u001b[39m \u001b[43mcreate_initial_gempy_model_3_layer\u001b[49m(refinement\u001b[38;5;241m=\u001b[39m\u001b[38;5;241m7\u001b[39m, save\u001b[38;5;241m=\u001b[39m\u001b[38;5;28;01mTrue\u001b[39;00m)\n",
      "\u001b[0;31mNameError\u001b[0m: name 'create_initial_gempy_model_3_layer' is not defined"
     ]
    },
    {
     "ename": "",
     "evalue": "",
     "output_type": "error",
     "traceback": [
      "\u001b[1;31mnotebook controller is DISPOSED. \n",
      "\u001b[1;31mView Jupyter <a href='command:jupyter.viewOutput'>log</a> for further details."
     ]
    }
   ],
   "source": [
    "geo_model_test = create_initial_gempy_model_3_layer(refinement=7, save=True)"
   ]
  },
  {
   "cell_type": "markdown",
   "id": "36cd4506-2417-4247-b2d5-effd3097b99e",
   "metadata": {},
   "source": [
    "## Set up the function spaces"
   ]
  },
  {
   "cell_type": "code",
   "execution_count": null,
   "id": "c4399704-2fd6-45aa-86ed-cf6878f1ce51",
   "metadata": {},
   "outputs": [
    {
     "ename": "",
     "evalue": "",
     "output_type": "error",
     "traceback": [
      "\u001b[1;31mnotebook controller is DISPOSED. \n",
      "\u001b[1;31mView Jupyter <a href='command:jupyter.viewOutput'>log</a> for further details."
     ]
    }
   ],
   "source": [
    "nx = 10; ny = 10;\n",
    "mesh = dl.RectangleMesh(dl.Point(0.0, 0.0), dl.Point(1.0, 1.0), nx, ny)\n",
    "Vh_STATE = dl.FunctionSpace(mesh, \"CG\", 2)\n",
    "Vh_PARAMETER = dl.FunctionSpace(mesh, \"CG\", 1)\n",
    "Vh = [Vh_STATE, Vh_PARAMETER, Vh_STATE]\n"
   ]
  },
  {
   "cell_type": "markdown",
   "id": "809a3ffa-22df-4c75-81c5-62915dabc4de",
   "metadata": {},
   "source": [
    "## Evaluate the gempy m on a grid"
   ]
  },
  {
   "cell_type": "code",
   "execution_count": null,
   "id": "a9568412-919e-435d-9480-7da215aee318",
   "metadata": {},
   "outputs": [
    {
     "name": "stdout",
     "output_type": "stream",
     "text": [
      "Active grids: GridTypes.DENSE|CUSTOM|NONE\n"
     ]
    },
    {
     "ename": "",
     "evalue": "",
     "output_type": "error",
     "traceback": [
      "\u001b[1;31mnotebook controller is DISPOSED. \n",
      "\u001b[1;31mView Jupyter <a href='command:jupyter.viewOutput'>log</a> for further details."
     ]
    }
   ],
   "source": [
    "loaded_array = mesh.coordinates()\n",
    "#print(loaded_array)\n",
    "if loaded_array.shape[1]==2:\n",
    "    xyz_coord = np.insert(loaded_array, 1, 0, axis=1)\n",
    "elif loaded_array.shape[1]==3:\n",
    "    xyz_coord = loaded_array\n",
    "gp.set_custom_grid(geo_model_test.grid, xyz_coord=xyz_coord)\n",
    "geo_model_test.interpolation_options.mesh_extraction = False"
   ]
  },
  {
   "cell_type": "code",
   "execution_count": null,
   "id": "b6610284-798c-4038-a466-a928e5d2177f",
   "metadata": {},
   "outputs": [
    {
     "name": "stdout",
     "output_type": "stream",
     "text": [
      "Setting Backend To: AvailableBackends.numpy\n",
      "Chunking done: 12 chunks\n",
      "Chunking done: 12 chunks\n"
     ]
    },
    {
     "ename": "",
     "evalue": "",
     "output_type": "error",
     "traceback": [
      "\u001b[1;31mnotebook controller is DISPOSED. \n",
      "\u001b[1;31mView Jupyter <a href='command:jupyter.viewOutput'>log</a> for further details."
     ]
    }
   ],
   "source": [
    "###############################################################################\n",
    "# Solve the gempy to compute the model\n",
    "###############################################################################\n",
    "sol = gp.compute_model(geo_model_test)\n",
    "m_values = geo_model_test.solutions.octrees_output[0].last_output_center.custom_grid_values"
   ]
  },
  {
   "cell_type": "markdown",
   "id": "4bc8ec69-6967-4aec-bda7-305008998691",
   "metadata": {},
   "source": [
    "## Plotting m in its pixel basis"
   ]
  },
  {
   "cell_type": "code",
   "execution_count": null,
   "id": "c712fa95-d81f-4a77-b2fe-2ed8f1f1941c",
   "metadata": {},
   "outputs": [
    {
     "data": {
      "image/png": "[encoded data removed]",
      "text/plain": [
       "<Figure size 300x300 with 1 Axes>"
      ]
     },
     "metadata": {},
     "output_type": "display_data"
    },
    {
     "ename": "",
     "evalue": "",
     "output_type": "error",
     "traceback": [
      "\u001b[1;31mnotebook controller is DISPOSED. \n",
      "\u001b[1;31mView Jupyter <a href='command:jupyter.viewOutput'>log</a> for further details."
     ]
    }
   ],
   "source": [
    "plt.imshow(m_values.reshape((nx+1,ny+1)),origin = 'lower',cmap='binary')\n",
    "plt.axis(\"off\")\n",
    "fig = plt.gcf()\n",
    "fig.set_size_inches(1, 1)\n",
    "plt.gca().set_xticklabels([])\n",
    "plt.gca().set_yticklabels([])\n",
    "plt.tick_params(axis='both', which='both', bottom=False, top=False, left=False, right=False, labelbottom=False, labelleft=False)\n"
   ]
  },
  {
   "cell_type": "markdown",
   "id": "d5f0b675-2541-4bb3-aac5-0a8187f1386e",
   "metadata": {},
   "source": [
    "## As a function"
   ]
  },
  {
   "cell_type": "code",
   "execution_count": null,
   "id": "3edee56e-28d9-49ac-a171-a47859b15456",
   "metadata": {},
   "outputs": [
    {
     "data": {
      "image/png": "[encoded data removed]",
      "text/plain": [
       "<Figure size 300x300 with 1 Axes>"
      ]
     },
     "metadata": {},
     "output_type": "display_data"
    },
    {
     "ename": "",
     "evalue": "",
     "output_type": "error",
     "traceback": [
      "\u001b[1;31mnotebook controller is DISPOSED. \n",
      "\u001b[1;31mView Jupyter <a href='command:jupyter.viewOutput'>log</a> for further details."
     ]
    }
   ],
   "source": [
    "d2v = dl.dof_to_vertex_map(Vh[hp.PARAMETER])\n",
    "v2d = dl.vertex_to_dof_map(Vh[hp.PARAMETER])\n",
    "\n",
    "m = dl.Function(Vh[hp.PARAMETER])\n",
    "m.vector().set_local(m_values[d2v])\n",
    "plt.axis(\"off\")\n",
    "dl.plot(m)\n",
    "fig = plt.gcf()\n",
    "fig.set_size_inches(1, 1)"
   ]
  },
  {
   "cell_type": "markdown",
   "id": "55f8a0f8-ea09-417d-b417-736a7a87c371",
   "metadata": {},
   "source": [
    "## Poisson PDE"
   ]
  },
  {
   "cell_type": "code",
   "execution_count": null,
   "id": "4dbbd68e-b5e7-4120-9934-70d72adaaa0a",
   "metadata": {},
   "outputs": [
    {
     "ename": "",
     "evalue": "",
     "output_type": "error",
     "traceback": [
      "\u001b[1;31mnotebook controller is DISPOSED. \n",
      "\u001b[1;31mView Jupyter <a href='command:jupyter.viewOutput'>log</a> for further details."
     ]
    }
   ],
   "source": [
    "def u_boundary(x, on_boundary):\n",
    "    return on_boundary and ( x[1] < dl.DOLFIN_EPS or x[1] > 1.0 - dl.DOLFIN_EPS)\n",
    "\n",
    "u_bdr = dl.Expression(\"x[1]\", degree=1)\n",
    "u_bdr0 = dl.Constant(0.0)\n",
    "bc = dl.DirichletBC(Vh[hp.STATE], u_bdr, u_boundary)\n",
    "bc0 = dl.DirichletBC(Vh[hp.STATE], u_bdr0, u_boundary)\n",
    "\n",
    "f = dl.Constant(0.0)\n",
    "\n",
    "def pde_varf(u,m,p):\n",
    "    return m*ufl.inner(ufl.grad(u), ufl.grad(p))*ufl.dx - f*p*ufl.dx\n",
    "\n",
    "pde = hp.PDEVariationalProblem(Vh, pde_varf, bc, bc0, is_fwd_linear=True)"
   ]
  },
  {
   "cell_type": "markdown",
   "id": "a4210613-ce99-4d95-95c3-d2ca74582b79",
   "metadata": {},
   "source": [
    "## Instance input output observable class"
   ]
  },
  {
   "cell_type": "code",
   "execution_count": null,
   "id": "58b33761-8323-4412-8d5c-4d0545d253d5",
   "metadata": {},
   "outputs": [
    {
     "ename": "",
     "evalue": "",
     "output_type": "error",
     "traceback": [
      "\u001b[1;31mnotebook controller is DISPOSED. \n",
      "\u001b[1;31mView Jupyter <a href='command:jupyter.viewOutput'>log</a> for further details."
     ]
    }
   ],
   "source": [
    "u_trial = dl.TrialFunction(Vh[hp.STATE])\n",
    "u_test = dl.TestFunction(Vh[hp.STATE])\n",
    "\n",
    "M_U = dl.assemble(dl.inner(u_trial,u_test)*dl.dx)\n",
    "\n",
    "I_U = hf.StateSpaceIdentityOperator(M_U)\n",
    "\n",
    "observable = hf.LinearStateObservable(pde,M_U)\n",
    "\n",
    "Jm = hf.ObservableJacobian(observable)"
   ]
  },
  {
   "cell_type": "markdown",
   "id": "b82047d0-440b-4ae7-bfd1-8fbf6c1926d7",
   "metadata": {},
   "source": [
    "## Sensitivities of m wrt coefficients\n",
    "\n",
    "Suppose $m$ is a function of some finite dimensional coefficients $c \\in \\mathbb{R}^{d_c}$\n",
    "\n",
    "Deep, please extract the matrix \n",
    "\n",
    "$$ \\frac{dm}{dc} \\in \\mathbb{R}^{d_M\\times d_c} $$\n",
    "\n",
    "Then we can get the Jacobian with respect to $c$ as \n",
    "\n",
    "$$ \\frac{du}{dc} = \\frac{du}{dm}\\frac{dm}{dc} = - \\left[\\frac{\\partial R}{\\partial u}\\right]^{-1}\\frac{\\partial R}{\\partial m} \\frac{dm}{dc} $$"
   ]
  },
  {
   "cell_type": "code",
   "execution_count": null,
   "id": "b5b7e7fa-a326-4511-ac39-7643093e7b90",
   "metadata": {},
   "outputs": [
    {
     "ename": "",
     "evalue": "",
     "output_type": "error",
     "traceback": [
      "\u001b[1;31mnotebook controller is DISPOSED. \n",
      "\u001b[1;31mView Jupyter <a href='command:jupyter.viewOutput'>log</a> for further details."
     ]
    }
   ],
   "source": [
    "dM = m_values.shape[0]\n",
    "dc = 2\n",
    "cs = np.random.rand(dc)"
   ]
  },
  {
   "cell_type": "code",
   "execution_count": null,
   "id": "6f47a468-2dc1-4329-8dd1-65dd04830a84",
   "metadata": {},
   "outputs": [
    {
     "ename": "",
     "evalue": "",
     "output_type": "error",
     "traceback": [
      "\u001b[1;31mnotebook controller is DISPOSED. \n",
      "\u001b[1;31mView Jupyter <a href='command:jupyter.viewOutput'>log</a> for further details."
     ]
    }
   ],
   "source": [
    "cs_torch = torch.tensor(cs)"
   ]
  },
  {
   "cell_type": "code",
   "execution_count": null,
   "id": "9d732d5a-1f42-4b8c-98ed-9495e2fb2e8f",
   "metadata": {},
   "outputs": [
    {
     "ename": "",
     "evalue": "",
     "output_type": "error",
     "traceback": [
      "\u001b[1;31mnotebook controller is DISPOSED. \n",
      "\u001b[1;31mView Jupyter <a href='command:jupyter.viewOutput'>log</a> for further details."
     ]
    }
   ],
   "source": []
  },
  {
   "cell_type": "code",
   "execution_count": null,
   "id": "225672a0-1c90-454e-803d-77c6b5e05ced",
   "metadata": {},
   "outputs": [
    {
     "ename": "",
     "evalue": "",
     "output_type": "error",
     "traceback": [
      "\u001b[1;31mnotebook controller is DISPOSED. \n",
      "\u001b[1;31mView Jupyter <a href='command:jupyter.viewOutput'>log</a> for further details."
     ]
    }
   ],
   "source": [
    "sp_coords_copy_test = geo_model_test.interpolation_input.surface_points.sp_coords.copy()\n",
    "###############################################################################\n",
    "# Make a list of gempy parameter which would be treated as a random variable\n",
    "###############################################################################\n",
    "dtype =torch.float64\n",
    "test_list=[]\n",
    "test_list.append({\"update\":\"interface_data\",\"id\":torch.tensor([1]), \"direction\":\"Z\", \"prior_distribution\":\"normal\",\"normal\":{\"mean\":torch.tensor(sp_coords_copy_test[1,2],dtype=dtype), \"std\":torch.tensor(0.06,dtype=dtype)}})\n",
    "test_list.append({\"update\":\"interface_data\",\"id\":torch.tensor([4]), \"direction\":\"Z\", \"prior_distribution\":\"normal\",\"normal\":{\"mean\":torch.tensor(sp_coords_copy_test[4,2],dtype=dtype), \"std\":torch.tensor(0.06,dtype=dtype)}})\n",
    "\n",
    "num_layers = len(test_list) # length of the list\n",
    "\n",
    "Gempy = GempyModel(test_list, geo_model_test, num_layers, dtype=torch.float64)\n",
    "\n",
    "c = Gempy.GenerateInputSamples(number_samples=1)\n",
    "m_data, dmdc_data = Gempy.GenerateOutputSamples(Inputs_samples=c)"
   ]
  },
  {
   "cell_type": "code",
   "execution_count": null,
   "id": "04fe9d2e-63c6-44d9-b0bb-d72e2ec89a0a",
   "metadata": {},
   "outputs": [
    {
     "ename": "",
     "evalue": "",
     "output_type": "error",
     "traceback": [
      "\u001b[1;31mnotebook controller is DISPOSED. \n",
      "\u001b[1;31mView Jupyter <a href='command:jupyter.viewOutput'>log</a> for further details."
     ]
    }
   ],
   "source": [
    "# Pretending this random vector is the dm/dc Jacobian.\n",
    "dmdc = np.random.randn(dM,dc)"
   ]
  },
  {
   "cell_type": "code",
   "execution_count": null,
   "id": "10a1315e-333e-44fe-a5a6-9ad07910ea32",
   "metadata": {},
   "outputs": [
    {
     "ename": "",
     "evalue": "",
     "output_type": "error",
     "traceback": [
      "\u001b[1;31mnotebook controller is DISPOSED. \n",
      "\u001b[1;31mView Jupyter <a href='command:jupyter.viewOutput'>log</a> for further details."
     ]
    }
   ],
   "source": [
    "# Compute the action of Jm on dm/dc one column at a time:\n",
    "\n",
    "# First we need to solve and set the linearization point:\n",
    "\n",
    "u = dl.Function(Vh[hp.STATE])\n",
    "uadj = dl.Function(Vh[hp.ADJOINT])\n",
    "x = [u.vector(),m.vector(),uadj.vector()]\n",
    "\n",
    "# x = [pde.generate_state(),pde.generate_parameter(),None]\n",
    "# x[hp.PARAMETER].zero()\n",
    "# x[hp.PARAMETER].axpy(1,m.vector())\n",
    "\n",
    "pde.solveFwd(x[hp.STATE], x)\n",
    "\n",
    "Jm.observable.setLinearizationPoint(x)\n",
    "\n",
    "uhat = dl.Function(Vh[hp.STATE])\n",
    "mhat = dl.Function(Vh[hp.PARAMETER])\n",
    "\n",
    "dU = uhat.vector().get_local().shape[0]\n",
    "Jc = np.zeros((dU,dc))\n",
    "\n",
    "for i in range(dc):\n",
    "    mhat.vector().set_local(dmdc[:,i])\n",
    "    Jm.mult(mhat.vector(),uhat.vector())\n",
    "    Jc[:,i] = uhat.vector().get_local()\n"
   ]
  },
  {
   "cell_type": "markdown",
   "id": "06217036-68ed-4198-8c37-3f7a64a493c3",
   "metadata": {},
   "source": [
    "## Plot some output sensitivities"
   ]
  },
  {
   "cell_type": "code",
   "execution_count": null,
   "id": "f3dc48c3-5df7-4974-87fc-86e470ac73ac",
   "metadata": {},
   "outputs": [
    {
     "ename": "",
     "evalue": "",
     "output_type": "error",
     "traceback": [
      "\u001b[1;31mnotebook controller is DISPOSED. \n",
      "\u001b[1;31mView Jupyter <a href='command:jupyter.viewOutput'>log</a> for further details."
     ]
    }
   ],
   "source": [
    "\n",
    "for i in range(dc):\n",
    "    uhat.vector().zero()\n",
    "    print(80*'#')\n",
    "    print('Mode ',i)\n",
    "    uhat.vector().set_local(Jc[:,i])\n",
    "    plt.axis(\"off\")\n",
    "    dl.plot(m)\n",
    "    fig = plt.gcf()\n",
    "    fig.set_size_inches(1, 1)\n",
    "    plt.show()"
   ]
  },
  {
   "cell_type": "code",
   "execution_count": null,
   "id": "eb1eb025-7fcc-4818-8a69-30f98205152f",
   "metadata": {},
   "outputs": [
    {
     "ename": "",
     "evalue": "",
     "output_type": "error",
     "traceback": [
      "\u001b[1;31mnotebook controller is DISPOSED. \n",
      "\u001b[1;31mView Jupyter <a href='command:jupyter.viewOutput'>log</a> for further details."
     ]
    }
   ],
   "source": []
  }
 ],
 "metadata": {
  "kernelspec": {
   "display_name": "gempy_dino",
   "language": "python",
   "name": "python3"
  },
  "language_info": {
   "codemirror_mode": {
    "name": "ipython",
    "version": 3
   },
   "file_extension": ".py",
   "mimetype": "text/x-python",
   "name": "python",
   "nbconvert_exporter": "python",
   "pygments_lexer": "ipython3",
   "version": "3.10.13"
  }
 },
 "nbformat": 4,
 "nbformat_minor": 5
}
