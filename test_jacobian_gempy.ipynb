{
 "cells": [
  {
   "cell_type": "code",
   "execution_count": 2,
   "metadata": {},
   "outputs": [],
   "source": [
    "import torch\n",
    "from torch.func import jacrev\n",
    "x = torch.randn(5)\n",
    "def f(x):\n",
    "   return x.sin()\n",
    "\n",
    "def g(x):\n",
    "   result = f(x)\n",
    "   return result, result\n",
    "\n",
    "jacobian_f, f_x = jacrev(g, has_aux=True)(x)\n",
    "assert torch.allclose(f_x, f(x))"
   ]
  },
  {
   "cell_type": "code",
   "execution_count": 4,
   "metadata": {},
   "outputs": [
    {
     "data": {
      "text/plain": [
       "tensor([[ 0.7409, -0.0000,  0.0000,  0.0000,  0.0000],\n",
       "        [ 0.0000, -0.6082,  0.0000,  0.0000,  0.0000],\n",
       "        [ 0.0000, -0.0000,  0.9867,  0.0000,  0.0000],\n",
       "        [ 0.0000, -0.0000,  0.0000,  0.9156,  0.0000],\n",
       "        [ 0.0000, -0.0000,  0.0000,  0.0000,  0.0658]])"
      ]
     },
     "execution_count": 4,
     "metadata": {},
     "output_type": "execute_result"
    }
   ],
   "source": [
    "jacobian_f"
   ]
  }
 ],
 "metadata": {
  "kernelspec": {
   "display_name": "gempy_dino",
   "language": "python",
   "name": "python3"
  },
  "language_info": {
   "codemirror_mode": {
    "name": "ipython",
    "version": 3
   },
   "file_extension": ".py",
   "mimetype": "text/x-python",
   "name": "python",
   "nbconvert_exporter": "python",
   "pygments_lexer": "ipython3",
   "version": "3.10.13"
  }
 },
 "nbformat": 4,
 "nbformat_minor": 2
}
