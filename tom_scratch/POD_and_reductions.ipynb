{
 "cells": [
  {
   "cell_type": "code",
   "execution_count": 26,
   "id": "deac4f72-faff-4f2a-b1b8-3d3e639a91e8",
   "metadata": {},
   "outputs": [],
   "source": [
    "import os,sys\n",
    "\n",
    "import ufl\n",
    "import dolfin as dl\n",
    "\n",
    "sys.path.append(os.environ.get('HIPPYLIB_PATH', \"../../\"))\n",
    "import hippylib as hp\n",
    "sys.path.append(os.environ.get('HIPPYFLOW_PATH'))\n",
    "import hippyflow as hf\n",
    "\n",
    "import torch\n",
    "\n",
    "import gempy as gp\n",
    "import gempy_engine\n",
    "import gempy_viewer as gpv\n",
    "from gempy_engine.core.backend_tensor import BackendTensor\n",
    "from gempy_probability.plot_posterior import default_red, default_blue, PlotPosterior\n",
    "\n",
    "from helpers import *\n",
    "from generate_samples import *\n",
    "from train_nn import *"
   ]
  },
  {
   "cell_type": "markdown",
   "id": "fcf3966f-78b4-4c07-96f6-c48968b10332",
   "metadata": {},
   "source": [
    "## Setup gempy model"
   ]
  },
  {
   "cell_type": "code",
   "execution_count": 27,
   "id": "dada92e6-d084-46ea-8771-ef886437c7c7",
   "metadata": {},
   "outputs": [
    {
     "name": "stdout",
     "output_type": "stream",
     "text": [
      "Setting Backend To: AvailableBackends.numpy\n"
     ]
    },
    {
     "name": "stderr",
     "output_type": "stream",
     "text": [
      "/home/jt925938/anaconda3/envs/gempy_dino/lib/python3.10/site-packages/gempy/core/data/geo_model.py:164: UserWarning: You are using refinement and passing a regular grid. The resolution of the regular grid will be overwritten\n",
      "  warnings.warn(\n"
     ]
    }
   ],
   "source": [
    "geo_model_test = create_initial_gempy_model_3_layer(refinement=7, save=True)\n"
   ]
  },
  {
   "cell_type": "markdown",
   "id": "116fbb39-cca4-4a8f-a4f8-27c822b5ffee",
   "metadata": {},
   "source": [
    "## Setup the problem"
   ]
  },
  {
   "cell_type": "code",
   "execution_count": 28,
   "id": "b8c93511-f0d9-40aa-b6c2-5483c553e838",
   "metadata": {},
   "outputs": [
    {
     "name": "stdout",
     "output_type": "stream",
     "text": [
      "Active grids: ['custom']\n"
     ]
    }
   ],
   "source": [
    "nx = 15; ny = 15\n",
    "mesh = dl.RectangleMesh(dl.Point(0.0, 0.0), dl.Point(1.0, 1.0), nx, ny)\n",
    "Vh_STATE = dl.FunctionSpace(mesh, \"CG\", 2)\n",
    "Vh_PARAMETER = dl.FunctionSpace(mesh, \"CG\", 1)\n",
    "Vh = [Vh_STATE, Vh_PARAMETER, Vh_STATE]\n",
    "\n",
    "d2v = dl.dof_to_vertex_map(Vh[hp.PARAMETER])\n",
    "v2d = dl.vertex_to_dof_map(Vh[hp.PARAMETER])\n",
    "\n",
    "\n",
    "def u_boundary(x, on_boundary):\n",
    "    return on_boundary and ( x[1] < dl.DOLFIN_EPS or x[1] > 1.0 - dl.DOLFIN_EPS)\n",
    "\n",
    "u_bdr = dl.Expression(\"x[1]\", degree=1)\n",
    "u_bdr0 = dl.Constant(0.0)\n",
    "bc = dl.DirichletBC(Vh[hp.STATE], u_bdr, u_boundary)\n",
    "bc0 = dl.DirichletBC(Vh[hp.STATE], u_bdr0, u_boundary)\n",
    "\n",
    "f = dl.Constant(0.0)\n",
    "\n",
    "def pde_varf(u,m,p):\n",
    "    return m*ufl.inner(ufl.grad(u), ufl.grad(p))*ufl.dx - f*p*ufl.dx\n",
    "\n",
    "pde = hp.PDEVariationalProblem(Vh, pde_varf, bc, bc0, is_fwd_linear=True)\n",
    "\n",
    "\n",
    "# GEMPY VERTEX MAPPING\n",
    "loaded_array = mesh.coordinates()\n",
    "\n",
    "if loaded_array.shape[1]==2:\n",
    "    xyz_coord = np.insert(loaded_array, 1, 0, axis=1)\n",
    "elif loaded_array.shape[1]==3:\n",
    "    xyz_coord = loaded_array\n",
    "gp.set_custom_grid(geo_model_test.grid, xyz_coord=xyz_coord)\n",
    "geo_model_test.interpolation_options.mesh_extraction = False"
   ]
  },
  {
   "cell_type": "markdown",
   "id": "da26c673-04b1-4a4f-be17-5f63e2e539c3",
   "metadata": {},
   "source": [
    "## Generate samples of the state.\n",
    "\n",
    "\n",
    "NOTE I AM USING A SIMPLE MPI RANK PROCESS SO THE ARRAY OPERATION `.get_local()` MAY NEED TO BE MODIFIED IN AN MPI PARALLEL CONTEXT. HOWEVER FOR PROBLEMS THAT ARE THIS SMALL THERE IS NO JUSTIFICATION FOR MPI PARALLELISM FOR THE MESH"
   ]
  },
  {
   "cell_type": "code",
   "execution_count": null,
   "id": "9e025629",
   "metadata": {},
   "outputs": [
    {
     "name": "stdout",
     "output_type": "stream",
     "text": [
      "Setting Backend To: AvailableBackends.PYTORCH\n",
      "Condition number: 3270.8855697435865.\n"
     ]
    }
   ],
   "source": [
    "sp_coords_copy_test = geo_model_test.interpolation_input.surface_points.sp_coords.copy()\n",
    "###############################################################################\n",
    "# Make a list of gempy parameter which would be treated as a random variable\n",
    "###############################################################################\n",
    "dtype =torch.float64\n",
    "test_list=[]\n",
    "test_list.append({\"update\":\"interface_data\",\"id\":torch.tensor([1]), \"direction\":\"Z\", \"prior_distribution\":\"normal\",\"normal\":{\"mean\":torch.tensor(sp_coords_copy_test[1,2],dtype=dtype), \"std\":torch.tensor(0.06,dtype=dtype)}})\n",
    "test_list.append({\"update\":\"interface_data\",\"id\":torch.tensor([4]), \"direction\":\"Z\", \"prior_distribution\":\"normal\",\"normal\":{\"mean\":torch.tensor(sp_coords_copy_test[4,2],dtype=dtype), \"std\":torch.tensor(0.06,dtype=dtype)}})\n",
    "\n",
    "num_layers = len(test_list) # length of the list\n",
    "\n",
    "Gempy = GempyModel(test_list, geo_model_test, num_layers, dtype=torch.float64)\n",
    "\n",
    "c = Gempy.GenerateInputSamples(number_samples=500)\n",
    "m_data, dmdc_data = Gempy.GenerateOutputSamples(Inputs_samples=c)"
   ]
  },
  {
   "cell_type": "code",
   "execution_count": null,
   "id": "4f073fe2",
   "metadata": {},
   "outputs": [
    {
     "data": {
      "text/plain": [
       "((10, 2), (10, 256), (10, 256, 2))"
      ]
     },
     "execution_count": 5,
     "metadata": {},
     "output_type": "execute_result"
    }
   ],
   "source": [
    "c.shape, m_data.shape, dmdc_data.shape"
   ]
  },
  {
   "cell_type": "code",
   "execution_count": null,
   "id": "43148b55",
   "metadata": {},
   "outputs": [],
   "source": [
    "#m_data[8].reshape(11,11)"
   ]
  },
  {
   "cell_type": "code",
   "execution_count": null,
   "id": "85b00772",
   "metadata": {},
   "outputs": [],
   "source": [
    "u_trial = dl.TrialFunction(Vh[hp.STATE])\n",
    "u_test = dl.TestFunction(Vh[hp.STATE])\n",
    "\n",
    "M_U = dl.assemble(dl.inner(u_trial,u_test)*dl.dx)\n",
    "\n",
    "I_U = hf.StateSpaceIdentityOperator(M_U)\n",
    "\n",
    "observable = hf.LinearStateObservable(pde,M_U)\n",
    "\n",
    "Jm = hf.ObservableJacobian(observable)\n",
    "\n",
    "m_trial = dl.TrialFunction(Vh[hp.PARAMETER])\n",
    "m_test = dl.TestFunction(Vh[hp.PARAMETER])\n",
    "\n",
    "M_M = dl.assemble(dl.inner(m_trial,m_test)*dl.dx)"
   ]
  },
  {
   "cell_type": "code",
   "execution_count": null,
   "id": "ab93476b-3c35-48bb-ada9-624f36896d82",
   "metadata": {},
   "outputs": [
    {
     "data": {
      "text/plain": [
       "((10, 961), (10, 961, 2))"
      ]
     },
     "execution_count": 8,
     "metadata": {},
     "output_type": "execute_result"
    }
   ],
   "source": [
    "nsamples = c.shape[0]\n",
    "\n",
    "m = dl.Function(Vh[hp.PARAMETER])\n",
    "\n",
    "u = dl.Function(Vh[hp.STATE])\n",
    "uadj = dl.Function(Vh[hp.ADJOINT])\n",
    "\n",
    "dU = u.vector().get_local().shape[0]\n",
    "\n",
    "dC = c.shape[1]\n",
    "\n",
    "# once you have modified the means of c->m(c) comment this\n",
    "#sol = gp.compute_model(geo_model_test)\n",
    "#m_values = geo_model_test.solutions.octrees_output[0].last_output_center.custom_grid_values\n",
    "uhat = dl.Function(Vh[hp.STATE])\n",
    "m_nodes_hat = dl.Function(Vh[hp.PARAMETER])\n",
    "m_hat = dl.Function(Vh[hp.PARAMETER])\n",
    "u_data = np.zeros((nsamples,dU))\n",
    "J_data = np.zeros((nsamples, dU, dC))\n",
    "\n",
    "plotting = False\n",
    "for sample_index in range(nsamples):\n",
    "    # Do something here to modify the coefficients\n",
    "    # sol = gp.compute_model(geo_model_test)\n",
    "    #m_values = geo_model_test.solutions.octrees_output[0].last_output_center.custom_grid_values\n",
    "    \n",
    "    m_values = m_data[sample_index,:]\n",
    "    m.vector().set_local(m_values[d2v]) #uncomment this\n",
    "    # m.vector().set_local(m_values[d2v] +0.1*np.random.randn(m_values.shape[0])) #comment this\n",
    "    if plotting:\n",
    "        #plt.axis(\"off\")\n",
    "        dl.plot(m)\n",
    "        fig = plt.gcf()\n",
    "        fig.set_size_inches(1, 1)\n",
    "        plt.show()\n",
    "    x = [u.vector(),m.vector(),uadj.vector()]\n",
    "    pde.solveFwd(x[hp.STATE], x)\n",
    "    \n",
    "    Jm.observable.setLinearizationPoint(x)\n",
    "    \n",
    "    \n",
    "    # Get the data\n",
    "    u_data[sample_index,:] = x[hp.STATE].get_local()\n",
    "    \n",
    "    for component in range(dC):\n",
    "        #mhat.vector().set_local(dmdc[:,i])\n",
    "        m_nodes_hat.vector().set_local(dmdc_data[sample_index,:,component])\n",
    "        M_M.mult(m_nodes_hat.vector(), m_hat.vector())\n",
    "        Jm.mult(m_hat.vector(),uhat.vector())\n",
    "        J_data[sample_index,:,component] = uhat.vector().get_local()\n",
    "    \n",
    "u_data.shape, J_data.shape"
   ]
  },
  {
   "cell_type": "markdown",
   "id": "6f1612cd-b32d-4122-be65-49c0d517acab",
   "metadata": {},
   "source": [
    "## POD"
   ]
  },
  {
   "cell_type": "code",
   "execution_count": null,
   "id": "ee42998e-952c-48dc-bbc8-ebc50eba3783",
   "metadata": {},
   "outputs": [
    {
     "name": "stdout",
     "output_type": "stream",
     "text": [
      "10\n",
      "Using HEP\n",
      "Preprocessing took 0.000324 seconds\n",
      "Eigenvalue solve took 0.000363 seconds\n",
      "Postprocessing took 6.75e-05 seconds\n",
      "Basis Orthogonality error: 2.8419661364453714e-12\n",
      "Basis-Projector Orthogonality error: 2.841966136445372e-12\n",
      "Mean reconstruction error: 5.183e-14\n",
      "Max reconstruction error: 1.069e-13\n"
     ]
    }
   ],
   "source": [
    "# u_trial = dl.TrialFunction(Vh[hp.STATE])\n",
    "# u_test = dl.TestFunction(Vh[hp.STATE])\n",
    "\n",
    "# M_U = dl.assemble(dl.inner(u_trial,u_test)*dl.dx)\n",
    "\n",
    "POD = hf.PODProjectorFromData(Vh,M_output = M_U)\n",
    "\n",
    "mean_shifting = True\n",
    "\n",
    "# Change this later on to be chosen appropriately.\n",
    "u_rank = len(u_data)\n",
    "print(u_rank)\n",
    "d, phi, Mphi, u_shift  = POD.construct_subspace(u_data, u_rank, shifted=mean_shifting, method='hep', verify=True)"
   ]
  },
  {
   "cell_type": "code",
   "execution_count": null,
   "id": "ea24dc21",
   "metadata": {},
   "outputs": [
    {
     "data": {
      "text/plain": [
       "(10,)"
      ]
     },
     "execution_count": 10,
     "metadata": {},
     "output_type": "execute_result"
    }
   ],
   "source": [
    "d.shape"
   ]
  },
  {
   "cell_type": "code",
   "execution_count": null,
   "id": "d37573bc",
   "metadata": {},
   "outputs": [
    {
     "data": {
      "text/plain": [
       "((961, 10), (961, 10))"
      ]
     },
     "execution_count": 11,
     "metadata": {},
     "output_type": "execute_result"
    }
   ],
   "source": [
    "r = 100\n",
    "Mphi = Mphi[:, :r]\n",
    "phi = phi[:,:r]\n",
    "Mphi.shape, phi.shape"
   ]
  },
  {
   "cell_type": "code",
   "execution_count": null,
   "id": "0cb859dd-473a-4148-bc89-34f272a041a8",
   "metadata": {},
   "outputs": [],
   "source": [
    "## Compare reconstructions in POD basis"
   ]
  },
  {
   "cell_type": "code",
   "execution_count": null,
   "id": "0aa17d28-4add-48db-ae9e-d0b037df768b",
   "metadata": {},
   "outputs": [
    {
     "name": "stdout",
     "output_type": "stream",
     "text": [
      "################################################################################\n",
      "True state\n"
     ]
    },
    {
     "data": {
      "image/png": "[encoded data removed]",
      "text/plain": [
       "<Figure size 100x100 with 1 Axes>"
      ]
     },
     "metadata": {},
     "output_type": "display_data"
    },
    {
     "name": "stdout",
     "output_type": "stream",
     "text": [
      "################################################################################\n",
      "POD projected state\n"
     ]
    },
    {
     "data": {
      "image/png": "[encoded data removed]",
      "text/plain": [
       "<Figure size 100x100 with 1 Axes>"
      ]
     },
     "metadata": {},
     "output_type": "display_data"
    },
    {
     "name": "stdout",
     "output_type": "stream",
     "text": [
      "################################################################################\n",
      "As you can see, this problem is trivial, as only ten modes basically perfectly reconstruct the trivial output function\n"
     ]
    }
   ],
   "source": [
    "print(80*'#')\n",
    "print('True state')\n",
    "u.vector().set_local(u_data[0])\n",
    "plt.axis(\"off\")\n",
    "dl.plot(u)\n",
    "fig = plt.gcf()\n",
    "fig.set_size_inches(1, 1)\n",
    "plt.show()\n",
    "\n",
    "print(80*'#')\n",
    "print('POD projected state')\n",
    "u.vector().set_local(phi@Mphi.T@(u_data[0] - u_shift) + u_shift)\n",
    "plt.axis(\"off\")\n",
    "dl.plot(u)\n",
    "fig = plt.gcf()\n",
    "fig.set_size_inches(1, 1)\n",
    "plt.show()\n",
    "\n",
    "print(80*'#')\n",
    "print('As you can see, this problem is trivial, as only ten modes basically perfectly reconstruct the trivial output function')"
   ]
  },
  {
   "cell_type": "markdown",
   "id": "143e9768-ac88-4df7-85f4-a716db888bac",
   "metadata": {},
   "source": [
    "## (Linear) encoders and decoders.\n",
    "\n",
    "Please consult our papers for a more in-depth discussion. E.g., [section 2.4 in this work](https://arxiv.org/abs/2411.12726)\n",
    "\n",
    "We can expand a function on an orthonormal basis as\n",
    "\n",
    "$$ u(x) = \\sum_{i=1}^\\infty \\langle u(x),\\phi_i(x)\\rangle_\\mathcal{U} \\phi_i(x)$$\n",
    "\n",
    "and the truncated representation\n",
    "\n",
    "$$ u(x) = \\sum_{i=1}^r \\langle u(x),\\phi_i(x)\\rangle_\\mathcal{U} \\phi_i(x)$$\n",
    "\n",
    "The encoder is the mapping from the data $u(x)$ to its truncated coefficient expansion $\\mathcal{E}_r u \\in \\mathbb{R}^{r}$\n",
    "\n",
    "$$ \\mathcal{E}_r u = \\left[\\langle u,\\phi_i\\rangle_\\mathcal{U}\\right]_{i=1}^r \\in \\mathbb{R}^{r}$$\n",
    "\n",
    "The decoder maps this data back to the function space (e.g., the basis expansion operation), given $\\alpha \\in \\mathbb{R}^r$ we have\n",
    "\n",
    "$$ \\mathcal{D}_r \\alpha  = \\sum_{i=1}^r \\alpha_i \\phi_i$$\n",
    "\n",
    "The encoder has the effect of the inner product $\\langle \\cdot,\\cdot\\rangle_\\mathcal{U}$, e.g., the mass matrix in finite elements, each column of it is $\\langle \\cdot, \\phi\\rangle_\\mathcal{U}$, so we call it `Mphi` $\\in \\mathbb{R}^{d_u \\times r}$. Likewise we call the decoder `\\phi` since its columns are just the basis vectors\n",
    "\n",
    "### Encoding u data\n",
    "\n",
    "The mapping to the coefficients of u is $u_r = \\mathcal{E}_r u$. In numpy this is `ur_data = Mphi.T@u_data`\n",
    "\n",
    "### Decoding the u data\n",
    "\n",
    "We decode with the basis: $\\mathcal{D}_r u_r$. In numpy this is `phi@ur_data`\n",
    "\n",
    "### Encoding and decoding the derivatives.\n",
    "\n",
    "The derivative of the map is \n",
    "\n",
    "$$ Du(c) \\in \\mathcal{L}(\\mathbb{R}^{d_c},\\mathcal{U}) $$\n",
    "\n",
    "that is, the space of linear operators from $\\mathbb{R}^{d_c}$ into $\\mathcal{U}$. We want to remove the high-dimensionality associated with $\\mathcal{U}$\n",
    "\n",
    "This is done with the encoder operator:\n",
    "\n",
    "$$\\mathcal{E}_r Du(c) \\in \\mathbb{R}^{r\\times d_c}$$"
   ]
  },
  {
   "cell_type": "code",
   "execution_count": null,
   "id": "1faf9ed4-dfdf-4a15-963b-cc6c2834b998",
   "metadata": {},
   "outputs": [],
   "source": [
    "# Encode the u_data\n",
    "\n",
    "ur = np.einsum('ur,du->dr',Mphi,u_data)\n",
    "\n",
    "# Encoder the Du_data\n",
    "\n",
    "dc = 2\n",
    "Du_data = np.random.randn(nsamples,dU,dc)\n",
    "Dur_data = np.einsum('ur,duc->drc',Mphi,Du_data)"
   ]
  },
  {
   "cell_type": "markdown",
   "id": "b59c945f-28a6-4590-b789-02fa5252775b",
   "metadata": {},
   "source": [
    "## Training data\n",
    "\n",
    "The training data then is inputs (`c_data` \\in $\\mathbb{R}^{nsamples\\times dc}$) and outputs (`ur_data`, `Dur_data`)\n",
    "\n",
    "\n",
    "## To figure out in the $Du(c)$ calculations\n",
    "\n",
    "The derivative I believe should have the mass matrix for $\\mathcal{M}$ space in it:\n",
    "\n",
    "$$ Du(c) = D_m(u(m(c)) \\frac{dm}{dc} = -\\left[\\frac{\\partial R}{\\partial u}\\right]^{-1}\\frac{\\partial R}{\\partial m} \\frac{dm}{dc}$$\n",
    "\n",
    "In the other notebook we are evaluating the mapping from $c\\mapsto m_\\text{node}$, the nodal representation of $m$, but not the function. The mapping to the function requires the mass matrix\n",
    "\n",
    "The torch gempy code will give you\n",
    "$$ \\frac{dm_\\text{node}}{dc}$$\n",
    "\n",
    "and we need in the end\n",
    "$$ \\frac{dm}{dc} = M_\\mathcal{M} \\frac{dm_\\text{node}}{dc}$$"
   ]
  },
  {
   "cell_type": "code",
   "execution_count": null,
   "id": "9624321f-e22b-4791-969b-f7373ff93c55",
   "metadata": {},
   "outputs": [],
   "source": [
    "# Calculating the mass matrix for $\\mathcal{M}$\n"
   ]
  },
  {
   "cell_type": "code",
   "execution_count": null,
   "id": "fa30828f-d84e-41f7-a160-bad3681fb863",
   "metadata": {},
   "outputs": [],
   "source": [
    "m_trial = dl.TrialFunction(Vh[hp.PARAMETER])\n",
    "m_test = dl.TestFunction(Vh[hp.PARAMETER])\n",
    "\n",
    "M_M = dl.assemble(dl.inner(m_trial,m_test)*dl.dx)"
   ]
  },
  {
   "cell_type": "markdown",
   "id": "705e62f8-6ca7-4419-bfe1-790cf5b244b2",
   "metadata": {},
   "source": [
    "## Final form of the pre-reduced Jacobian\n",
    "\n",
    "$$ Du(c) = -\\left[\\frac{\\partial R}{\\partial u}\\right]^{-1}\\frac{\\partial R}{\\partial m} M_\\mathcal{M}\\frac{dm_\\text{node}}{dc}$$\n",
    "\n",
    "Where \n",
    "\n",
    "$$ \\frac{dm_\\text{node}}{dc} \\in \\mathbb{R}^{d_\\text{node}\\times dc}$$\n",
    "\n",
    "is the nodal Jacobian you will get as the output from the gempy torch automatic differntiation\n",
    "\n",
    "## DOF ORDERING FOR m\n",
    "\n",
    "You will also need to check the correct degree of freedom mapping for $m$\n",
    "\n",
    "It will likely be something like the code we had: `m_values[d2v]`\n",
    "\n",
    "So the output of your torch AD for dm_node/dc will need to have each column reordered using the d2v re-ordering.\n",
    "\n",
    "When in doubt, plot everything. Do you see that I am constantly plotting to make sure that I am dealing with the right thing? If you get the vertex to dof map wrong you will be able to see it immediately via plotting columns of the Jacobian."
   ]
  },
  {
   "cell_type": "code",
   "execution_count": null,
   "id": "6e2d7d89",
   "metadata": {},
   "outputs": [
    {
     "data": {
      "image/png": "[encoded data removed]",
      "text/plain": [
       "<Figure size 100x100 with 1 Axes>"
      ]
     },
     "metadata": {},
     "output_type": "display_data"
    }
   ],
   "source": [
    "m = dl.Function(Vh[hp.PARAMETER])\n",
    "m_nodes_hat = dl.Function(Vh[hp.PARAMETER])\n",
    "m_hat = dl.Function(Vh[hp.PARAMETER])\n",
    "m.vector().set_local(m_data[0,:][d2v])\n",
    "\n",
    "plt.axis(\"off\")\n",
    "dl.plot(m)\n",
    "fig = plt.gcf()\n",
    "fig.set_size_inches(1, 1)"
   ]
  },
  {
   "cell_type": "code",
   "execution_count": null,
   "id": "68dc206a",
   "metadata": {},
   "outputs": [
    {
     "name": "stdout",
     "output_type": "stream",
     "text": [
      "################################################################################\n"
     ]
    },
    {
     "data": {
      "image/png": "[encoded data removed]",
      "text/plain": [
       "<Figure size 100x100 with 1 Axes>"
      ]
     },
     "metadata": {},
     "output_type": "display_data"
    }
   ],
   "source": [
    "print(80*'#')\n",
    "\n",
    "u.vector().set_local(u_data[0])\n",
    "plt.axis(\"off\")\n",
    "dl.plot(u)\n",
    "fig = plt.gcf()\n",
    "fig.set_size_inches(1, 1)\n",
    "plt.show()"
   ]
  },
  {
   "cell_type": "code",
   "execution_count": null,
   "id": "2988a014",
   "metadata": {},
   "outputs": [
    {
     "data": {
      "image/png": "[encoded data removed]",
      "text/plain": [
       "<Figure size 100x100 with 1 Axes>"
      ]
     },
     "metadata": {},
     "output_type": "display_data"
    }
   ],
   "source": [
    "m_nodes_hat.vector().set_local(dmdc_data[0,:,0][d2v])\n",
    "M_M.mult(m_nodes_hat.vector(), m_hat.vector())\n",
    "plt.axis(\"off\")\n",
    "dl.plot(m_hat)\n",
    "#dl.plot(m_nodes_hat)\n",
    "fig = plt.gcf()\n",
    "fig.set_size_inches(1, 1)"
   ]
  },
  {
   "cell_type": "code",
   "execution_count": null,
   "id": "d3abfd56",
   "metadata": {},
   "outputs": [
    {
     "data": {
      "image/png": "[encoded data removed]",
      "text/plain": [
       "<Figure size 100x100 with 1 Axes>"
      ]
     },
     "metadata": {},
     "output_type": "display_data"
    }
   ],
   "source": [
    "m_nodes_hat.vector().set_local(dmdc_data[0,:,1][d2v])\n",
    "M_M.mult(m_nodes_hat.vector(), m_hat.vector())\n",
    "plt.axis(\"off\")\n",
    "#dl.plot(m_nodes_hat)\n",
    "dl.plot(m_hat)\n",
    "fig = plt.gcf()\n",
    "fig.set_size_inches(1, 1)"
   ]
  },
  {
   "cell_type": "code",
   "execution_count": null,
   "id": "b2c1b47d",
   "metadata": {},
   "outputs": [
    {
     "data": {
      "image/png": "[encoded data removed]",
      "text/plain": [
       "<Figure size 100x100 with 1 Axes>"
      ]
     },
     "metadata": {},
     "output_type": "display_data"
    }
   ],
   "source": [
    "u_hat = dl.Function(Vh[hp.STATE])\n",
    "u_hat.vector().set_local(J_data[3,:,0][d2v])\n",
    "plt.axis(\"off\")\n",
    "dl.plot(u_hat)\n",
    "fig = plt.gcf()\n",
    "fig.set_size_inches(1, 1)"
   ]
  },
  {
   "cell_type": "code",
   "execution_count": null,
   "id": "7504e88d",
   "metadata": {},
   "outputs": [
    {
     "data": {
      "image/png": "[encoded data removed]",
      "text/plain": [
       "<Figure size 100x100 with 1 Axes>"
      ]
     },
     "metadata": {},
     "output_type": "display_data"
    }
   ],
   "source": [
    "u_hat = dl.Function(Vh[hp.STATE])\n",
    "u_hat.vector().set_local(J_data[3,:,1][d2v])\n",
    "plt.axis(\"off\")\n",
    "dl.plot(u_hat)\n",
    "fig = plt.gcf()\n",
    "fig.set_size_inches(1, 1)"
   ]
  },
  {
   "cell_type": "code",
   "execution_count": null,
   "id": "21d6aeeb",
   "metadata": {},
   "outputs": [
    {
     "data": {
      "text/plain": [
       "((10, 10), (10, 10, 2))"
      ]
     },
     "execution_count": 23,
     "metadata": {},
     "output_type": "execute_result"
    }
   ],
   "source": [
    "Dur = np.einsum('ur,duc->drc',Mphi,J_data)\n",
    "ur.shape, Dur_data.shape"
   ]
  },
  {
   "cell_type": "code",
   "execution_count": null,
   "id": "3ebb796a",
   "metadata": {},
   "outputs": [
    {
     "name": "stdout",
     "output_type": "stream",
     "text": [
      "torch.Size([10, 10]) torch.Size([2, 2])\n",
      "Train size: 6,Valid size: 2,  Test size: 2\n",
      "Epoch [0/100], Train Loss: 0.4257, Val Loss: 0.4034, L2 Loss: 0.3729, F2 Loss: 0.0527\n",
      "Epoch [10/100], Train Loss: 0.2900, Val Loss: 0.2735, L2 Loss: 0.2598, F2 Loss: 0.0302\n",
      "Epoch [20/100], Train Loss: 0.2064, Val Loss: 0.1944, L2 Loss: 0.1883, F2 Loss: 0.0181\n",
      "Epoch [30/100], Train Loss: 0.1498, Val Loss: 0.1417, L2 Loss: 0.1371, F2 Loss: 0.0127\n",
      "Epoch [40/100], Train Loss: 0.1086, Val Loss: 0.1050, L2 Loss: 0.0979, F2 Loss: 0.0107\n",
      "Epoch [50/100], Train Loss: 0.0755, Val Loss: 0.0726, L2 Loss: 0.0674, F2 Loss: 0.0081\n",
      "Epoch [60/100], Train Loss: 0.0503, Val Loss: 0.0482, L2 Loss: 0.0440, F2 Loss: 0.0063\n",
      "Epoch [70/100], Train Loss: 0.0322, Val Loss: 0.0306, L2 Loss: 0.0272, F2 Loss: 0.0050\n",
      "Epoch [80/100], Train Loss: 0.0198, Val Loss: 0.0185, L2 Loss: 0.0159, F2 Loss: 0.0039\n",
      "Epoch [90/100], Train Loss: 0.0118, Val Loss: 0.0111, L2 Loss: 0.0088, F2 Loss: 0.0030\n",
      "Epoch [99/100], Train Loss: 0.0073, Val Loss: 0.0069, L2 Loss: 0.0048, F2 Loss: 0.0025\n",
      "L2 loss with Jacobian:  tensor(0.7619, device='cuda:0', grad_fn=<RsubBackward1>)\n",
      "tensor([0.0023, 0.0025], device='cuda:0', grad_fn=<DivBackward0>)\n",
      "tensor([5.9276e-13, 3.7051e-12], device='cuda:0')\n",
      "H1 Loss :  tensor(-48047.4062, device='cuda:0', grad_fn=<RsubBackward1>)\n"
     ]
    }
   ],
   "source": [
    "train_network(network_type=10, Gempy_Inputs=c, PDE_outputs=ur, Jacobian=Dur, layer_sizes=[c.shape[1], r,r,r,r], num_epochs=100)"
   ]
  }
 ],
 "metadata": {
  "kernelspec": {
   "display_name": "gempy_dino",
   "language": "python",
   "name": "python3"
  },
  "language_info": {
   "codemirror_mode": {
    "name": "ipython",
    "version": 3
   },
   "file_extension": ".py",
   "mimetype": "text/x-python",
   "name": "python",
   "nbconvert_exporter": "python",
   "pygments_lexer": "ipython3",
   "version": "3.10.13"
  }
 },
 "nbformat": 4,
 "nbformat_minor": 5
}
