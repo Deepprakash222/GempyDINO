{
 "cells": [
  {
   "cell_type": "code",
   "execution_count": 1,
   "id": "deac4f72-faff-4f2a-b1b8-3d3e639a91e8",
   "metadata": {},
   "outputs": [
    {
     "name": "stdout",
     "output_type": "stream",
     "text": [
      "Setting Backend To: AvailableBackends.numpy\n"
     ]
    }
   ],
   "source": [
    "import os,sys\n",
    "\n",
    "import ufl\n",
    "import dolfin as dl\n",
    "\n",
    "sys.path.append(os.environ.get('HIPPYLIB_PATH'))\n",
    "import hippylib as hp\n",
    "sys.path.append(os.environ.get('HIPPYFLOW_PATH'))\n",
    "import hippyflow as hf\n",
    "\n",
    "import torch\n",
    "\n",
    "import gempy as gp\n",
    "import gempy_engine\n",
    "import gempy_viewer as gpv\n",
    "from gempy_engine.core.backend_tensor import BackendTensor\n",
    "from gempy_probability.plot_posterior import default_red, default_blue, PlotPosterior\n",
    "\n",
    "from helpers import *"
   ]
  },
  {
   "cell_type": "markdown",
   "id": "fcf3966f-78b4-4c07-96f6-c48968b10332",
   "metadata": {},
   "source": [
    "## Setup gempy model"
   ]
  },
  {
   "cell_type": "code",
   "execution_count": 2,
   "id": "dada92e6-d084-46ea-8771-ef886437c7c7",
   "metadata": {},
   "outputs": [
    {
     "name": "stdout",
     "output_type": "stream",
     "text": [
      "Setting Backend To: AvailableBackends.numpy\n"
     ]
    },
    {
     "name": "stderr",
     "output_type": "stream",
     "text": [
      "/Users/tomoleary/miniconda3_x86/envs/gempy/lib/python3.11/site-packages/gempy/core/data/structural_frame.py:206: UserWarning: The basement color was already used in the structural elements.Changing the basement color to #ffbe00.\n",
      "  warnings.warn(f\"The basement color was already used in the structural elements.\"\n"
     ]
    },
    {
     "name": "stdout",
     "output_type": "stream",
     "text": [
      "Chunking done: 12 chunks\n",
      "Chunking done: 12 chunks\n"
     ]
    }
   ],
   "source": [
    "geo_model_test = create_initial_gempy_model_3_layer(refinement=7, save=True)\n"
   ]
  },
  {
   "cell_type": "markdown",
   "id": "116fbb39-cca4-4a8f-a4f8-27c822b5ffee",
   "metadata": {},
   "source": [
    "## Setup the problem"
   ]
  },
  {
   "cell_type": "code",
   "execution_count": 3,
   "id": "b8c93511-f0d9-40aa-b6c2-5483c553e838",
   "metadata": {},
   "outputs": [
    {
     "name": "stdout",
     "output_type": "stream",
     "text": [
      "Active grids: GridTypes.DENSE|CUSTOM|NONE\n"
     ]
    }
   ],
   "source": [
    "nx = 10; ny = 10;\n",
    "mesh = dl.RectangleMesh(dl.Point(0.0, 0.0), dl.Point(1.0, 1.0), nx, ny)\n",
    "Vh_STATE = dl.FunctionSpace(mesh, \"CG\", 2)\n",
    "Vh_PARAMETER = dl.FunctionSpace(mesh, \"CG\", 1)\n",
    "Vh = [Vh_STATE, Vh_PARAMETER, Vh_STATE]\n",
    "\n",
    "d2v = dl.dof_to_vertex_map(Vh[hp.PARAMETER])\n",
    "v2d = dl.vertex_to_dof_map(Vh[hp.PARAMETER])\n",
    "\n",
    "\n",
    "def u_boundary(x, on_boundary):\n",
    "    return on_boundary and ( x[1] < dl.DOLFIN_EPS or x[1] > 1.0 - dl.DOLFIN_EPS)\n",
    "\n",
    "u_bdr = dl.Expression(\"x[1]\", degree=1)\n",
    "u_bdr0 = dl.Constant(0.0)\n",
    "bc = dl.DirichletBC(Vh[hp.STATE], u_bdr, u_boundary)\n",
    "bc0 = dl.DirichletBC(Vh[hp.STATE], u_bdr0, u_boundary)\n",
    "\n",
    "f = dl.Constant(0.0)\n",
    "\n",
    "def pde_varf(u,m,p):\n",
    "    return ufl.exp(m)*ufl.inner(ufl.grad(u), ufl.grad(p))*ufl.dx - f*p*ufl.dx\n",
    "\n",
    "pde = hp.PDEVariationalProblem(Vh, pde_varf, bc, bc0, is_fwd_linear=True)\n",
    "\n",
    "\n",
    "# GEMPY VERTEX MAPPING\n",
    "loaded_array = mesh.coordinates()\n",
    "\n",
    "if loaded_array.shape[1]==2:\n",
    "    xyz_coord = np.insert(loaded_array, 1, 0, axis=1)\n",
    "elif loaded_array.shape[1]==3:\n",
    "    xyz_coord = loaded_array\n",
    "gp.set_custom_grid(geo_model_test.grid, xyz_coord=xyz_coord)\n",
    "geo_model_test.interpolation_options.mesh_extraction = False"
   ]
  },
  {
   "cell_type": "markdown",
   "id": "da26c673-04b1-4a4f-be17-5f63e2e539c3",
   "metadata": {},
   "source": [
    "## Generate samples of the state.\n",
    "\n",
    "\n",
    "NOTE I AM USING A SIMPLE MPI RANK PROCESS SO THE ARRAY OPERATION `.get_local()` MAY NEED TO BE MODIFIED IN AN MPI PARALLEL CONTEXT. HOWEVER FOR PROBLEMS THAT ARE THIS SMALL THERE IS NO JUSTIFICATION FOR MPI PARALLELISM FOR THE MESH"
   ]
  },
  {
   "cell_type": "code",
   "execution_count": 4,
   "id": "ab93476b-3c35-48bb-ada9-624f36896d82",
   "metadata": {},
   "outputs": [
    {
     "name": "stdout",
     "output_type": "stream",
     "text": [
      "Setting Backend To: AvailableBackends.numpy\n",
      "Chunking done: 12 chunks\n",
      "Chunking done: 12 chunks\n"
     ]
    }
   ],
   "source": [
    "nsamples = 10\n",
    "\n",
    "m = dl.Function(Vh[hp.PARAMETER])\n",
    "\n",
    "u = dl.Function(Vh[hp.STATE])\n",
    "uadj = dl.Function(Vh[hp.ADJOINT])\n",
    "\n",
    "dU = u.vector().get_local().shape[0]\n",
    "\n",
    "\n",
    "# once you have modified the means of c->m(c) comment this\n",
    "sol = gp.compute_model(geo_model_test)\n",
    "m_values = geo_model_test.solutions.octrees_output[0].last_output_center.custom_grid_values\n",
    "\n",
    "u_data = np.zeros((nsamples,dU))\n",
    "\n",
    "plotting = False\n",
    "for i in range(nsamples):\n",
    "    # Do something here to modify the coefficients\n",
    "    # sol = gp.compute_model(geo_model_test)\n",
    "    # m_values = geo_model_test.solutions.octrees_output[0].last_output_center.custom_grid_values\n",
    "    # m.vector().set_local(m_values[d2v]) #uncomment this\n",
    "    m.vector().set_local(m_values[d2v] +0.1*np.random.randn(m_values.shape[0])) #comment this\n",
    "    if plotting:\n",
    "        plt.axis(\"off\")\n",
    "        dl.plot(m)\n",
    "        fig = plt.gcf()\n",
    "        fig.set_size_inches(1, 1)\n",
    "        plt.show()\n",
    "    x = [u.vector(),m.vector(),uadj.vector()]\n",
    "    pde.solveFwd(x[hp.STATE], x)\n",
    "    # Get the data\n",
    "    u_data[i,:] = x[hp.STATE].get_local()\n",
    "    \n",
    "\n"
   ]
  },
  {
   "cell_type": "markdown",
   "id": "6f1612cd-b32d-4122-be65-49c0d517acab",
   "metadata": {},
   "source": [
    "## POD"
   ]
  },
  {
   "cell_type": "code",
   "execution_count": 5,
   "id": "ee42998e-952c-48dc-bbc8-ebc50eba3783",
   "metadata": {},
   "outputs": [
    {
     "name": "stdout",
     "output_type": "stream",
     "text": [
      "Using HEP\n",
      "Preprocessing took 0.000526 seconds\n",
      "Eigenvalue solve took 0.00024 seconds\n",
      "Postprocessing took 2.1e-05 seconds\n",
      "Basis Orthogonality error: 7.765435193767015e-15\n",
      "Basis-Projector Orthogonality error: 7.711643362739798e-15\n",
      "Mean reconstruction error: 9.182e-15\n",
      "Max reconstruction error: 1.298e-14\n"
     ]
    }
   ],
   "source": [
    "u_trial = dl.TrialFunction(Vh[hp.STATE])\n",
    "u_test = dl.TestFunction(Vh[hp.STATE])\n",
    "\n",
    "M_U = dl.assemble(dl.inner(u_trial,u_test)*dl.dx)\n",
    "\n",
    "POD = hf.PODProjectorFromData(Vh,M_output = M_U)\n",
    "\n",
    "mean_shifting = True\n",
    "\n",
    "# Change this later on to be chosen appropriately.\n",
    "u_rank = len(u_data)\n",
    "\n",
    "d, phi, Mphi, u_shift  = POD.construct_subspace(u_data, u_rank, shifted=mean_shifting, method='hep', verify=True)"
   ]
  },
  {
   "cell_type": "code",
   "execution_count": 6,
   "id": "0cb859dd-473a-4148-bc89-34f272a041a8",
   "metadata": {},
   "outputs": [],
   "source": [
    "## Compare reconstructions in POD basis"
   ]
  },
  {
   "cell_type": "code",
   "execution_count": 7,
   "id": "0aa17d28-4add-48db-ae9e-d0b037df768b",
   "metadata": {},
   "outputs": [
    {
     "name": "stdout",
     "output_type": "stream",
     "text": [
      "################################################################################\n",
      "True state\n"
     ]
    },
    {
     "data": {
      "image/png": "[encoded data removed]",
      "text/plain": [
       "<Figure size 300x300 with 1 Axes>"
      ]
     },
     "metadata": {},
     "output_type": "display_data"
    },
    {
     "name": "stdout",
     "output_type": "stream",
     "text": [
      "################################################################################\n",
      "POD projected state\n"
     ]
    },
    {
     "data": {
      "image/png": "[encoded data removed]",
      "text/plain": [
       "<Figure size 300x300 with 1 Axes>"
      ]
     },
     "metadata": {},
     "output_type": "display_data"
    },
    {
     "name": "stdout",
     "output_type": "stream",
     "text": [
      "################################################################################\n",
      "As you can see, this problem is trivial, as only ten modes basically perfectly reconstruct the trivial output function\n"
     ]
    }
   ],
   "source": [
    "\n",
    "\n",
    "print(80*'#')\n",
    "print('True state')\n",
    "u.vector().set_local(u_data[0])\n",
    "plt.axis(\"off\")\n",
    "dl.plot(u)\n",
    "fig = plt.gcf()\n",
    "fig.set_size_inches(1, 1)\n",
    "plt.show()\n",
    "\n",
    "print(80*'#')\n",
    "print('POD projected state')\n",
    "u.vector().set_local(phi@Mphi.T@(u_data[0] - u_shift) + u_shift)\n",
    "plt.axis(\"off\")\n",
    "dl.plot(u)\n",
    "fig = plt.gcf()\n",
    "fig.set_size_inches(1, 1)\n",
    "plt.show()\n",
    "\n",
    "print(80*'#')\n",
    "print('As you can see, this problem is trivial, as only ten modes basically perfectly reconstruct the trivial output function')"
   ]
  },
  {
   "cell_type": "markdown",
   "id": "143e9768-ac88-4df7-85f4-a716db888bac",
   "metadata": {},
   "source": [
    "## (Linear) encoders and decoders.\n",
    "\n",
    "Please consult our papers for a more in-depth discussion. E.g., [section 2.4 in this work](https://arxiv.org/abs/2411.12726)\n",
    "\n",
    "We can expand a function on an orthonormal basis as\n",
    "\n",
    "$$ u(x) = \\sum_{i=1}^\\infty \\langle u(x),\\phi_i(x)\\rangle_\\mathcal{U} \\phi_i(x)$$\n",
    "\n",
    "and the truncated representation\n",
    "\n",
    "$$ u(x) = \\sum_{i=1}^r \\langle u(x),\\phi_i(x)\\rangle_\\mathcal{U} \\phi_i(x)$$\n",
    "\n",
    "The encoder is the mapping from the data $u(x)$ to its truncated coefficient expansion $\\mathcal{E}_r u \\in \\mathbb{R}^{r}$\n",
    "\n",
    "$$ \\mathcal{E}_r u = \\left[\\langle u,\\phi_i\\rangle_\\mathcal{U}\\right]_{i=1}^r \\in \\mathbb{R}^{r}$$\n",
    "\n",
    "The decoder maps this data back to the function space (e.g., the basis expansion operation), given $\\alpha \\in \\mathbb{R}^r$ we have\n",
    "\n",
    "$$ \\mathcal{D}_r \\alpha  = \\sum_{i=1}^r \\alpha_i \\phi_i$$\n",
    "\n",
    "The encoder has the effect of the inner product $\\langle \\cdot,\\cdot\\rangle_\\mathcal{U}$, e.g., the mass matrix in finite elements, each column of it is $\\langle \\cdot, \\phi\\rangle_\\mathcal{U}$, so we call it `Mphi` $\\in \\mathbb{R}^{d_u \\times r}$. Likewise we call the decoder `\\phi` since its columns are just the basis vectors\n",
    "\n",
    "### Encoding u data\n",
    "\n",
    "The mapping to the coefficients of u is $u_r = \\mathcal{E}_r u$. In numpy this is `ur_data = Mphi.T@u_data`\n",
    "\n",
    "### Decoding the u data\n",
    "\n",
    "We decode with the basis: $\\mathcal{D}_r u_r$. In numpy this is `phi@ur_data`\n",
    "\n",
    "### Encoding and decoding the derivatives.\n",
    "\n",
    "The derivative of the map is \n",
    "\n",
    "$$ Du(c) \\in \\mathcal{L}(\\mathbb{R}^{d_c},\\mathcal{U}) $$\n",
    "\n",
    "that is, the space of linear operators from $\\mathbb{R}^{d_c}$ into $\\mathcal{U}$. We want to remove the high-dimensionality associated with $\\mathcal{U}$\n",
    "\n",
    "This is done with the encoder operator:\n",
    "\n",
    "$$\\mathcal{E}_r Du(c) \\in \\mathbb{R}^{r\\times d_c}$$"
   ]
  },
  {
   "cell_type": "code",
   "execution_count": 8,
   "id": "1faf9ed4-dfdf-4a15-963b-cc6c2834b998",
   "metadata": {},
   "outputs": [],
   "source": [
    "# Encode the u_data\n",
    "\n",
    "ur = np.einsum('ur,du->dr',Mphi,u_data)\n",
    "\n",
    "# Encoder the Du_data\n",
    "\n",
    "dc = 2\n",
    "Du_data = np.random.randn(nsamples,dU,dc)\n",
    "Dur_data = np.einsum('ur,duc->drc',Mphi,Du_data)"
   ]
  },
  {
   "cell_type": "markdown",
   "id": "b59c945f-28a6-4590-b789-02fa5252775b",
   "metadata": {},
   "source": [
    "## Training data\n",
    "\n",
    "The training data then is inputs (`c_data` \\in $\\mathbb{R}^{nsamples\\times dc}$) and outputs (`ur_data`, `Dur_data`)\n",
    "\n",
    "\n",
    "## To figure out in the $Du(c)$ calculations\n",
    "\n",
    "The derivative I believe should have the mass matrix for $\\mathcal{M}$ space in it:\n",
    "\n",
    "$$ Du(c) = D_m(u(m(c)) \\frac{dm}{dc} = -\\left[\\frac{\\partial R}{\\partial u}\\right]^{-1}\\frac{\\partial R}{\\partial m} \\frac{dm}{dc}$$\n",
    "\n",
    "In the other notebook we are evaluating the mapping from $c\\mapsto m_\\text{node}$, the nodal representation of $m$, but not the function. The mapping to the function requires the mass matrix\n",
    "\n",
    "The torch gempy code will give you\n",
    "$$ \\frac{dm_\\text{node}}{dc}$$\n",
    "\n",
    "and we need in the end\n",
    "$$ \\frac{dm}{dc} = M_\\mathcal{M} \\frac{dm_\\text{node}}{dc}$$"
   ]
  },
  {
   "cell_type": "code",
   "execution_count": 9,
   "id": "9624321f-e22b-4791-969b-f7373ff93c55",
   "metadata": {},
   "outputs": [],
   "source": [
    "# Calculating the mass matrix for $\\mathcal{M}$"
   ]
  },
  {
   "cell_type": "code",
   "execution_count": 10,
   "id": "fa30828f-d84e-41f7-a160-bad3681fb863",
   "metadata": {},
   "outputs": [
    {
     "name": "stdout",
     "output_type": "stream",
     "text": [
      "Calling FFC just-in-time (JIT) compiler, this may take some time.\n"
     ]
    }
   ],
   "source": [
    "m_trial = dl.TrialFunction(Vh[hp.PARAMETER])\n",
    "m_test = dl.TestFunction(Vh[hp.PARAMETER])\n",
    "\n",
    "M_M = dl.assemble(dl.inner(m_trial,m_test)*dl.dx)"
   ]
  },
  {
   "cell_type": "markdown",
   "id": "705e62f8-6ca7-4419-bfe1-790cf5b244b2",
   "metadata": {},
   "source": [
    "## Final form of the pre-reduced Jacobian\n",
    "\n",
    "$$ Du(c) = -\\left[\\frac{\\partial R}{\\partial u}\\right]^{-1}\\frac{\\partial R}{\\partial m} M_\\mathcal{M}\\frac{dm_\\text{node}}{dc}$$\n",
    "\n",
    "Where \n",
    "\n",
    "$$ \\frac{dm_\\text{node}}{dc} \\in \\mathbb{R}^{d_\\text{node}\\times dc}$$\n",
    "\n",
    "is the nodal Jacobian you will get as the output from the gempy torch automatic differntiation\n",
    "\n",
    "## DOF ORDERING FOR m\n",
    "\n",
    "You will also need to check the correct degree of freedom mapping for $m$\n",
    "\n",
    "It will likely be something like the code we had: `m_values[d2v]`\n",
    "\n",
    "So the output of your torch AD for dm_node/dc will need to have each column reordered using the d2v re-ordering.\n",
    "\n",
    "When in doubt, plot everything. Do you see that I am constantly plotting to make sure that I am dealing with the right thing? If you get the vertex to dof map wrong you will be able to see it immediately via plotting columns of the Jacobian."
   ]
  },
  {
   "cell_type": "code",
   "execution_count": null,
   "id": "b2a93c44-1ede-442e-b717-b4e4b3485e87",
   "metadata": {},
   "outputs": [],
   "source": []
  }
 ],
 "metadata": {
  "kernelspec": {
   "display_name": "Python 3 (ipykernel)",
   "language": "python",
   "name": "python3"
  },
  "language_info": {
   "codemirror_mode": {
    "name": "ipython",
    "version": 3
   },
   "file_extension": ".py",
   "mimetype": "text/x-python",
   "name": "python",
   "nbconvert_exporter": "python",
   "pygments_lexer": "ipython3",
   "version": "3.11.9"
  }
 },
 "nbformat": 4,
 "nbformat_minor": 5
}
