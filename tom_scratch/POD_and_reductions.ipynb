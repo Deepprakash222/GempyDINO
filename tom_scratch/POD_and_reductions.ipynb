{
 "cells": [
  {
   "cell_type": "code",
   "execution_count": 847,
   "id": "deac4f72-faff-4f2a-b1b8-3d3e639a91e8",
   "metadata": {},
   "outputs": [],
   "source": [
    "import json\n",
    "import ufl\n",
    "import dolfin as dl\n",
    "\n",
    "#sys.path.append(os.environ.get('HIPPYLIB_PATH', \"../../\"))\n",
    "import hippylib as hp\n",
    "#sys.path.append(os.environ.get('HIPPYFLOW_PATH',\"../../\"))\n",
    "import hippyflow as hf\n",
    "\n",
    "from helpers import *\n",
    "from generate_samples import *\n",
    "from train_nn import *\n"
   ]
  },
  {
   "cell_type": "markdown",
   "id": "116fbb39-cca4-4a8f-a4f8-27c822b5ffee",
   "metadata": {},
   "source": [
    "# Setup Mesh, and Functional spaces and PDE"
   ]
  },
  {
   "cell_type": "code",
   "execution_count": 848,
   "id": "b8c93511-f0d9-40aa-b6c2-5483c553e838",
   "metadata": {},
   "outputs": [],
   "source": [
    "nx = 31; ny = 31\n",
    "nodes = (nx+1)*(ny+1)\n",
    "mesh = dl.RectangleMesh(dl.Point(0.0, 0.0), dl.Point(1.0, 1.0), nx, ny)\n",
    "Vh_STATE = dl.FunctionSpace(mesh, \"CG\", 2)\n",
    "Vh_PARAMETER = dl.FunctionSpace(mesh, \"CG\", 1)\n",
    "Vh = [Vh_STATE, Vh_PARAMETER, Vh_STATE]\n",
    "\n",
    "d2v = dl.dof_to_vertex_map(Vh[hp.PARAMETER])\n",
    "v2d = dl.vertex_to_dof_map(Vh[hp.PARAMETER])\n",
    "\n",
    "\n",
    "def u_boundary(x, on_boundary):\n",
    "    return on_boundary and ( x[1] < dl.DOLFIN_EPS or x[1] > 1.0 - dl.DOLFIN_EPS)\n",
    "\n",
    "u_bdr = dl.Expression(\"x[1]\", degree=1)\n",
    "u_bdr0 = dl.Constant(0.0)\n",
    "bc = dl.DirichletBC(Vh[hp.STATE], u_bdr, u_boundary)\n",
    "bc0 = dl.DirichletBC(Vh[hp.STATE], u_bdr0, u_boundary)\n",
    "\n",
    "f = dl.Constant(0.0)\n",
    "\n",
    "def pde_varf(u,m,p):\n",
    "    return m*ufl.inner(ufl.grad(u), ufl.grad(p))*ufl.dx - f*p*ufl.dx\n",
    "\n",
    "pde = hp.PDEVariationalProblem(Vh, pde_varf, bc, bc0, is_fwd_linear=True)\n"
   ]
  },
  {
   "cell_type": "markdown",
   "id": "e433a11e",
   "metadata": {},
   "source": [
    "## Setup the Gempy"
   ]
  },
  {
   "cell_type": "code",
   "execution_count": 849,
   "id": "84214313",
   "metadata": {},
   "outputs": [],
   "source": [
    "# \n",
    "# data = generate_input_output_gempy_data_(mesh=mesh, number_samples=100,nodes=nodes, filename=None)\n",
    "# c,m_data, dmdc_data = np.array(data[\"input\"]),np.array(data[\"Gempy_output\"]), np.array(data[\"Jacobian_Gempy\"])\n",
    "# c.shape, type(c), m_data.shape, type(m_data),dmdc_data.shape, type(dmdc_data)"
   ]
  },
  {
   "cell_type": "code",
   "execution_count": null,
   "id": "882a4872",
   "metadata": {},
   "outputs": [],
   "source": [
    "\n",
    "direcoty_path=\"../Results/Nodes_\"+str((nx+1)*(ny+1))\n",
    "\n",
    "# Path to your JSON file\n",
    "filename = direcoty_path+ \"/data.json\"\n",
    "# Open and load the file\n",
    "with open(filename, 'r') as file:\n",
    "    data = json.load(file)\n",
    "\n",
    "c, m_data, dmdc_data = np.array(data[\"input\"]),np.array(data[\"Gempy_output\"]), np.array(data[\"Jacobian_Gempy\"])\n",
    "n=7000 # Number of samples we need\n",
    "c=c[:n]\n",
    "m_data = m_data[:n]\n",
    "dmdc_data = dmdc_data[:n]\n",
    "#c.shape, type(c), m_data.shape, type(m_data),dmdc_data.shape, type(dmdc_data)"
   ]
  },
  {
   "cell_type": "code",
   "execution_count": 851,
   "id": "3f63c483",
   "metadata": {},
   "outputs": [
    {
     "data": {
      "image/png": "[encoded data removed]",
      "text/plain": [
       "<Figure size 300x300 with 1 Axes>"
      ]
     },
     "metadata": {},
     "output_type": "display_data"
    }
   ],
   "source": [
    "m = dl.Function(Vh[hp.PARAMETER])\n",
    "m_nodes_hat = dl.Function(Vh[hp.PARAMETER])\n",
    "m_hat = dl.Function(Vh[hp.PARAMETER])\n",
    "m.vector().set_local(m_data[0,:][d2v])\n",
    "\n",
    "plt.axis(\"off\")\n",
    "dl.plot(m,cmap=\"viridis\")\n",
    "fig = plt.gcf()\n",
    "fig.set_size_inches(3, 3)"
   ]
  },
  {
   "cell_type": "code",
   "execution_count": 852,
   "id": "d4fbd973",
   "metadata": {},
   "outputs": [
    {
     "data": {
      "image/png": "[encoded data removed]",
      "text/plain": [
       "<Figure size 300x300 with 1 Axes>"
      ]
     },
     "metadata": {},
     "output_type": "display_data"
    }
   ],
   "source": [
    "m_nodes_hat.vector().set_local(dmdc_data[0,:,0][d2v])\n",
    "plt.axis(\"off\")\n",
    "dl.plot(m_nodes_hat, cmap=\"viridis\")\n",
    "fig = plt.gcf()\n",
    "fig.set_size_inches(3, 3)"
   ]
  },
  {
   "cell_type": "code",
   "execution_count": 853,
   "id": "e8f86516",
   "metadata": {},
   "outputs": [
    {
     "data": {
      "image/png": "[encoded data removed]",
      "text/plain": [
       "<Figure size 300x300 with 1 Axes>"
      ]
     },
     "metadata": {},
     "output_type": "display_data"
    }
   ],
   "source": [
    "m_nodes_hat.vector().set_local(dmdc_data[0,:,1][d2v])\n",
    "plt.axis(\"off\")\n",
    "dl.plot(m_nodes_hat, cmap=\"viridis\")\n",
    "fig = plt.gcf()\n",
    "fig.set_size_inches(3, 3)"
   ]
  },
  {
   "cell_type": "markdown",
   "id": "da26c673-04b1-4a4f-be17-5f63e2e539c3",
   "metadata": {},
   "source": [
    "## Generate samples of the state.\n",
    "\n",
    "\n",
    "NOTE I AM USING A SIMPLE MPI RANK PROCESS SO THE ARRAY OPERATION `.get_local()` MAY NEED TO BE MODIFIED IN AN MPI PARALLEL CONTEXT. HOWEVER FOR PROBLEMS THAT ARE THIS SMALL THERE IS NO JUSTIFICATION FOR MPI PARALLELISM FOR THE MESH"
   ]
  },
  {
   "cell_type": "code",
   "execution_count": 854,
   "id": "85b00772",
   "metadata": {},
   "outputs": [],
   "source": [
    "u_trial = dl.TrialFunction(Vh[hp.STATE])\n",
    "u_test = dl.TestFunction(Vh[hp.STATE])\n",
    "\n",
    "M_U = dl.assemble(dl.inner(u_trial,u_test)*dl.dx)\n",
    "\n",
    "I_U = hf.StateSpaceIdentityOperator(M_U)\n",
    "\n",
    "observable = hf.LinearStateObservable(pde,M_U)\n",
    "\n",
    "Jm = hf.ObservableJacobian(observable)\n",
    "\n",
    "m_trial = dl.TrialFunction(Vh[hp.PARAMETER])\n",
    "m_test = dl.TestFunction(Vh[hp.PARAMETER])\n",
    "\n",
    "M_M = dl.assemble(dl.inner(m_trial,m_test)*dl.dx)"
   ]
  },
  {
   "cell_type": "code",
   "execution_count": 855,
   "id": "ff7529f8",
   "metadata": {},
   "outputs": [
    {
     "data": {
      "image/png": "[encoded data removed]",
      "text/plain": [
       "<Figure size 300x300 with 1 Axes>"
      ]
     },
     "metadata": {},
     "output_type": "display_data"
    }
   ],
   "source": [
    "m_nodes_hat.vector().set_local(dmdc_data[0,:,0][d2v])\n",
    "M_M.mult(m_nodes_hat.vector(), m_hat.vector())\n",
    "plt.axis(\"off\")\n",
    "dl.plot(m_hat, cmap=\"viridis\")\n",
    "#dl.plot(m_nodes_hat)\n",
    "fig = plt.gcf()\n",
    "fig.set_size_inches(3, 3)"
   ]
  },
  {
   "cell_type": "code",
   "execution_count": 856,
   "id": "ba972147",
   "metadata": {},
   "outputs": [
    {
     "data": {
      "image/png": "[encoded data removed]",
      "text/plain": [
       "<Figure size 300x300 with 1 Axes>"
      ]
     },
     "metadata": {},
     "output_type": "display_data"
    }
   ],
   "source": [
    "m_nodes_hat.vector().set_local(dmdc_data[0,:,1][d2v])\n",
    "M_M.mult(m_nodes_hat.vector(), m_hat.vector())\n",
    "plt.axis(\"off\")\n",
    "dl.plot(m_hat, cmap=\"viridis\")\n",
    "#dl.plot(m_nodes_hat)\n",
    "fig = plt.gcf()\n",
    "fig.set_size_inches(3, 3)"
   ]
  },
  {
   "cell_type": "code",
   "execution_count": null,
   "id": "ab93476b-3c35-48bb-ada9-624f36896d82",
   "metadata": {},
   "outputs": [
    {
     "data": {
      "text/plain": [
       "((1000, 3969), (1000, 3969, 2))"
      ]
     },
     "execution_count": 857,
     "metadata": {},
     "output_type": "execute_result"
    }
   ],
   "source": [
    "nsamples = c.shape[0]\n",
    "\n",
    "m = dl.Function(Vh[hp.PARAMETER])\n",
    "\n",
    "u = dl.Function(Vh[hp.STATE])\n",
    "uadj = dl.Function(Vh[hp.ADJOINT])\n",
    "\n",
    "dU = u.vector().get_local().shape[0]\n",
    "\n",
    "dC = c.shape[1]\n",
    "\n",
    "# once you have modified the means of c->m(c) comment this\n",
    "uhat = dl.Function(Vh[hp.STATE])\n",
    "m_nodes_hat = dl.Function(Vh[hp.PARAMETER])\n",
    "m_hat = dl.Function(Vh[hp.PARAMETER])\n",
    "u_data = np.zeros((nsamples,dU))\n",
    "J_data = np.zeros((nsamples, dU, dC))\n",
    "\n",
    "plotting = False\n",
    "for sample_index in range(nsamples):\n",
    "    # Do something here to modify the coefficients\n",
    "   \n",
    "    m_values = m_data[sample_index,:]\n",
    "    m.vector().set_local(m_values[d2v]) #uncomment this\n",
    "    # m.vector().set_local(m_values[d2v] +0.1*np.random.randn(m_values.shape[0])) #comment this\n",
    "    if plotting:\n",
    "        #plt.axis(\"off\")\n",
    "        dl.plot(m,cmap=\"viridis\")\n",
    "        fig = plt.gcf()\n",
    "        fig.set_size_inches(1, 1)\n",
    "        plt.show()\n",
    "        # Plot with color\n",
    "\n",
    "    \n",
    "    x = [u.vector(),m.vector(),uadj.vector()]\n",
    "    pde.solveFwd(x[hp.STATE], x)\n",
    "    \n",
    "    Jm.observable.setLinearizationPoint(x)\n",
    "    \n",
    "    \n",
    "    # Get the data\n",
    "    u_data[sample_index,:] = x[hp.STATE].get_local()\n",
    "    # Calculate the Jacobian\n",
    "    for component in range(dC):\n",
    "        m_nodes_hat.vector().set_local(dmdc_data[sample_index,:,component][d2v]) \n",
    "        Jm.mult(m_nodes_hat.vector(),uhat.vector()) \n",
    "        # Multiply dmdc by Mass matrix.\n",
    "        # M_M.mult(m_nodes_hat.vector(), m_hat.vector()) \n",
    "        # Jm.mult(m_hat.vector(),uhat.vector()) \n",
    "        \n",
    "        J_data[sample_index,:,component] = uhat.vector().get_local()\n",
    "    \n",
    "u_data.shape, J_data.shape"
   ]
  },
  {
   "cell_type": "markdown",
   "id": "6f1612cd-b32d-4122-be65-49c0d517acab",
   "metadata": {},
   "source": [
    "## POD"
   ]
  },
  {
   "cell_type": "code",
   "execution_count": 858,
   "id": "ee42998e-952c-48dc-bbc8-ebc50eba3783",
   "metadata": {},
   "outputs": [
    {
     "name": "stdout",
     "output_type": "stream",
     "text": [
      "1000\n",
      "Using HEP\n",
      "NOTE: number of data points 1000 is comparable to vector dimension 3969.\n",
      "Recommend using method==ghep\n",
      "Preprocessing took 0.242 seconds\n",
      "Eigenvalue solve took 0.132 seconds\n",
      "Postprocessing took 5.39 seconds\n",
      "Basis Orthogonality error: 57.582078913516916\n",
      "Basis-Projector Orthogonality error: 57.582078913516916\n",
      "Mean reconstruction error: 5.378e-07\n",
      "Max reconstruction error: 3.634e-06\n"
     ]
    },
    {
     "data": {
      "text/plain": [
       "((3969, 1000), (3969, 1000))"
      ]
     },
     "execution_count": 858,
     "metadata": {},
     "output_type": "execute_result"
    }
   ],
   "source": [
    "# u_trial = dl.TrialFunction(Vh[hp.STATE])\n",
    "# u_test = dl.TestFunction(Vh[hp.STATE])\n",
    "\n",
    "# M_U = dl.assemble(dl.inner(u_trial,u_test)*dl.dx)\n",
    "\n",
    "POD = hf.PODProjectorFromData(Vh,M_output = M_U)\n",
    "\n",
    "mean_shifting = True\n",
    "\n",
    "# Change this later on to be chosen appropriately.\n",
    "u_rank = len(u_data)\n",
    "print(u_rank)\n",
    "d, phi, Mphi, u_shift  = POD.construct_subspace(u_data, u_rank, shifted=mean_shifting, method='hep', verify=True)\n",
    "phi.shape, Mphi.shape"
   ]
  },
  {
   "cell_type": "code",
   "execution_count": 859,
   "id": "0286150f",
   "metadata": {},
   "outputs": [],
   "source": [
    "# phi.shape, Mphi.shape, d"
   ]
  },
  {
   "cell_type": "code",
   "execution_count": 860,
   "id": "e83aaafb",
   "metadata": {},
   "outputs": [
    {
     "name": "stderr",
     "output_type": "stream",
     "text": [
      "/var/folders/lr/h2867zhs72gcy61j6_cy0n0r0000gq/T/ipykernel_23448/1568989377.py:1: RuntimeWarning: invalid value encountered in log10\n",
      "  plt.plot(np.arange(d.shape[0]), np.log10(d))\n"
     ]
    },
    {
     "data": {
      "text/plain": [
       "Text(0.5, 1.0, 'Eigenvalue distribution')"
      ]
     },
     "execution_count": 860,
     "metadata": {},
     "output_type": "execute_result"
    },
    {
     "data": {
      "image/png": "[encoded data removed]",
      "text/plain": [
       "<Figure size 1040x715 with 1 Axes>"
      ]
     },
     "metadata": {},
     "output_type": "display_data"
    }
   ],
   "source": [
    "plt.plot(np.arange(d.shape[0]), np.log10(d))\n",
    "plt.xlabel(\"Index\")\n",
    "plt.ylabel(\"log10($\\lambda$)\")\n",
    "plt.title(\"Eigenvalue distribution\")"
   ]
  },
  {
   "cell_type": "code",
   "execution_count": 861,
   "id": "ea24dc21",
   "metadata": {},
   "outputs": [
    {
     "data": {
      "text/plain": [
       "np.int64(5)"
      ]
     },
     "execution_count": 861,
     "metadata": {},
     "output_type": "execute_result"
    }
   ],
   "source": [
    "r = np.sum(d>=1e-6)\n",
    "r "
   ]
  },
  {
   "cell_type": "code",
   "execution_count": 862,
   "id": "d37573bc",
   "metadata": {},
   "outputs": [
    {
     "data": {
      "text/plain": [
       "((3969, 5), (3969, 5))"
      ]
     },
     "execution_count": 862,
     "metadata": {},
     "output_type": "execute_result"
    }
   ],
   "source": [
    "\n",
    "Mphi = Mphi[:, :r]\n",
    "phi = phi[:,:r]\n",
    "Mphi.shape, phi.shape"
   ]
  },
  {
   "cell_type": "code",
   "execution_count": 863,
   "id": "0cb859dd-473a-4148-bc89-34f272a041a8",
   "metadata": {},
   "outputs": [],
   "source": [
    "## Compare reconstructions in POD basis"
   ]
  },
  {
   "cell_type": "code",
   "execution_count": 864,
   "id": "0aa17d28-4add-48db-ae9e-d0b037df768b",
   "metadata": {},
   "outputs": [
    {
     "name": "stdout",
     "output_type": "stream",
     "text": [
      "################################################################################\n",
      "True state\n"
     ]
    },
    {
     "data": {
      "image/png": "[encoded data removed]",
      "text/plain": [
       "<Figure size 300x300 with 1 Axes>"
      ]
     },
     "metadata": {},
     "output_type": "display_data"
    },
    {
     "name": "stdout",
     "output_type": "stream",
     "text": [
      "################################################################################\n",
      "POD projected state\n"
     ]
    },
    {
     "data": {
      "image/png": "[encoded data removed]",
      "text/plain": [
       "<Figure size 300x300 with 1 Axes>"
      ]
     },
     "metadata": {},
     "output_type": "display_data"
    },
    {
     "name": "stdout",
     "output_type": "stream",
     "text": [
      "################################################################################\n",
      "As you can see, this problem is trivial, as only ten modes basically perfectly reconstruct the trivial output function\n"
     ]
    }
   ],
   "source": [
    "print(80*'#')\n",
    "print('True state')\n",
    "u.vector().set_local(u_data[0])\n",
    "plt.axis(\"off\")\n",
    "dl.plot(u, cmap=\"viridis\")\n",
    "fig = plt.gcf()\n",
    "fig.set_size_inches(3, 3)\n",
    "plt.show()\n",
    "\n",
    "print(80*'#')\n",
    "print('POD projected state')\n",
    "u.vector().set_local(phi@Mphi.T@(u_data[0] - u_shift) + u_shift)\n",
    "plt.axis(\"off\")\n",
    "dl.plot(u,cmap=\"viridis\")\n",
    "fig = plt.gcf()\n",
    "fig.set_size_inches(3, 3)\n",
    "plt.show()\n",
    "\n",
    "print(80*'#')\n",
    "print('As you can see, this problem is trivial, as only ten modes basically perfectly reconstruct the trivial output function')"
   ]
  },
  {
   "cell_type": "markdown",
   "id": "143e9768-ac88-4df7-85f4-a716db888bac",
   "metadata": {},
   "source": [
    "## (Linear) encoders and decoders.\n",
    "\n",
    "Please consult our papers for a more in-depth discussion. E.g., [section 2.4 in this work](https://arxiv.org/abs/2411.12726)\n",
    "\n",
    "We can expand a function on an orthonormal basis as\n",
    "\n",
    "$$ u(x) = \\sum_{i=1}^\\infty \\langle u(x),\\phi_i(x)\\rangle_\\mathcal{U} \\phi_i(x)$$\n",
    "\n",
    "and the truncated representation\n",
    "\n",
    "$$ u(x) = \\sum_{i=1}^r \\langle u(x),\\phi_i(x)\\rangle_\\mathcal{U} \\phi_i(x)$$\n",
    "\n",
    "The encoder is the mapping from the data $u(x)$ to its truncated coefficient expansion $\\mathcal{E}_r u \\in \\mathbb{R}^{r}$\n",
    "\n",
    "$$ \\mathcal{E}_r u = \\left[\\langle u,\\phi_i\\rangle_\\mathcal{U}\\right]_{i=1}^r \\in \\mathbb{R}^{r}$$\n",
    "\n",
    "The decoder maps this data back to the function space (e.g., the basis expansion operation), given $\\alpha \\in \\mathbb{R}^r$ we have\n",
    "\n",
    "$$ \\mathcal{D}_r \\alpha  = \\sum_{i=1}^r \\alpha_i \\phi_i$$\n",
    "\n",
    "The encoder has the effect of the inner product $\\langle \\cdot,\\cdot\\rangle_\\mathcal{U}$, e.g., the mass matrix in finite elements, each column of it is $\\langle \\cdot, \\phi\\rangle_\\mathcal{U}$, so we call it `Mphi` $\\in \\mathbb{R}^{d_u \\times r}$. Likewise we call the decoder `\\phi` since its columns are just the basis vectors\n",
    "\n",
    "### Encoding u data\n",
    "\n",
    "The mapping to the coefficients of u is $u_r = \\mathcal{E}_r u$. In numpy this is `ur_data = Mphi.T@u_data`\n",
    "\n",
    "### Decoding the u data\n",
    "\n",
    "We decode with the basis: $\\mathcal{D}_r u_r$. In numpy this is `phi@ur_data`\n",
    "\n",
    "### Encoding and decoding the derivatives.\n",
    "\n",
    "The derivative of the map is \n",
    "\n",
    "$$ Du(c) \\in \\mathcal{L}(\\mathbb{R}^{d_c},\\mathcal{U}) $$\n",
    "\n",
    "that is, the space of linear operators from $\\mathbb{R}^{d_c}$ into $\\mathcal{U}$. We want to remove the high-dimensionality associated with $\\mathcal{U}$\n",
    "\n",
    "This is done with the encoder operator:\n",
    "\n",
    "$$\\mathcal{E}_r Du(c) \\in \\mathbb{R}^{r\\times d_c}$$"
   ]
  },
  {
   "cell_type": "code",
   "execution_count": 865,
   "id": "1faf9ed4-dfdf-4a15-963b-cc6c2834b998",
   "metadata": {},
   "outputs": [],
   "source": [
    "# Encode the u_data\n",
    "\n",
    "ur = np.einsum('ur,du->dr',Mphi,u_data)\n",
    "\n",
    "# Encoder the Du_data\n",
    "\n",
    "# dc = 2\n",
    "# Du_data = np.random.randn(nsamples,dU,dc)\n",
    "# Dur_data = np.einsum('ur,duc->drc',Mphi,Du_data)"
   ]
  },
  {
   "cell_type": "markdown",
   "id": "b59c945f-28a6-4590-b789-02fa5252775b",
   "metadata": {},
   "source": [
    "## Training data\n",
    "\n",
    "The training data then is inputs (`c_data` \\in $\\mathbb{R}^{nsamples\\times dc}$) and outputs (`ur_data`, `Dur_data`)\n",
    "\n",
    "\n",
    "## To figure out in the $Du(c)$ calculations\n",
    "\n",
    "The derivative I believe should have the mass matrix for $\\mathcal{M}$ space in it:\n",
    "\n",
    "$$ Du(c) = D_m(u(m(c)) \\frac{dm}{dc} = -\\left[\\frac{\\partial R}{\\partial u}\\right]^{-1}\\frac{\\partial R}{\\partial m} \\frac{dm}{dc}$$\n",
    "\n",
    "In the other notebook we are evaluating the mapping from $c\\mapsto m_\\text{node}$, the nodal representation of $m$, but not the function. The mapping to the function requires the mass matrix\n",
    "\n",
    "The torch gempy code will give you\n",
    "$$ \\frac{dm_\\text{node}}{dc}$$\n",
    "\n",
    "and we need in the end\n",
    "$$ \\frac{dm}{dc} = M_\\mathcal{M} \\frac{dm_\\text{node}}{dc}$$"
   ]
  },
  {
   "cell_type": "code",
   "execution_count": 866,
   "id": "9624321f-e22b-4791-969b-f7373ff93c55",
   "metadata": {},
   "outputs": [],
   "source": [
    "# Calculating the mass matrix for $\\mathcal{M}$\n"
   ]
  },
  {
   "cell_type": "code",
   "execution_count": 867,
   "id": "fa30828f-d84e-41f7-a160-bad3681fb863",
   "metadata": {},
   "outputs": [],
   "source": [
    "# m_trial = dl.TrialFunction(Vh[hp.PARAMETER])\n",
    "# m_test = dl.TestFunction(Vh[hp.PARAMETER])\n",
    "\n",
    "# M_M = dl.assemble(dl.inner(m_trial,m_test)*dl.dx)"
   ]
  },
  {
   "cell_type": "markdown",
   "id": "705e62f8-6ca7-4419-bfe1-790cf5b244b2",
   "metadata": {},
   "source": [
    "## Final form of the pre-reduced Jacobian\n",
    "\n",
    "$$ Du(c) = -\\left[\\frac{\\partial R}{\\partial u}\\right]^{-1}\\frac{\\partial R}{\\partial m} M_\\mathcal{M}\\frac{dm_\\text{node}}{dc}$$\n",
    "\n",
    "Where \n",
    "\n",
    "$$ \\frac{dm_\\text{node}}{dc} \\in \\mathbb{R}^{d_\\text{node}\\times dc}$$\n",
    "\n",
    "is the nodal Jacobian you will get as the output from the gempy torch automatic differntiation\n",
    "\n",
    "## DOF ORDERING FOR m\n",
    "\n",
    "You will also need to check the correct degree of freedom mapping for $m$\n",
    "\n",
    "It will likely be something like the code we had: `m_values[d2v]`\n",
    "\n",
    "So the output of your torch AD for dm_node/dc will need to have each column reordered using the d2v re-ordering.\n",
    "\n",
    "When in doubt, plot everything. Do you see that I am constantly plotting to make sure that I am dealing with the right thing? If you get the vertex to dof map wrong you will be able to see it immediately via plotting columns of the Jacobian."
   ]
  },
  {
   "cell_type": "code",
   "execution_count": 868,
   "id": "b2c1b47d",
   "metadata": {},
   "outputs": [
    {
     "data": {
      "image/png": "[encoded data removed]",
      "text/plain": [
       "<Figure size 300x300 with 1 Axes>"
      ]
     },
     "metadata": {},
     "output_type": "display_data"
    }
   ],
   "source": [
    "u_hat = dl.Function(Vh[hp.STATE])\n",
    "u_hat.vector().set_local(J_data[0,:,0])\n",
    "plt.axis(\"off\")\n",
    "dl.plot(u_hat,cmap=\"viridis\")\n",
    "fig = plt.gcf()\n",
    "fig.set_size_inches(3, 3)"
   ]
  },
  {
   "cell_type": "code",
   "execution_count": 869,
   "id": "7504e88d",
   "metadata": {},
   "outputs": [
    {
     "data": {
      "image/png": "[encoded data removed]",
      "text/plain": [
       "<Figure size 300x300 with 1 Axes>"
      ]
     },
     "metadata": {},
     "output_type": "display_data"
    }
   ],
   "source": [
    "u_hat = dl.Function(Vh[hp.STATE])\n",
    "u_hat.vector().set_local(J_data[0,:,1])\n",
    "plt.axis(\"off\")\n",
    "dl.plot(u_hat,cmap=\"viridis\")\n",
    "fig = plt.gcf()\n",
    "fig.set_size_inches(3, 3)"
   ]
  },
  {
   "cell_type": "code",
   "execution_count": 870,
   "id": "21d6aeeb",
   "metadata": {},
   "outputs": [
    {
     "data": {
      "text/plain": [
       "((1000, 5), (1000, 5, 2))"
      ]
     },
     "execution_count": 870,
     "metadata": {},
     "output_type": "execute_result"
    }
   ],
   "source": [
    "Dur = np.einsum('ur,duc->drc',Mphi,J_data)\n",
    "ur.shape, Dur.shape"
   ]
  },
  {
   "cell_type": "code",
   "execution_count": 871,
   "id": "db7eb5f2",
   "metadata": {},
   "outputs": [
    {
     "name": "stdout",
     "output_type": "stream",
     "text": [
      "torch.Size([5, 5]) torch.Size([2, 2])\n",
      "Train size: 600,Valid size: 200,  Test size: 200\n",
      "Epoch [0/100], Train Loss: 0.9886, Val Loss: 5.2261\n",
      "Epoch [10/100], Train Loss: 0.0044, Val Loss: 0.0192\n",
      "Epoch [20/100], Train Loss: 0.0001, Val Loss: 0.0009\n",
      "Epoch [30/100], Train Loss: 0.0001, Val Loss: 0.0009\n",
      "Epoch [40/100], Train Loss: 0.0001, Val Loss: 0.0009\n",
      "Epoch [50/100], Train Loss: 0.0001, Val Loss: 0.0009\n",
      "Epoch [60/100], Train Loss: 0.0001, Val Loss: 0.0009\n",
      "Epoch [70/100], Train Loss: 0.0001, Val Loss: 0.0009\n",
      "Epoch [80/100], Train Loss: 0.0001, Val Loss: 0.0009\n",
      "Epoch [90/100], Train Loss: 0.0001, Val Loss: 0.0009\n",
      "Epoch [99/100], Train Loss: 0.0001, Val Loss: 0.0009\n",
      "L2 accuaracy without Jacobian:  tensor(0.9707, grad_fn=<RsubBackward1>)\n"
     ]
    }
   ],
   "source": [
    "train_network(Gempy_Inputs=c, PDE_outputs=ur, Jacobian=Dur, layer_sizes=[c.shape[1],r,r,r,r], num_epochs=100)"
   ]
  },
  {
   "cell_type": "code",
   "execution_count": 872,
   "id": "63745892",
   "metadata": {},
   "outputs": [
    {
     "name": "stdout",
     "output_type": "stream",
     "text": [
      "torch.Size([5, 5]) torch.Size([2, 2])\n",
      "Train size: 600,Valid size: 200,  Test size: 200\n",
      "Epoch [0/100], Train Loss: 0.5003, Val Loss: 2.6307, L2 Loss: 0.4946, F2 Loss: 0.0057\n",
      "Epoch [10/100], Train Loss: 0.0023, Val Loss: 0.0098, L2 Loss: 0.0023, F2 Loss: 0.0000\n",
      "Epoch [20/100], Train Loss: 0.0001, Val Loss: 0.0005, L2 Loss: 0.0001, F2 Loss: 0.0000\n",
      "Epoch [30/100], Train Loss: 0.0001, Val Loss: 0.0004, L2 Loss: 0.0001, F2 Loss: 0.0000\n",
      "Epoch [40/100], Train Loss: 0.0001, Val Loss: 0.0004, L2 Loss: 0.0001, F2 Loss: 0.0000\n",
      "Epoch [50/100], Train Loss: 0.0001, Val Loss: 0.0005, L2 Loss: 0.0001, F2 Loss: 0.0000\n",
      "Epoch [60/100], Train Loss: 0.0001, Val Loss: 0.0004, L2 Loss: 0.0001, F2 Loss: 0.0000\n",
      "Epoch [70/100], Train Loss: 0.0001, Val Loss: 0.0004, L2 Loss: 0.0001, F2 Loss: 0.0000\n",
      "Epoch [80/100], Train Loss: 0.0001, Val Loss: 0.0004, L2 Loss: 0.0001, F2 Loss: 0.0000\n",
      "Epoch [90/100], Train Loss: 0.0001, Val Loss: 0.0004, L2 Loss: 0.0001, F2 Loss: 0.0000\n",
      "Epoch [99/100], Train Loss: 0.0001, Val Loss: 0.0004, L2 Loss: 0.0001, F2 Loss: 0.0000\n",
      "L2 accuracy with Jacobian:  tensor(0.9707, grad_fn=<RsubBackward1>)\n",
      "H1 accuracy :  tensor(-838.2956, grad_fn=<RsubBackward1>)\n"
     ]
    }
   ],
   "source": [
    "train_network(network_type=\"full\", Gempy_Inputs=c, PDE_outputs=ur, Jacobian=Dur, layer_sizes=[c.shape[1],r,r,r,r], num_epochs=100)"
   ]
  },
  {
   "cell_type": "code",
   "execution_count": 873,
   "id": "3ebb796a",
   "metadata": {},
   "outputs": [
    {
     "name": "stdout",
     "output_type": "stream",
     "text": [
      "torch.Size([5, 5]) torch.Size([2, 2])\n",
      "Train size: 600,Valid size: 200,  Test size: 200\n",
      "Epoch [0/100], Train Loss: 0.5003, Val Loss: 2.6307, L2 Loss: 0.4946, F2 Loss: 0.0057\n",
      "Epoch [10/100], Train Loss: 0.0021, Val Loss: 0.0090, L2 Loss: 0.0021, F2 Loss: 0.0000\n",
      "Epoch [20/100], Train Loss: 0.0001, Val Loss: 0.0005, L2 Loss: 0.0001, F2 Loss: 0.0000\n",
      "Epoch [30/100], Train Loss: 0.0001, Val Loss: 0.0005, L2 Loss: 0.0001, F2 Loss: 0.0000\n",
      "Epoch [40/100], Train Loss: 0.0001, Val Loss: 0.0004, L2 Loss: 0.0001, F2 Loss: 0.0000\n",
      "Epoch [50/100], Train Loss: 0.0001, Val Loss: 0.0004, L2 Loss: 0.0001, F2 Loss: 0.0000\n",
      "Epoch [60/100], Train Loss: 0.0001, Val Loss: 0.0004, L2 Loss: 0.0001, F2 Loss: 0.0000\n",
      "Epoch [70/100], Train Loss: 0.0001, Val Loss: 0.0005, L2 Loss: 0.0001, F2 Loss: 0.0000\n",
      "Epoch [80/100], Train Loss: 0.0001, Val Loss: 0.0004, L2 Loss: 0.0001, F2 Loss: 0.0000\n",
      "Epoch [90/100], Train Loss: 0.0001, Val Loss: 0.0004, L2 Loss: 0.0001, F2 Loss: 0.0000\n",
      "Epoch [99/100], Train Loss: 0.0001, Val Loss: 0.0004, L2 Loss: 0.0001, F2 Loss: 0.0000\n",
      "L2 accuaracy with Jacobian:  tensor(0.9709, grad_fn=<RsubBackward1>)\n",
      "H1 accuracy :  tensor(-818.7281, grad_fn=<RsubBackward1>)\n"
     ]
    }
   ],
   "source": [
    "train_network(network_type=5, Gempy_Inputs=c, PDE_outputs=ur, Jacobian=Dur, layer_sizes=[c.shape[1],r,r,r,r], num_epochs=100)"
   ]
  }
 ],
 "metadata": {
  "kernelspec": {
   "display_name": "gempy_dino",
   "language": "python",
   "name": "python3"
  },
  "language_info": {
   "codemirror_mode": {
    "name": "ipython",
    "version": 3
   },
   "file_extension": ".py",
   "mimetype": "text/x-python",
   "name": "python",
   "nbconvert_exporter": "python",
   "pygments_lexer": "ipython3",
   "version": "3.10.13"
  }
 },
 "nbformat": 4,
 "nbformat_minor": 5
}
