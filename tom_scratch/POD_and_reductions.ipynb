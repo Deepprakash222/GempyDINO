{
 "cells": [
  {
   "cell_type": "code",
   "execution_count": 124,
   "id": "deac4f72-faff-4f2a-b1b8-3d3e639a91e8",
   "metadata": {},
   "outputs": [],
   "source": [
    "import os,sys\n",
    "\n",
    "import ufl\n",
    "import dolfin as dl\n",
    "\n",
    "sys.path.append(os.environ.get('HIPPYLIB_PATH', \"../../\"))\n",
    "import hippylib as hp\n",
    "sys.path.append(os.environ.get('HIPPYFLOW_PATH'))\n",
    "import hippyflow as hf\n",
    "\n",
    "import torch\n",
    "\n",
    "import gempy as gp\n",
    "import gempy_engine\n",
    "import gempy_viewer as gpv\n",
    "from gempy_engine.core.backend_tensor import BackendTensor\n",
    "from gempy_probability.plot_posterior import default_red, default_blue, PlotPosterior\n",
    "\n",
    "from helpers import *\n",
    "from generate_samples import *"
   ]
  },
  {
   "cell_type": "markdown",
   "id": "fcf3966f-78b4-4c07-96f6-c48968b10332",
   "metadata": {},
   "source": [
    "## Setup gempy model"
   ]
  },
  {
   "cell_type": "code",
   "execution_count": 125,
   "id": "dada92e6-d084-46ea-8771-ef886437c7c7",
   "metadata": {},
   "outputs": [
    {
     "name": "stdout",
     "output_type": "stream",
     "text": [
      "Setting Backend To: AvailableBackends.numpy\n"
     ]
    },
    {
     "name": "stderr",
     "output_type": "stream",
     "text": [
      "/home/jt925938/anaconda3/envs/gempy_dino/lib/python3.10/site-packages/gempy/core/data/geo_model.py:164: UserWarning: You are using refinement and passing a regular grid. The resolution of the regular grid will be overwritten\n",
      "  warnings.warn(\n"
     ]
    }
   ],
   "source": [
    "geo_model_test = create_initial_gempy_model_3_layer(refinement=7, save=True)\n"
   ]
  },
  {
   "cell_type": "markdown",
   "id": "116fbb39-cca4-4a8f-a4f8-27c822b5ffee",
   "metadata": {},
   "source": [
    "## Setup the problem"
   ]
  },
  {
   "cell_type": "code",
   "execution_count": 126,
   "id": "b8c93511-f0d9-40aa-b6c2-5483c553e838",
   "metadata": {},
   "outputs": [
    {
     "name": "stdout",
     "output_type": "stream",
     "text": [
      "Active grids: ['custom']\n"
     ]
    }
   ],
   "source": [
    "nx = 15; ny = 15\n",
    "mesh = dl.RectangleMesh(dl.Point(0.0, 0.0), dl.Point(1.0, 1.0), nx, ny)\n",
    "Vh_STATE = dl.FunctionSpace(mesh, \"CG\", 2)\n",
    "Vh_PARAMETER = dl.FunctionSpace(mesh, \"CG\", 1)\n",
    "Vh = [Vh_STATE, Vh_PARAMETER, Vh_STATE]\n",
    "\n",
    "d2v = dl.dof_to_vertex_map(Vh[hp.PARAMETER])\n",
    "v2d = dl.vertex_to_dof_map(Vh[hp.PARAMETER])\n",
    "\n",
    "\n",
    "def u_boundary(x, on_boundary):\n",
    "    return on_boundary and ( x[1] < dl.DOLFIN_EPS or x[1] > 1.0 - dl.DOLFIN_EPS)\n",
    "\n",
    "u_bdr = dl.Expression(\"x[1]\", degree=1)\n",
    "u_bdr0 = dl.Constant(0.0)\n",
    "bc = dl.DirichletBC(Vh[hp.STATE], u_bdr, u_boundary)\n",
    "bc0 = dl.DirichletBC(Vh[hp.STATE], u_bdr0, u_boundary)\n",
    "\n",
    "f = dl.Constant(0.0)\n",
    "\n",
    "def pde_varf(u,m,p):\n",
    "    return m*ufl.inner(ufl.grad(u), ufl.grad(p))*ufl.dx - f*p*ufl.dx\n",
    "\n",
    "pde = hp.PDEVariationalProblem(Vh, pde_varf, bc, bc0, is_fwd_linear=True)\n",
    "\n",
    "\n",
    "# GEMPY VERTEX MAPPING\n",
    "loaded_array = mesh.coordinates()\n",
    "\n",
    "if loaded_array.shape[1]==2:\n",
    "    xyz_coord = np.insert(loaded_array, 1, 0, axis=1)\n",
    "elif loaded_array.shape[1]==3:\n",
    "    xyz_coord = loaded_array\n",
    "gp.set_custom_grid(geo_model_test.grid, xyz_coord=xyz_coord)\n",
    "geo_model_test.interpolation_options.mesh_extraction = False"
   ]
  },
  {
   "cell_type": "markdown",
   "id": "da26c673-04b1-4a4f-be17-5f63e2e539c3",
   "metadata": {},
   "source": [
    "## Generate samples of the state.\n",
    "\n",
    "\n",
    "NOTE I AM USING A SIMPLE MPI RANK PROCESS SO THE ARRAY OPERATION `.get_local()` MAY NEED TO BE MODIFIED IN AN MPI PARALLEL CONTEXT. HOWEVER FOR PROBLEMS THAT ARE THIS SMALL THERE IS NO JUSTIFICATION FOR MPI PARALLELISM FOR THE MESH"
   ]
  },
  {
   "cell_type": "code",
   "execution_count": null,
   "id": "9e025629",
   "metadata": {},
   "outputs": [
    {
     "name": "stdout",
     "output_type": "stream",
     "text": [
      "Setting Backend To: AvailableBackends.PYTORCH\n",
      "Condition number: 3270.8855697435865.\n",
      "Condition number: 937.8272903875738.\n",
      "Condition number: 2436.5127694562807.\n",
      "Condition number: 3302.2335389751343.\n",
      "Condition number: 949.318390970095.\n",
      "Condition number: 1544.511691510481.\n",
      "Condition number: 1832.502779225806.\n",
      "Condition number: 2814.176813534337.\n",
      "Condition number: 1661.4269154415326.\n",
      "Condition number: 3073.036468041168.\n",
      "Condition number: 2411.0580625796224.\n",
      "Condition number: 1627.7737791580153.\n",
      "Condition number: 3795.6690311011444.\n",
      "Condition number: 3749.7420342733126.\n",
      "Condition number: 3737.615611360862.\n",
      "Condition number: 2890.853976067783.\n",
      "Condition number: 2198.617452676922.\n",
      "Condition number: 2489.7020958054213.\n",
      "Condition number: 1726.7258723242321.\n",
      "Condition number: 3075.784857827388.\n",
      "Condition number: 1006.1861044335019.\n",
      "Condition number: 3771.9519775906892.\n",
      "Condition number: 2137.800141704474.\n",
      "Condition number: 1708.003555378283.\n",
      "Condition number: 2017.2809246578468.\n",
      "Condition number: 1081.3839946970636.\n",
      "Condition number: 3608.3203446616876.\n",
      "Condition number: 2838.2875131398123.\n",
      "Condition number: 1152.505377260536.\n",
      "Condition number: 2399.129766806988.\n",
      "Condition number: 2197.0132235558613.\n",
      "Condition number: 2676.1314610038135.\n",
      "Condition number: 2390.332302799302.\n",
      "Condition number: 2423.190117178386.\n",
      "Condition number: 3734.427295586985.\n",
      "Condition number: 2857.6802187361.\n",
      "Condition number: 3271.6120233212996.\n",
      "Condition number: 2975.073580139364.\n",
      "Condition number: 2588.4862415980924.\n",
      "Condition number: 2358.1930749393855.\n",
      "Condition number: 893.6750327936239.\n",
      "Condition number: 2514.5035338746925.\n",
      "Condition number: 2065.9585874324594.\n",
      "Condition number: 998.6084821517913.\n",
      "Condition number: 2029.6551919020958.\n",
      "Condition number: 1352.2051182625462.\n",
      "Condition number: 3299.6562367812544.\n",
      "Condition number: 1200.0300562556265.\n",
      "Condition number: 2525.653370855714.\n",
      "Condition number: 1165.3165318516862.\n",
      "Condition number: 1758.8414108663087.\n",
      "Condition number: 2962.2403961917616.\n",
      "Condition number: 3263.253583805557.\n",
      "Condition number: 3536.4172144178083.\n",
      "Condition number: 2436.492864935444.\n",
      "Condition number: 2961.8550633792775.\n",
      "Condition number: 1811.7768580825627.\n",
      "Condition number: 1114.9837727249358.\n",
      "Condition number: 2733.353421507705.\n",
      "Condition number: 3120.445415317976.\n",
      "Condition number: 1048.8764936690786.\n",
      "Condition number: 1381.176457909548.\n",
      "Condition number: 3174.2746928002484.\n",
      "Condition number: 938.8395903314321.\n",
      "Condition number: 2910.2978718821864.\n",
      "Condition number: 1455.5094138453069.\n",
      "Condition number: 1719.8061548508424.\n",
      "Condition number: 2011.6931226547579.\n",
      "Condition number: 1946.3122582848628.\n",
      "Condition number: 3442.8665711845283.\n",
      "Condition number: 1782.3460643387145.\n",
      "Condition number: 1993.171253443176.\n",
      "Condition number: 1547.377021966763.\n",
      "Condition number: 2708.1198478988936.\n",
      "Condition number: 1530.7765833459398.\n",
      "Condition number: 2855.793839124909.\n",
      "Condition number: 2568.011231694288.\n",
      "Condition number: 2067.433757412193.\n",
      "Condition number: 1750.340765128802.\n",
      "Condition number: 3396.272248462594.\n",
      "Condition number: 1001.622811873767.\n",
      "Condition number: 905.4371998125473.\n",
      "Condition number: 3673.8276278005937.\n",
      "Condition number: 1893.04982901371.\n",
      "Condition number: 1079.8868894143807.\n",
      "Condition number: 3798.108525130846.\n",
      "Condition number: 2484.387828998796.\n",
      "Condition number: 1588.620885413494.\n",
      "Condition number: 3258.668075075007.\n",
      "Condition number: 1100.6072563315397.\n",
      "Condition number: 2158.009701652449.\n",
      "Condition number: 2635.154952522294.\n",
      "Condition number: 1770.4288964850382.\n",
      "Condition number: 2049.8614232459813.\n",
      "Condition number: 1548.2169552913442.\n",
      "Condition number: 3588.3570924873957.\n",
      "Condition number: 1617.1644219735247.\n",
      "Condition number: 1816.8112934447463.\n",
      "Condition number: 1275.3309864464236.\n",
      "Condition number: 1707.615697686345.\n"
     ]
    }
   ],
   "source": [
    "sp_coords_copy_test = geo_model_test.interpolation_input.surface_points.sp_coords.copy()\n",
    "###############################################################################\n",
    "# Make a list of gempy parameter which would be treated as a random variable\n",
    "###############################################################################\n",
    "dtype =torch.float64\n",
    "test_list=[]\n",
    "test_list.append({\"update\":\"interface_data\",\"id\":torch.tensor([1]), \"direction\":\"Z\", \"prior_distribution\":\"normal\",\"normal\":{\"mean\":torch.tensor(sp_coords_copy_test[1,2],dtype=dtype), \"std\":torch.tensor(0.06,dtype=dtype)}})\n",
    "test_list.append({\"update\":\"interface_data\",\"id\":torch.tensor([4]), \"direction\":\"Z\", \"prior_distribution\":\"normal\",\"normal\":{\"mean\":torch.tensor(sp_coords_copy_test[4,2],dtype=dtype), \"std\":torch.tensor(0.06,dtype=dtype)}})\n",
    "\n",
    "num_layers = len(test_list) # length of the list\n",
    "\n",
    "Gempy = GempyModel(test_list, geo_model_test, num_layers, dtype=torch.float64)\n",
    "\n",
    "c = Gempy.GenerateInputSamples(number_samples=500)\n",
    "m_data, dmdc_data = Gempy.GenerateOutputSamples(Inputs_samples=c)"
   ]
  },
  {
   "cell_type": "code",
   "execution_count": 128,
   "id": "4f073fe2",
   "metadata": {},
   "outputs": [
    {
     "data": {
      "text/plain": [
       "((100, 2), (100, 256), (100, 256, 2))"
      ]
     },
     "execution_count": 128,
     "metadata": {},
     "output_type": "execute_result"
    }
   ],
   "source": [
    "c.shape, m_data.shape, dmdc_data.shape"
   ]
  },
  {
   "cell_type": "code",
   "execution_count": 129,
   "id": "43148b55",
   "metadata": {},
   "outputs": [],
   "source": [
    "#m_data[8].reshape(11,11)"
   ]
  },
  {
   "cell_type": "code",
   "execution_count": 130,
   "id": "85b00772",
   "metadata": {},
   "outputs": [],
   "source": [
    "u_trial = dl.TrialFunction(Vh[hp.STATE])\n",
    "u_test = dl.TestFunction(Vh[hp.STATE])\n",
    "\n",
    "M_U = dl.assemble(dl.inner(u_trial,u_test)*dl.dx)\n",
    "\n",
    "I_U = hf.StateSpaceIdentityOperator(M_U)\n",
    "\n",
    "observable = hf.LinearStateObservable(pde,M_U)\n",
    "\n",
    "Jm = hf.ObservableJacobian(observable)\n",
    "\n",
    "m_trial = dl.TrialFunction(Vh[hp.PARAMETER])\n",
    "m_test = dl.TestFunction(Vh[hp.PARAMETER])\n",
    "\n",
    "M_M = dl.assemble(dl.inner(m_trial,m_test)*dl.dx)"
   ]
  },
  {
   "cell_type": "code",
   "execution_count": 131,
   "id": "ab93476b-3c35-48bb-ada9-624f36896d82",
   "metadata": {},
   "outputs": [
    {
     "data": {
      "text/plain": [
       "((100, 961), (100, 961, 2))"
      ]
     },
     "execution_count": 131,
     "metadata": {},
     "output_type": "execute_result"
    }
   ],
   "source": [
    "nsamples = c.shape[0]\n",
    "\n",
    "m = dl.Function(Vh[hp.PARAMETER])\n",
    "\n",
    "u = dl.Function(Vh[hp.STATE])\n",
    "uadj = dl.Function(Vh[hp.ADJOINT])\n",
    "\n",
    "dU = u.vector().get_local().shape[0]\n",
    "\n",
    "dC = c.shape[1]\n",
    "\n",
    "# once you have modified the means of c->m(c) comment this\n",
    "#sol = gp.compute_model(geo_model_test)\n",
    "#m_values = geo_model_test.solutions.octrees_output[0].last_output_center.custom_grid_values\n",
    "uhat = dl.Function(Vh[hp.STATE])\n",
    "m_nodes_hat = dl.Function(Vh[hp.PARAMETER])\n",
    "m_hat = dl.Function(Vh[hp.PARAMETER])\n",
    "u_data = np.zeros((nsamples,dU))\n",
    "J_data = np.zeros((nsamples, dU, dC))\n",
    "\n",
    "plotting = False\n",
    "for sample_index in range(nsamples):\n",
    "    # Do something here to modify the coefficients\n",
    "    # sol = gp.compute_model(geo_model_test)\n",
    "    #m_values = geo_model_test.solutions.octrees_output[0].last_output_center.custom_grid_values\n",
    "    \n",
    "    m_values = m_data[sample_index,:]\n",
    "    m.vector().set_local(m_values[d2v]) #uncomment this\n",
    "    # m.vector().set_local(m_values[d2v] +0.1*np.random.randn(m_values.shape[0])) #comment this\n",
    "    if plotting:\n",
    "        #plt.axis(\"off\")\n",
    "        dl.plot(m)\n",
    "        fig = plt.gcf()\n",
    "        fig.set_size_inches(1, 1)\n",
    "        plt.show()\n",
    "    x = [u.vector(),m.vector(),uadj.vector()]\n",
    "    pde.solveFwd(x[hp.STATE], x)\n",
    "    \n",
    "    Jm.observable.setLinearizationPoint(x)\n",
    "    \n",
    "    \n",
    "    # Get the data\n",
    "    u_data[sample_index,:] = x[hp.STATE].get_local()\n",
    "    \n",
    "    for component in range(dC):\n",
    "        #mhat.vector().set_local(dmdc[:,i])\n",
    "        m_nodes_hat.vector().set_local(dmdc_data[sample_index,:,component])\n",
    "        M_M.mult(m_nodes_hat.vector(), m_hat.vector())\n",
    "        Jm.mult(m_hat.vector(),uhat.vector())\n",
    "        J_data[sample_index,:,component] = uhat.vector().get_local()\n",
    "    \n",
    "u_data.shape, J_data.shape"
   ]
  },
  {
   "cell_type": "markdown",
   "id": "6f1612cd-b32d-4122-be65-49c0d517acab",
   "metadata": {},
   "source": [
    "## POD"
   ]
  },
  {
   "cell_type": "code",
   "execution_count": 132,
   "id": "ee42998e-952c-48dc-bbc8-ebc50eba3783",
   "metadata": {},
   "outputs": [
    {
     "name": "stdout",
     "output_type": "stream",
     "text": [
      "100\n",
      "Using HEP\n",
      "Preprocessing took 0.00115 seconds\n",
      "Eigenvalue solve took 0.00104 seconds\n",
      "Postprocessing took 0.00525 seconds\n",
      "Basis Orthogonality error: 0.0003166093216191034\n",
      "Basis-Projector Orthogonality error: 0.0003166093216191034\n",
      "Mean reconstruction error: 4.504e-10\n",
      "Max reconstruction error: 1.545e-09\n"
     ]
    }
   ],
   "source": [
    "# u_trial = dl.TrialFunction(Vh[hp.STATE])\n",
    "# u_test = dl.TestFunction(Vh[hp.STATE])\n",
    "\n",
    "# M_U = dl.assemble(dl.inner(u_trial,u_test)*dl.dx)\n",
    "\n",
    "POD = hf.PODProjectorFromData(Vh,M_output = M_U)\n",
    "\n",
    "mean_shifting = True\n",
    "\n",
    "# Change this later on to be chosen appropriately.\n",
    "u_rank = len(u_data)\n",
    "print(u_rank)\n",
    "d, phi, Mphi, u_shift  = POD.construct_subspace(u_data, u_rank, shifted=mean_shifting, method='hep', verify=True)"
   ]
  },
  {
   "cell_type": "code",
   "execution_count": 133,
   "id": "0cb859dd-473a-4148-bc89-34f272a041a8",
   "metadata": {},
   "outputs": [],
   "source": [
    "## Compare reconstructions in POD basis"
   ]
  },
  {
   "cell_type": "code",
   "execution_count": 134,
   "id": "0aa17d28-4add-48db-ae9e-d0b037df768b",
   "metadata": {},
   "outputs": [
    {
     "name": "stdout",
     "output_type": "stream",
     "text": [
      "################################################################################\n",
      "True state\n"
     ]
    },
    {
     "data": {
      "image/png": "[encoded data removed]",
      "text/plain": [
       "<Figure size 100x100 with 1 Axes>"
      ]
     },
     "metadata": {},
     "output_type": "display_data"
    },
    {
     "name": "stdout",
     "output_type": "stream",
     "text": [
      "################################################################################\n",
      "POD projected state\n"
     ]
    },
    {
     "data": {
      "image/png": "[encoded data removed]",
      "text/plain": [
       "<Figure size 100x100 with 1 Axes>"
      ]
     },
     "metadata": {},
     "output_type": "display_data"
    },
    {
     "name": "stdout",
     "output_type": "stream",
     "text": [
      "################################################################################\n",
      "As you can see, this problem is trivial, as only ten modes basically perfectly reconstruct the trivial output function\n"
     ]
    }
   ],
   "source": [
    "print(80*'#')\n",
    "print('True state')\n",
    "u.vector().set_local(u_data[0])\n",
    "plt.axis(\"off\")\n",
    "dl.plot(u)\n",
    "fig = plt.gcf()\n",
    "fig.set_size_inches(1, 1)\n",
    "plt.show()\n",
    "\n",
    "print(80*'#')\n",
    "print('POD projected state')\n",
    "u.vector().set_local(phi@Mphi.T@(u_data[0] - u_shift) + u_shift)\n",
    "plt.axis(\"off\")\n",
    "dl.plot(u)\n",
    "fig = plt.gcf()\n",
    "fig.set_size_inches(1, 1)\n",
    "plt.show()\n",
    "\n",
    "print(80*'#')\n",
    "print('As you can see, this problem is trivial, as only ten modes basically perfectly reconstruct the trivial output function')"
   ]
  },
  {
   "cell_type": "markdown",
   "id": "143e9768-ac88-4df7-85f4-a716db888bac",
   "metadata": {},
   "source": [
    "## (Linear) encoders and decoders.\n",
    "\n",
    "Please consult our papers for a more in-depth discussion. E.g., [section 2.4 in this work](https://arxiv.org/abs/2411.12726)\n",
    "\n",
    "We can expand a function on an orthonormal basis as\n",
    "\n",
    "$$ u(x) = \\sum_{i=1}^\\infty \\langle u(x),\\phi_i(x)\\rangle_\\mathcal{U} \\phi_i(x)$$\n",
    "\n",
    "and the truncated representation\n",
    "\n",
    "$$ u(x) = \\sum_{i=1}^r \\langle u(x),\\phi_i(x)\\rangle_\\mathcal{U} \\phi_i(x)$$\n",
    "\n",
    "The encoder is the mapping from the data $u(x)$ to its truncated coefficient expansion $\\mathcal{E}_r u \\in \\mathbb{R}^{r}$\n",
    "\n",
    "$$ \\mathcal{E}_r u = \\left[\\langle u,\\phi_i\\rangle_\\mathcal{U}\\right]_{i=1}^r \\in \\mathbb{R}^{r}$$\n",
    "\n",
    "The decoder maps this data back to the function space (e.g., the basis expansion operation), given $\\alpha \\in \\mathbb{R}^r$ we have\n",
    "\n",
    "$$ \\mathcal{D}_r \\alpha  = \\sum_{i=1}^r \\alpha_i \\phi_i$$\n",
    "\n",
    "The encoder has the effect of the inner product $\\langle \\cdot,\\cdot\\rangle_\\mathcal{U}$, e.g., the mass matrix in finite elements, each column of it is $\\langle \\cdot, \\phi\\rangle_\\mathcal{U}$, so we call it `Mphi` $\\in \\mathbb{R}^{d_u \\times r}$. Likewise we call the decoder `\\phi` since its columns are just the basis vectors\n",
    "\n",
    "### Encoding u data\n",
    "\n",
    "The mapping to the coefficients of u is $u_r = \\mathcal{E}_r u$. In numpy this is `ur_data = Mphi.T@u_data`\n",
    "\n",
    "### Decoding the u data\n",
    "\n",
    "We decode with the basis: $\\mathcal{D}_r u_r$. In numpy this is `phi@ur_data`\n",
    "\n",
    "### Encoding and decoding the derivatives.\n",
    "\n",
    "The derivative of the map is \n",
    "\n",
    "$$ Du(c) \\in \\mathcal{L}(\\mathbb{R}^{d_c},\\mathcal{U}) $$\n",
    "\n",
    "that is, the space of linear operators from $\\mathbb{R}^{d_c}$ into $\\mathcal{U}$. We want to remove the high-dimensionality associated with $\\mathcal{U}$\n",
    "\n",
    "This is done with the encoder operator:\n",
    "\n",
    "$$\\mathcal{E}_r Du(c) \\in \\mathbb{R}^{r\\times d_c}$$"
   ]
  },
  {
   "cell_type": "code",
   "execution_count": 135,
   "id": "1faf9ed4-dfdf-4a15-963b-cc6c2834b998",
   "metadata": {},
   "outputs": [],
   "source": [
    "# Encode the u_data\n",
    "\n",
    "ur = np.einsum('ur,du->dr',Mphi,u_data)\n",
    "\n",
    "# Encoder the Du_data\n",
    "\n",
    "dc = 2\n",
    "Du_data = np.random.randn(nsamples,dU,dc)\n",
    "Dur_data = np.einsum('ur,duc->drc',Mphi,Du_data)"
   ]
  },
  {
   "cell_type": "markdown",
   "id": "b59c945f-28a6-4590-b789-02fa5252775b",
   "metadata": {},
   "source": [
    "## Training data\n",
    "\n",
    "The training data then is inputs (`c_data` \\in $\\mathbb{R}^{nsamples\\times dc}$) and outputs (`ur_data`, `Dur_data`)\n",
    "\n",
    "\n",
    "## To figure out in the $Du(c)$ calculations\n",
    "\n",
    "The derivative I believe should have the mass matrix for $\\mathcal{M}$ space in it:\n",
    "\n",
    "$$ Du(c) = D_m(u(m(c)) \\frac{dm}{dc} = -\\left[\\frac{\\partial R}{\\partial u}\\right]^{-1}\\frac{\\partial R}{\\partial m} \\frac{dm}{dc}$$\n",
    "\n",
    "In the other notebook we are evaluating the mapping from $c\\mapsto m_\\text{node}$, the nodal representation of $m$, but not the function. The mapping to the function requires the mass matrix\n",
    "\n",
    "The torch gempy code will give you\n",
    "$$ \\frac{dm_\\text{node}}{dc}$$\n",
    "\n",
    "and we need in the end\n",
    "$$ \\frac{dm}{dc} = M_\\mathcal{M} \\frac{dm_\\text{node}}{dc}$$"
   ]
  },
  {
   "cell_type": "code",
   "execution_count": 136,
   "id": "9624321f-e22b-4791-969b-f7373ff93c55",
   "metadata": {},
   "outputs": [],
   "source": [
    "# Calculating the mass matrix for $\\mathcal{M}$\n"
   ]
  },
  {
   "cell_type": "code",
   "execution_count": 137,
   "id": "fa30828f-d84e-41f7-a160-bad3681fb863",
   "metadata": {},
   "outputs": [],
   "source": [
    "m_trial = dl.TrialFunction(Vh[hp.PARAMETER])\n",
    "m_test = dl.TestFunction(Vh[hp.PARAMETER])\n",
    "\n",
    "M_M = dl.assemble(dl.inner(m_trial,m_test)*dl.dx)"
   ]
  },
  {
   "cell_type": "markdown",
   "id": "705e62f8-6ca7-4419-bfe1-790cf5b244b2",
   "metadata": {},
   "source": [
    "## Final form of the pre-reduced Jacobian\n",
    "\n",
    "$$ Du(c) = -\\left[\\frac{\\partial R}{\\partial u}\\right]^{-1}\\frac{\\partial R}{\\partial m} M_\\mathcal{M}\\frac{dm_\\text{node}}{dc}$$\n",
    "\n",
    "Where \n",
    "\n",
    "$$ \\frac{dm_\\text{node}}{dc} \\in \\mathbb{R}^{d_\\text{node}\\times dc}$$\n",
    "\n",
    "is the nodal Jacobian you will get as the output from the gempy torch automatic differntiation\n",
    "\n",
    "## DOF ORDERING FOR m\n",
    "\n",
    "You will also need to check the correct degree of freedom mapping for $m$\n",
    "\n",
    "It will likely be something like the code we had: `m_values[d2v]`\n",
    "\n",
    "So the output of your torch AD for dm_node/dc will need to have each column reordered using the d2v re-ordering.\n",
    "\n",
    "When in doubt, plot everything. Do you see that I am constantly plotting to make sure that I am dealing with the right thing? If you get the vertex to dof map wrong you will be able to see it immediately via plotting columns of the Jacobian."
   ]
  },
  {
   "cell_type": "code",
   "execution_count": 138,
   "id": "6e2d7d89",
   "metadata": {},
   "outputs": [
    {
     "data": {
      "image/png": "[encoded data removed]",
      "text/plain": [
       "<Figure size 100x100 with 1 Axes>"
      ]
     },
     "metadata": {},
     "output_type": "display_data"
    }
   ],
   "source": [
    "m = dl.Function(Vh[hp.PARAMETER])\n",
    "m_nodes_hat = dl.Function(Vh[hp.PARAMETER])\n",
    "m_hat = dl.Function(Vh[hp.PARAMETER])\n",
    "m.vector().set_local(m_data[0,:][d2v])\n",
    "\n",
    "plt.axis(\"off\")\n",
    "dl.plot(m)\n",
    "fig = plt.gcf()\n",
    "fig.set_size_inches(1, 1)"
   ]
  },
  {
   "cell_type": "code",
   "execution_count": 139,
   "id": "68dc206a",
   "metadata": {},
   "outputs": [
    {
     "name": "stdout",
     "output_type": "stream",
     "text": [
      "################################################################################\n"
     ]
    },
    {
     "data": {
      "image/png": "[encoded data removed]",
      "text/plain": [
       "<Figure size 100x100 with 1 Axes>"
      ]
     },
     "metadata": {},
     "output_type": "display_data"
    }
   ],
   "source": [
    "print(80*'#')\n",
    "\n",
    "u.vector().set_local(u_data[0])\n",
    "plt.axis(\"off\")\n",
    "dl.plot(u)\n",
    "fig = plt.gcf()\n",
    "fig.set_size_inches(1, 1)\n",
    "plt.show()"
   ]
  },
  {
   "cell_type": "code",
   "execution_count": 140,
   "id": "2988a014",
   "metadata": {},
   "outputs": [
    {
     "data": {
      "image/png": "[encoded data removed]",
      "text/plain": [
       "<Figure size 100x100 with 1 Axes>"
      ]
     },
     "metadata": {},
     "output_type": "display_data"
    }
   ],
   "source": [
    "m_nodes_hat.vector().set_local(dmdc_data[0,:,0][d2v])\n",
    "M_M.mult(m_nodes_hat.vector(), m_hat.vector())\n",
    "plt.axis(\"off\")\n",
    "dl.plot(m_hat)\n",
    "#dl.plot(m_nodes_hat)\n",
    "fig = plt.gcf()\n",
    "fig.set_size_inches(1, 1)"
   ]
  },
  {
   "cell_type": "code",
   "execution_count": 141,
   "id": "d3abfd56",
   "metadata": {},
   "outputs": [
    {
     "data": {
      "image/png": "[encoded data removed]",
      "text/plain": [
       "<Figure size 100x100 with 1 Axes>"
      ]
     },
     "metadata": {},
     "output_type": "display_data"
    }
   ],
   "source": [
    "m_nodes_hat.vector().set_local(dmdc_data[0,:,1][d2v])\n",
    "M_M.mult(m_nodes_hat.vector(), m_hat.vector())\n",
    "plt.axis(\"off\")\n",
    "#dl.plot(m_nodes_hat)\n",
    "dl.plot(m_hat)\n",
    "fig = plt.gcf()\n",
    "fig.set_size_inches(1, 1)"
   ]
  },
  {
   "cell_type": "code",
   "execution_count": 142,
   "id": "b2c1b47d",
   "metadata": {},
   "outputs": [
    {
     "data": {
      "image/png": "[encoded data removed]",
      "text/plain": [
       "<Figure size 100x100 with 1 Axes>"
      ]
     },
     "metadata": {},
     "output_type": "display_data"
    }
   ],
   "source": [
    "u_hat = dl.Function(Vh[hp.STATE])\n",
    "u_hat.vector().set_local(J_data[0,:,0][d2v])\n",
    "plt.axis(\"off\")\n",
    "dl.plot(u_hat)\n",
    "fig = plt.gcf()\n",
    "fig.set_size_inches(1, 1)"
   ]
  },
  {
   "cell_type": "code",
   "execution_count": 143,
   "id": "7504e88d",
   "metadata": {},
   "outputs": [
    {
     "data": {
      "image/png": "[encoded data removed]",
      "text/plain": [
       "<Figure size 100x100 with 1 Axes>"
      ]
     },
     "metadata": {},
     "output_type": "display_data"
    }
   ],
   "source": [
    "u_hat = dl.Function(Vh[hp.STATE])\n",
    "u_hat.vector().set_local(J_data[0,:,1][d2v])\n",
    "plt.axis(\"off\")\n",
    "dl.plot(u_hat)\n",
    "fig = plt.gcf()\n",
    "fig.set_size_inches(1, 1)"
   ]
  },
  {
   "cell_type": "code",
   "execution_count": 144,
   "id": "21d6aeeb",
   "metadata": {},
   "outputs": [
    {
     "data": {
      "text/plain": [
       "((100, 100), (100, 100, 2))"
      ]
     },
     "execution_count": 144,
     "metadata": {},
     "output_type": "execute_result"
    }
   ],
   "source": [
    "Dur_data = np.einsum('ur,duc->drc',Mphi,J_data)\n",
    "ur.shape, Dur_data.shape"
   ]
  }
 ],
 "metadata": {
  "kernelspec": {
   "display_name": "gempy_dino",
   "language": "python",
   "name": "python3"
  },
  "language_info": {
   "codemirror_mode": {
    "name": "ipython",
    "version": 3
   },
   "file_extension": ".py",
   "mimetype": "text/x-python",
   "name": "python",
   "nbconvert_exporter": "python",
   "pygments_lexer": "ipython3",
   "version": "3.10.13"
  }
 },
 "nbformat": 4,
 "nbformat_minor": 5
}
