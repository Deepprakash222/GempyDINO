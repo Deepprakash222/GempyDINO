{
 "cells": [
  {
   "cell_type": "code",
   "execution_count": 11,
   "id": "deac4f72-faff-4f2a-b1b8-3d3e639a91e8",
   "metadata": {},
   "outputs": [],
   "source": [
    "import os,sys\n",
    "\n",
    "import ufl\n",
    "import dolfin as dl\n",
    "\n",
    "sys.path.append(os.environ.get('HIPPYLIB_PATH', \"../../\"))\n",
    "import hippylib as hp\n",
    "sys.path.append(os.environ.get('HIPPYFLOW_PATH'))\n",
    "import hippyflow as hf\n",
    "\n",
    "import torch\n",
    "\n",
    "import gempy as gp\n",
    "import gempy_engine\n",
    "import gempy_viewer as gpv\n",
    "from gempy_engine.core.backend_tensor import BackendTensor\n",
    "from gempy_probability.plot_posterior import default_red, default_blue, PlotPosterior\n",
    "\n",
    "from helpers import *\n",
    "from generate_samples import *"
   ]
  },
  {
   "cell_type": "markdown",
   "id": "fcf3966f-78b4-4c07-96f6-c48968b10332",
   "metadata": {},
   "source": [
    "## Setup gempy model"
   ]
  },
  {
   "cell_type": "code",
   "execution_count": 12,
   "id": "dada92e6-d084-46ea-8771-ef886437c7c7",
   "metadata": {},
   "outputs": [
    {
     "name": "stdout",
     "output_type": "stream",
     "text": [
      "Setting Backend To: AvailableBackends.numpy\n"
     ]
    },
    {
     "name": "stderr",
     "output_type": "stream",
     "text": [
      "/home/jt925938/anaconda3/envs/gempy_dino/lib/python3.10/site-packages/gempy/core/data/geo_model.py:164: UserWarning: You are using refinement and passing a regular grid. The resolution of the regular grid will be overwritten\n",
      "  warnings.warn(\n"
     ]
    }
   ],
   "source": [
    "geo_model_test = create_initial_gempy_model_3_layer(refinement=7, save=True)\n"
   ]
  },
  {
   "cell_type": "markdown",
   "id": "116fbb39-cca4-4a8f-a4f8-27c822b5ffee",
   "metadata": {},
   "source": [
    "## Setup the problem"
   ]
  },
  {
   "cell_type": "code",
   "execution_count": 13,
   "id": "b8c93511-f0d9-40aa-b6c2-5483c553e838",
   "metadata": {},
   "outputs": [
    {
     "name": "stdout",
     "output_type": "stream",
     "text": [
      "Active grids: ['custom']\n"
     ]
    }
   ],
   "source": [
    "nx = 10; ny = 10\n",
    "mesh = dl.RectangleMesh(dl.Point(0.0, 0.0), dl.Point(1.0, 1.0), nx, ny)\n",
    "Vh_STATE = dl.FunctionSpace(mesh, \"CG\", 2)\n",
    "Vh_PARAMETER = dl.FunctionSpace(mesh, \"CG\", 1)\n",
    "Vh = [Vh_STATE, Vh_PARAMETER, Vh_STATE]\n",
    "\n",
    "d2v = dl.dof_to_vertex_map(Vh[hp.PARAMETER])\n",
    "v2d = dl.vertex_to_dof_map(Vh[hp.PARAMETER])\n",
    "\n",
    "\n",
    "def u_boundary(x, on_boundary):\n",
    "    return on_boundary and ( x[1] < dl.DOLFIN_EPS or x[1] > 1.0 - dl.DOLFIN_EPS)\n",
    "\n",
    "u_bdr = dl.Expression(\"x[1]\", degree=1)\n",
    "u_bdr0 = dl.Constant(0.0)\n",
    "bc = dl.DirichletBC(Vh[hp.STATE], u_bdr, u_boundary)\n",
    "bc0 = dl.DirichletBC(Vh[hp.STATE], u_bdr0, u_boundary)\n",
    "\n",
    "f = dl.Constant(0.0)\n",
    "\n",
    "def pde_varf(u,m,p):\n",
    "    return m*ufl.inner(ufl.grad(u), ufl.grad(p))*ufl.dx - f*p*ufl.dx\n",
    "\n",
    "pde = hp.PDEVariationalProblem(Vh, pde_varf, bc, bc0, is_fwd_linear=True)\n",
    "\n",
    "\n",
    "# GEMPY VERTEX MAPPING\n",
    "loaded_array = mesh.coordinates()\n",
    "\n",
    "if loaded_array.shape[1]==2:\n",
    "    xyz_coord = np.insert(loaded_array, 1, 0, axis=1)\n",
    "elif loaded_array.shape[1]==3:\n",
    "    xyz_coord = loaded_array\n",
    "gp.set_custom_grid(geo_model_test.grid, xyz_coord=xyz_coord)\n",
    "geo_model_test.interpolation_options.mesh_extraction = False"
   ]
  },
  {
   "cell_type": "markdown",
   "id": "da26c673-04b1-4a4f-be17-5f63e2e539c3",
   "metadata": {},
   "source": [
    "## Generate samples of the state.\n",
    "\n",
    "\n",
    "NOTE I AM USING A SIMPLE MPI RANK PROCESS SO THE ARRAY OPERATION `.get_local()` MAY NEED TO BE MODIFIED IN AN MPI PARALLEL CONTEXT. HOWEVER FOR PROBLEMS THAT ARE THIS SMALL THERE IS NO JUSTIFICATION FOR MPI PARALLELISM FOR THE MESH"
   ]
  },
  {
   "cell_type": "code",
   "execution_count": null,
   "id": "9e025629",
   "metadata": {},
   "outputs": [
    {
     "name": "stdout",
     "output_type": "stream",
     "text": [
      "Setting Backend To: AvailableBackends.PYTORCH\n",
      "Condition number: 2589.4752092493.\n",
      "Condition number: 2108.8044097581437.\n",
      "Condition number: 3519.0684556559145.\n",
      "Condition number: 1128.775825519506.\n",
      "Condition number: 1507.77640722467.\n",
      "Condition number: 3174.7953819893632.\n",
      "Condition number: 3660.060316154013.\n",
      "Condition number: 3279.9283471982217.\n",
      "Condition number: 2678.347784308987.\n",
      "Condition number: 3277.13518924902.\n",
      "Condition number: 3777.395011564472.\n",
      "Condition number: 2186.4229137108164.\n",
      "Condition number: 3741.782648288936.\n",
      "Condition number: 2580.4660324118063.\n",
      "Condition number: 1150.118936184629.\n",
      "Condition number: 1052.3298099070378.\n",
      "Condition number: 2430.497008276964.\n",
      "Condition number: 3026.174932717001.\n",
      "Condition number: 2860.7303050842324.\n",
      "Condition number: 3142.392017762619.\n",
      "Condition number: 1756.0499076394526.\n",
      "Condition number: 1076.4310791132468.\n",
      "Condition number: 3546.1907154776713.\n",
      "Condition number: 1567.8524057560148.\n",
      "Condition number: 3741.430037004885.\n",
      "Condition number: 2576.7191292973866.\n",
      "Condition number: 2853.9546684104935.\n",
      "Condition number: 2937.728102761375.\n",
      "Condition number: 2690.4656307069918.\n",
      "Condition number: 2124.787352045651.\n",
      "Condition number: 2964.592466966869.\n",
      "Condition number: 1003.082220664958.\n",
      "Condition number: 1428.2408440679435.\n",
      "Condition number: 2592.0744988537404.\n",
      "Condition number: 2369.633181739518.\n",
      "Condition number: 3549.1183539090466.\n",
      "Condition number: 2236.83010470996.\n",
      "Condition number: 1386.6150082394802.\n",
      "Condition number: 3664.715607526847.\n",
      "Condition number: 3333.823223038615.\n",
      "Condition number: 2198.248070370293.\n",
      "Condition number: 1685.6645578291243.\n",
      "Condition number: 1261.8525387724867.\n",
      "Condition number: 3058.0790162163635.\n",
      "Condition number: 2249.735276958363.\n",
      "Condition number: 994.1578934956708.\n",
      "Condition number: 878.8220143319912.\n",
      "Condition number: 2018.4286946105633.\n",
      "Condition number: 1569.528551747032.\n",
      "Condition number: 2440.4866855833834.\n",
      "Condition number: 2737.6241242245.\n",
      "Condition number: 1177.9761056188634.\n",
      "Condition number: 2014.0199304893674.\n",
      "Condition number: 3297.7570787433383.\n",
      "Condition number: 1788.4211416727883.\n",
      "Condition number: 2850.4483778444046.\n",
      "Condition number: 1202.1724080001181.\n",
      "Condition number: 1392.4666273349158.\n",
      "Condition number: 3433.484889489115.\n",
      "Condition number: 1196.1225660374414.\n",
      "Condition number: 2595.6960959431894.\n",
      "Condition number: 1050.8394775841764.\n",
      "Condition number: 1104.9450401279914.\n",
      "Condition number: 3275.1730940831876.\n",
      "Condition number: 3600.856729345589.\n",
      "Condition number: 2161.400474742995.\n",
      "Condition number: 1028.714776156793.\n",
      "Condition number: 1044.8712605155024.\n",
      "Condition number: 1724.5272196897834.\n",
      "Condition number: 2088.0117335343025.\n",
      "Condition number: 2358.0590085287236.\n",
      "Condition number: 2837.845535243222.\n",
      "Condition number: 1986.5428715966736.\n",
      "Condition number: 2518.9431842016393.\n",
      "Condition number: 1007.2205945423337.\n",
      "Condition number: 1193.1596725828585.\n",
      "Condition number: 2994.0219323781307.\n",
      "Condition number: 2813.023362713988.\n",
      "Condition number: 1998.5169327995147.\n",
      "Condition number: 2513.166102813098.\n",
      "Condition number: 2682.9159257730935.\n",
      "Condition number: 1961.0236532917615.\n",
      "Condition number: 2028.45619413128.\n",
      "Condition number: 2428.6597629450894.\n",
      "Condition number: 3172.574258553162.\n",
      "Condition number: 1394.4316229739418.\n",
      "Condition number: 1343.7120247639393.\n",
      "Condition number: 2789.72861693029.\n",
      "Condition number: 2071.41519900513.\n",
      "Condition number: 1511.8899001910515.\n",
      "Condition number: 1557.3834337753779.\n",
      "Condition number: 1701.992713273759.\n",
      "Condition number: 3522.7577919202545.\n",
      "Condition number: 1303.1462521343055.\n",
      "Condition number: 1029.1188696277309.\n",
      "Condition number: 2405.271622296925.\n",
      "Condition number: 2383.1362546693235.\n",
      "Condition number: 2670.6135208553064.\n",
      "Condition number: 2845.9923677328297.\n",
      "Condition number: 3055.3191309234.\n"
     ]
    }
   ],
   "source": [
    "sp_coords_copy_test = geo_model_test.interpolation_input.surface_points.sp_coords.copy()\n",
    "###############################################################################\n",
    "# Make a list of gempy parameter which would be treated as a random variable\n",
    "###############################################################################\n",
    "dtype =torch.float64\n",
    "test_list=[]\n",
    "test_list.append({\"update\":\"interface_data\",\"id\":torch.tensor([1]), \"direction\":\"Z\", \"prior_distribution\":\"normal\",\"normal\":{\"mean\":torch.tensor(sp_coords_copy_test[1,2],dtype=dtype), \"std\":torch.tensor(0.06,dtype=dtype)}})\n",
    "test_list.append({\"update\":\"interface_data\",\"id\":torch.tensor([4]), \"direction\":\"Z\", \"prior_distribution\":\"normal\",\"normal\":{\"mean\":torch.tensor(sp_coords_copy_test[4,2],dtype=dtype), \"std\":torch.tensor(0.06,dtype=dtype)}})\n",
    "\n",
    "num_layers = len(test_list) # length of the list\n",
    "\n",
    "Gempy = GempyModel(test_list, geo_model_test, num_layers, dtype=torch.float64)\n",
    "\n",
    "c = Gempy.GenerateInputSamples(number_samples=10)\n",
    "m_data, dmdc_data = Gempy.GenerateOutputSamples(Inputs_samples=c)"
   ]
  },
  {
   "cell_type": "code",
   "execution_count": 15,
   "id": "4f073fe2",
   "metadata": {},
   "outputs": [
    {
     "data": {
      "text/plain": [
       "(torch.Size([100, 2]), torch.Size([100, 121]), torch.Size([100, 121, 2]))"
      ]
     },
     "execution_count": 15,
     "metadata": {},
     "output_type": "execute_result"
    }
   ],
   "source": [
    "c.shape, m_data.shape, dmdc_data.shape"
   ]
  },
  {
   "cell_type": "code",
   "execution_count": null,
   "id": "ab93476b-3c35-48bb-ada9-624f36896d82",
   "metadata": {},
   "outputs": [
    {
     "data": {
      "text/plain": [
       "(100, 441)"
      ]
     },
     "execution_count": 17,
     "metadata": {},
     "output_type": "execute_result"
    }
   ],
   "source": [
    "nsamples = c.shape[0]\n",
    "\n",
    "m = dl.Function(Vh[hp.PARAMETER])\n",
    "\n",
    "u = dl.Function(Vh[hp.STATE])\n",
    "uadj = dl.Function(Vh[hp.ADJOINT])\n",
    "\n",
    "dU = u.vector().get_local().shape[0]\n",
    "\n",
    "# once you have modified the means of c->m(c) comment this\n",
    "#sol = gp.compute_model(geo_model_test)\n",
    "#m_values = geo_model_test.solutions.octrees_output[0].last_output_center.custom_grid_values\n",
    "\n",
    "u_data = np.zeros((nsamples,dU))\n",
    "\n",
    "plotting = False\n",
    "for i in range(nsamples):\n",
    "    # Do something here to modify the coefficients\n",
    "    # sol = gp.compute_model(geo_model_test)\n",
    "    #m_values = geo_model_test.solutions.octrees_output[0].last_output_center.custom_grid_values\n",
    "    m_values = m_data[i,:].detach().numpy()\n",
    "    m.vector().set_local(m_values[d2v]) #uncomment this\n",
    "    # m.vector().set_local(m_values[d2v] +0.1*np.random.randn(m_values.shape[0])) #comment this\n",
    "    if plotting:\n",
    "        #plt.axis(\"off\")\n",
    "        dl.plot(m)\n",
    "        fig = plt.gcf()\n",
    "        fig.set_size_inches(1, 1)\n",
    "        plt.show()\n",
    "    x = [u.vector(),m.vector(),uadj.vector()]\n",
    "    pde.solveFwd(x[hp.STATE], x)\n",
    "    # Get the data\n",
    "    u_data[i,:] = x[hp.STATE].get_local()\n",
    "    \n",
    "u_data.shape"
   ]
  },
  {
   "cell_type": "markdown",
   "id": "6f1612cd-b32d-4122-be65-49c0d517acab",
   "metadata": {},
   "source": [
    "## POD"
   ]
  },
  {
   "cell_type": "code",
   "execution_count": null,
   "id": "ee42998e-952c-48dc-bbc8-ebc50eba3783",
   "metadata": {},
   "outputs": [
    {
     "ename": "NameError",
     "evalue": "name 'dl' is not defined",
     "output_type": "error",
     "traceback": [
      "\u001b[0;31m---------------------------------------------------------------------------\u001b[0m",
      "\u001b[0;31mNameError\u001b[0m                                 Traceback (most recent call last)",
      "Cell \u001b[0;32mIn[1], line 1\u001b[0m\n\u001b[0;32m----> 1\u001b[0m u_trial \u001b[38;5;241m=\u001b[39m \u001b[43mdl\u001b[49m\u001b[38;5;241m.\u001b[39mTrialFunction(Vh[hp\u001b[38;5;241m.\u001b[39mSTATE])\n\u001b[1;32m      2\u001b[0m u_test \u001b[38;5;241m=\u001b[39m dl\u001b[38;5;241m.\u001b[39mTestFunction(Vh[hp\u001b[38;5;241m.\u001b[39mSTATE])\n\u001b[1;32m      4\u001b[0m M_U \u001b[38;5;241m=\u001b[39m dl\u001b[38;5;241m.\u001b[39massemble(dl\u001b[38;5;241m.\u001b[39minner(u_trial,u_test)\u001b[38;5;241m*\u001b[39mdl\u001b[38;5;241m.\u001b[39mdx)\n",
      "\u001b[0;31mNameError\u001b[0m: name 'dl' is not defined"
     ]
    }
   ],
   "source": [
    "u_trial = dl.TrialFunction(Vh[hp.STATE])\n",
    "u_test = dl.TestFunction(Vh[hp.STATE])\n",
    "\n",
    "M_U = dl.assemble(dl.inner(u_trial,u_test)*dl.dx)\n",
    "\n",
    "POD = hf.PODProjectorFromData(Vh,M_output = M_U)\n",
    "\n",
    "mean_shifting = True\n",
    "\n",
    "# Change this later on to be chosen appropriately.\n",
    "u_rank = len(u_data)\n",
    "print(u_rank)\n",
    "d, phi, Mphi, u_shift  = POD.construct_subspace(u_data, u_rank, shifted=mean_shifting, method='hep', verify=True)"
   ]
  },
  {
   "cell_type": "code",
   "execution_count": null,
   "id": "0cb859dd-473a-4148-bc89-34f272a041a8",
   "metadata": {},
   "outputs": [],
   "source": [
    "## Compare reconstructions in POD basis"
   ]
  },
  {
   "cell_type": "code",
   "execution_count": 19,
   "id": "0aa17d28-4add-48db-ae9e-d0b037df768b",
   "metadata": {},
   "outputs": [
    {
     "name": "stdout",
     "output_type": "stream",
     "text": [
      "################################################################################\n",
      "True state\n"
     ]
    },
    {
     "data": {
      "image/png": "[encoded data removed]",
      "text/plain": [
       "<Figure size 100x100 with 1 Axes>"
      ]
     },
     "metadata": {},
     "output_type": "display_data"
    },
    {
     "name": "stdout",
     "output_type": "stream",
     "text": [
      "################################################################################\n",
      "POD projected state\n"
     ]
    },
    {
     "data": {
      "image/png": "[encoded data removed]",
      "text/plain": [
       "<Figure size 100x100 with 1 Axes>"
      ]
     },
     "metadata": {},
     "output_type": "display_data"
    },
    {
     "name": "stdout",
     "output_type": "stream",
     "text": [
      "################################################################################\n",
      "As you can see, this problem is trivial, as only ten modes basically perfectly reconstruct the trivial output function\n"
     ]
    }
   ],
   "source": [
    "\n",
    "\n",
    "print(80*'#')\n",
    "print('True state')\n",
    "u.vector().set_local(u_data[0])\n",
    "plt.axis(\"off\")\n",
    "dl.plot(u)\n",
    "fig = plt.gcf()\n",
    "fig.set_size_inches(1, 1)\n",
    "plt.show()\n",
    "\n",
    "print(80*'#')\n",
    "print('POD projected state')\n",
    "u.vector().set_local(phi@Mphi.T@(u_data[0] - u_shift) + u_shift)\n",
    "plt.axis(\"off\")\n",
    "dl.plot(u)\n",
    "fig = plt.gcf()\n",
    "fig.set_size_inches(1, 1)\n",
    "plt.show()\n",
    "\n",
    "print(80*'#')\n",
    "print('As you can see, this problem is trivial, as only ten modes basically perfectly reconstruct the trivial output function')"
   ]
  },
  {
   "cell_type": "markdown",
   "id": "143e9768-ac88-4df7-85f4-a716db888bac",
   "metadata": {},
   "source": [
    "## (Linear) encoders and decoders.\n",
    "\n",
    "Please consult our papers for a more in-depth discussion. E.g., [section 2.4 in this work](https://arxiv.org/abs/2411.12726)\n",
    "\n",
    "We can expand a function on an orthonormal basis as\n",
    "\n",
    "$$ u(x) = \\sum_{i=1}^\\infty \\langle u(x),\\phi_i(x)\\rangle_\\mathcal{U} \\phi_i(x)$$\n",
    "\n",
    "and the truncated representation\n",
    "\n",
    "$$ u(x) = \\sum_{i=1}^r \\langle u(x),\\phi_i(x)\\rangle_\\mathcal{U} \\phi_i(x)$$\n",
    "\n",
    "The encoder is the mapping from the data $u(x)$ to its truncated coefficient expansion $\\mathcal{E}_r u \\in \\mathbb{R}^{r}$\n",
    "\n",
    "$$ \\mathcal{E}_r u = \\left[\\langle u,\\phi_i\\rangle_\\mathcal{U}\\right]_{i=1}^r \\in \\mathbb{R}^{r}$$\n",
    "\n",
    "The decoder maps this data back to the function space (e.g., the basis expansion operation), given $\\alpha \\in \\mathbb{R}^r$ we have\n",
    "\n",
    "$$ \\mathcal{D}_r \\alpha  = \\sum_{i=1}^r \\alpha_i \\phi_i$$\n",
    "\n",
    "The encoder has the effect of the inner product $\\langle \\cdot,\\cdot\\rangle_\\mathcal{U}$, e.g., the mass matrix in finite elements, each column of it is $\\langle \\cdot, \\phi\\rangle_\\mathcal{U}$, so we call it `Mphi` $\\in \\mathbb{R}^{d_u \\times r}$. Likewise we call the decoder `\\phi` since its columns are just the basis vectors\n",
    "\n",
    "### Encoding u data\n",
    "\n",
    "The mapping to the coefficients of u is $u_r = \\mathcal{E}_r u$. In numpy this is `ur_data = Mphi.T@u_data`\n",
    "\n",
    "### Decoding the u data\n",
    "\n",
    "We decode with the basis: $\\mathcal{D}_r u_r$. In numpy this is `phi@ur_data`\n",
    "\n",
    "### Encoding and decoding the derivatives.\n",
    "\n",
    "The derivative of the map is \n",
    "\n",
    "$$ Du(c) \\in \\mathcal{L}(\\mathbb{R}^{d_c},\\mathcal{U}) $$\n",
    "\n",
    "that is, the space of linear operators from $\\mathbb{R}^{d_c}$ into $\\mathcal{U}$. We want to remove the high-dimensionality associated with $\\mathcal{U}$\n",
    "\n",
    "This is done with the encoder operator:\n",
    "\n",
    "$$\\mathcal{E}_r Du(c) \\in \\mathbb{R}^{r\\times d_c}$$"
   ]
  },
  {
   "cell_type": "code",
   "execution_count": 19,
   "id": "1faf9ed4-dfdf-4a15-963b-cc6c2834b998",
   "metadata": {},
   "outputs": [],
   "source": [
    "# Encode the u_data\n",
    "\n",
    "ur = np.einsum('ur,du->dr',Mphi,u_data)\n",
    "\n",
    "# Encoder the Du_data\n",
    "\n",
    "dc = 2\n",
    "Du_data = np.random.randn(nsamples,dU,dc)\n",
    "Dur_data = np.einsum('ur,duc->drc',Mphi,Du_data)"
   ]
  },
  {
   "cell_type": "markdown",
   "id": "b59c945f-28a6-4590-b789-02fa5252775b",
   "metadata": {},
   "source": [
    "## Training data\n",
    "\n",
    "The training data then is inputs (`c_data` \\in $\\mathbb{R}^{nsamples\\times dc}$) and outputs (`ur_data`, `Dur_data`)\n",
    "\n",
    "\n",
    "## To figure out in the $Du(c)$ calculations\n",
    "\n",
    "The derivative I believe should have the mass matrix for $\\mathcal{M}$ space in it:\n",
    "\n",
    "$$ Du(c) = D_m(u(m(c)) \\frac{dm}{dc} = -\\left[\\frac{\\partial R}{\\partial u}\\right]^{-1}\\frac{\\partial R}{\\partial m} \\frac{dm}{dc}$$\n",
    "\n",
    "In the other notebook we are evaluating the mapping from $c\\mapsto m_\\text{node}$, the nodal representation of $m$, but not the function. The mapping to the function requires the mass matrix\n",
    "\n",
    "The torch gempy code will give you\n",
    "$$ \\frac{dm_\\text{node}}{dc}$$\n",
    "\n",
    "and we need in the end\n",
    "$$ \\frac{dm}{dc} = M_\\mathcal{M} \\frac{dm_\\text{node}}{dc}$$"
   ]
  },
  {
   "cell_type": "code",
   "execution_count": null,
   "id": "9624321f-e22b-4791-969b-f7373ff93c55",
   "metadata": {},
   "outputs": [],
   "source": [
    "# Calculating the mass matrix for $\\mathcal{M}$"
   ]
  },
  {
   "cell_type": "code",
   "execution_count": null,
   "id": "fa30828f-d84e-41f7-a160-bad3681fb863",
   "metadata": {},
   "outputs": [],
   "source": [
    "m_trial = dl.TrialFunction(Vh[hp.PARAMETER])\n",
    "m_test = dl.TestFunction(Vh[hp.PARAMETER])\n",
    "\n",
    "M_M = dl.assemble(dl.inner(m_trial,m_test)*dl.dx)"
   ]
  },
  {
   "cell_type": "markdown",
   "id": "705e62f8-6ca7-4419-bfe1-790cf5b244b2",
   "metadata": {},
   "source": [
    "## Final form of the pre-reduced Jacobian\n",
    "\n",
    "$$ Du(c) = -\\left[\\frac{\\partial R}{\\partial u}\\right]^{-1}\\frac{\\partial R}{\\partial m} M_\\mathcal{M}\\frac{dm_\\text{node}}{dc}$$\n",
    "\n",
    "Where \n",
    "\n",
    "$$ \\frac{dm_\\text{node}}{dc} \\in \\mathbb{R}^{d_\\text{node}\\times dc}$$\n",
    "\n",
    "is the nodal Jacobian you will get as the output from the gempy torch automatic differntiation\n",
    "\n",
    "## DOF ORDERING FOR m\n",
    "\n",
    "You will also need to check the correct degree of freedom mapping for $m$\n",
    "\n",
    "It will likely be something like the code we had: `m_values[d2v]`\n",
    "\n",
    "So the output of your torch AD for dm_node/dc will need to have each column reordered using the d2v re-ordering.\n",
    "\n",
    "When in doubt, plot everything. Do you see that I am constantly plotting to make sure that I am dealing with the right thing? If you get the vertex to dof map wrong you will be able to see it immediately via plotting columns of the Jacobian."
   ]
  },
  {
   "cell_type": "code",
   "execution_count": null,
   "id": "b2a93c44-1ede-442e-b717-b4e4b3485e87",
   "metadata": {},
   "outputs": [],
   "source": []
  }
 ],
 "metadata": {
  "kernelspec": {
   "display_name": "gempy_dino",
   "language": "python",
   "name": "python3"
  },
  "language_info": {
   "codemirror_mode": {
    "name": "ipython",
    "version": 3
   },
   "file_extension": ".py",
   "mimetype": "text/x-python",
   "name": "python",
   "nbconvert_exporter": "python",
   "pygments_lexer": "ipython3",
   "version": "3.10.13"
  }
 },
 "nbformat": 4,
 "nbformat_minor": 5
}
