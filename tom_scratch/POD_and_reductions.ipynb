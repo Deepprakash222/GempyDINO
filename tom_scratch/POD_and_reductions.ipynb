{
 "cells": [
  {
   "cell_type": "code",
   "execution_count": 1,
   "id": "deac4f72-faff-4f2a-b1b8-3d3e639a91e8",
   "metadata": {},
   "outputs": [
    {
     "name": "stderr",
     "output_type": "stream",
     "text": [
      "/home/jt925938/anaconda3/envs/gempy_dino/lib/python3.10/site-packages/dolfin/jit/jit.py:121: RuntimeWarning: mpi4py.MPI.Session size changed, may indicate binary incompatibility. Expected 32 from C header, got 40 from PyObject\n",
      "  def compile_class(cpp_data, mpi_comm=MPI.comm_world):\n",
      "/home/jt925938/anaconda3/envs/gempy_dino/lib/python3.10/site-packages/dolfin/jit/jit.py:46: RuntimeWarning: mpi4py.MPI.Session size changed, may indicate binary incompatibility. Expected 32 from C header, got 40 from PyObject\n",
      "  if MPI.size(mpi_comm) == 1:\n"
     ]
    },
    {
     "name": "stdout",
     "output_type": "stream",
     "text": [
      "Setting Backend To: AvailableBackends.numpy\n"
     ]
    },
    {
     "name": "stderr",
     "output_type": "stream",
     "text": [
      "/home/jt925938/anaconda3/envs/gempy_dino/lib/python3.10/site-packages/tqdm/auto.py:21: TqdmWarning: IProgress not found. Please update jupyter and ipywidgets. See https://ipywidgets.readthedocs.io/en/stable/user_install.html\n",
      "  from .autonotebook import tqdm as notebook_tqdm\n"
     ]
    }
   ],
   "source": [
    "import os,sys\n",
    "\n",
    "import ufl\n",
    "import dolfin as dl\n",
    "\n",
    "sys.path.append(os.environ.get('HIPPYLIB_PATH', \"../../\"))\n",
    "import hippylib as hp\n",
    "sys.path.append(os.environ.get('HIPPYFLOW_PATH'))\n",
    "import hippyflow as hf\n",
    "\n",
    "import torch\n",
    "\n",
    "import gempy as gp\n",
    "import gempy_engine\n",
    "import gempy_viewer as gpv\n",
    "from gempy_engine.core.backend_tensor import BackendTensor\n",
    "from gempy_probability.plot_posterior import default_red, default_blue, PlotPosterior\n",
    "\n",
    "from helpers import *\n",
    "from generate_samples import *\n",
    "from train_nn import *"
   ]
  },
  {
   "cell_type": "markdown",
   "id": "fcf3966f-78b4-4c07-96f6-c48968b10332",
   "metadata": {},
   "source": [
    "## Setup gempy model"
   ]
  },
  {
   "cell_type": "code",
   "execution_count": 2,
   "id": "dada92e6-d084-46ea-8771-ef886437c7c7",
   "metadata": {},
   "outputs": [],
   "source": [
    "# geo_model_test = create_initial_gempy_model_3_layer(refinement=7, save=True)\n"
   ]
  },
  {
   "cell_type": "markdown",
   "id": "116fbb39-cca4-4a8f-a4f8-27c822b5ffee",
   "metadata": {},
   "source": [
    "## Setup the problem"
   ]
  },
  {
   "cell_type": "code",
   "execution_count": 3,
   "id": "b8c93511-f0d9-40aa-b6c2-5483c553e838",
   "metadata": {},
   "outputs": [],
   "source": [
    "nx = 15; ny = 15\n",
    "mesh = dl.RectangleMesh(dl.Point(0.0, 0.0), dl.Point(1.0, 1.0), nx, ny)\n",
    "Vh_STATE = dl.FunctionSpace(mesh, \"CG\", 2)\n",
    "Vh_PARAMETER = dl.FunctionSpace(mesh, \"CG\", 1)\n",
    "Vh = [Vh_STATE, Vh_PARAMETER, Vh_STATE]\n",
    "\n",
    "d2v = dl.dof_to_vertex_map(Vh[hp.PARAMETER])\n",
    "v2d = dl.vertex_to_dof_map(Vh[hp.PARAMETER])\n",
    "\n",
    "\n",
    "def u_boundary(x, on_boundary):\n",
    "    return on_boundary and ( x[1] < dl.DOLFIN_EPS or x[1] > 1.0 - dl.DOLFIN_EPS)\n",
    "\n",
    "u_bdr = dl.Expression(\"x[1]\", degree=1)\n",
    "u_bdr0 = dl.Constant(0.0)\n",
    "bc = dl.DirichletBC(Vh[hp.STATE], u_bdr, u_boundary)\n",
    "bc0 = dl.DirichletBC(Vh[hp.STATE], u_bdr0, u_boundary)\n",
    "\n",
    "f = dl.Constant(0.0)\n",
    "\n",
    "def pde_varf(u,m,p):\n",
    "    return m*ufl.inner(ufl.grad(u), ufl.grad(p))*ufl.dx - f*p*ufl.dx\n",
    "\n",
    "pde = hp.PDEVariationalProblem(Vh, pde_varf, bc, bc0, is_fwd_linear=True)\n"
   ]
  },
  {
   "cell_type": "markdown",
   "id": "da26c673-04b1-4a4f-be17-5f63e2e539c3",
   "metadata": {},
   "source": [
    "## Generate samples of the state.\n",
    "\n",
    "\n",
    "NOTE I AM USING A SIMPLE MPI RANK PROCESS SO THE ARRAY OPERATION `.get_local()` MAY NEED TO BE MODIFIED IN AN MPI PARALLEL CONTEXT. HOWEVER FOR PROBLEMS THAT ARE THIS SMALL THERE IS NO JUSTIFICATION FOR MPI PARALLELISM FOR THE MESH"
   ]
  },
  {
   "cell_type": "code",
   "execution_count": null,
   "id": "9e025629",
   "metadata": {},
   "outputs": [
    {
     "name": "stderr",
     "output_type": "stream",
     "text": [
      "/home/jt925938/anaconda3/envs/gempy_dino/lib/python3.10/site-packages/gempy/core/data/geo_model.py:164: UserWarning: You are using refinement and passing a regular grid. The resolution of the regular grid will be overwritten\n",
      "  warnings.warn(\n"
     ]
    },
    {
     "name": "stdout",
     "output_type": "stream",
     "text": [
      "Setting Backend To: AvailableBackends.numpy\n"
     ]
    },
    {
     "name": "stdout",
     "output_type": "stream",
     "text": [
      "Active grids: ['custom']\n",
      "Setting Backend To: AvailableBackends.PYTORCH\n"
     ]
    },
    {
     "name": "stderr",
     "output_type": "stream",
     "text": [
      "/home/jt925938/anaconda3/envs/gempy_dino/lib/python3.10/site-packages/torch/random.py:166: UserWarning: CUDA reports that you have 4 available devices, and you have used fork_rng without explicitly specifying which devices are being used. For safety, we initialize *every* CUDA device by default, which can be quite slow if you have a lot of CUDAs. If you know that you are only making use of a few CUDA devices, set the environment variable CUDA_VISIBLE_DEVICES or the 'devices' keyword argument of fork_rng with the set of devices you are actually using. For example, if you are using CPU only, set device.upper()_VISIBLE_DEVICES= or devices=[]; if you are using device 0 only, set CUDA_VISIBLE_DEVICES=0 or devices=[0].  To initialize all devices and suppress this warning, set the 'devices' keyword argument to `range(torch.cuda.device_count())`.\n",
      "  warnings.warn(message)\n"
     ]
    },
    {
     "name": "stdout",
     "output_type": "stream",
     "text": [
      "Condition number: 3270.8855697435865.\n",
      "Condition number: 937.8272903875738.\n",
      "Condition number: 2436.5127694562807.\n",
      "Condition number: 3302.2335389751343.\n",
      "Condition number: 949.318390970095.\n",
      "Condition number: 1544.511691510481.\n",
      "Condition number: 1832.502779225806.\n",
      "Condition number: 2814.176813534337.\n",
      "Condition number: 1661.4269154415326.\n",
      "Condition number: 3073.036468041168.\n",
      "Condition number: 2411.0580625796224.\n",
      "Condition number: 1627.7737791580153.\n",
      "Condition number: 3795.6690311011444.\n",
      "Condition number: 3749.7420342733126.\n",
      "Condition number: 3737.615611360862.\n",
      "Condition number: 2890.853976067783.\n",
      "Condition number: 2198.617452676922.\n",
      "Condition number: 2489.7020958054213.\n",
      "Condition number: 1726.7258723242321.\n",
      "Condition number: 3075.784857827388.\n",
      "Condition number: 1006.1861044335019.\n",
      "Condition number: 3771.9519775906892.\n",
      "Condition number: 2137.800141704474.\n",
      "Condition number: 1708.003555378283.\n",
      "Condition number: 2017.2809246578468.\n",
      "Condition number: 1081.3839946970636.\n",
      "Condition number: 3608.3203446616876.\n",
      "Condition number: 2838.2875131398123.\n",
      "Condition number: 1152.505377260536.\n",
      "Condition number: 2399.129766806988.\n",
      "Condition number: 2197.0132235558613.\n",
      "Condition number: 2676.1314610038135.\n",
      "Condition number: 2390.332302799302.\n",
      "Condition number: 2423.190117178386.\n",
      "Condition number: 3734.427295586985.\n",
      "Condition number: 2857.6802187361.\n",
      "Condition number: 3271.6120233212996.\n",
      "Condition number: 2975.073580139364.\n",
      "Condition number: 2588.4862415980924.\n",
      "Condition number: 2358.1930749393855.\n",
      "Condition number: 893.6750327936239.\n",
      "Condition number: 2514.5035338746925.\n",
      "Condition number: 2065.9585874324594.\n",
      "Condition number: 998.6084821517913.\n",
      "Condition number: 2029.6551919020958.\n",
      "Condition number: 1352.2051182625462.\n",
      "Condition number: 3299.6562367812544.\n",
      "Condition number: 1200.0300562556265.\n",
      "Condition number: 2525.653370855714.\n",
      "Condition number: 1165.3165318516862.\n"
     ]
    }
   ],
   "source": [
    "data = generate_input_output_gempy_data(mesh_coordinates=mesh.coordinates(), number_samples=100,filename=None)"
   ]
  },
  {
   "cell_type": "code",
   "execution_count": 5,
   "id": "4f073fe2",
   "metadata": {},
   "outputs": [
    {
     "data": {
      "text/plain": [
       "((50, 2), (50, 256), (50, 256, 2))"
      ]
     },
     "execution_count": 5,
     "metadata": {},
     "output_type": "execute_result"
    }
   ],
   "source": [
    "c,m_data, dmdc_data = data[\"input\"],data[\"Gempy_output\"], data[\"Jacobian_Gempy\"]\n",
    "c.shape, m_data.shape, dmdc_data.shape"
   ]
  },
  {
   "cell_type": "code",
   "execution_count": 6,
   "id": "43148b55",
   "metadata": {},
   "outputs": [],
   "source": [
    "#m_data[8].reshape(11,11)"
   ]
  },
  {
   "cell_type": "code",
   "execution_count": 7,
   "id": "85b00772",
   "metadata": {},
   "outputs": [],
   "source": [
    "u_trial = dl.TrialFunction(Vh[hp.STATE])\n",
    "u_test = dl.TestFunction(Vh[hp.STATE])\n",
    "\n",
    "M_U = dl.assemble(dl.inner(u_trial,u_test)*dl.dx)\n",
    "\n",
    "I_U = hf.StateSpaceIdentityOperator(M_U)\n",
    "\n",
    "observable = hf.LinearStateObservable(pde,M_U)\n",
    "\n",
    "Jm = hf.ObservableJacobian(observable)\n",
    "\n",
    "m_trial = dl.TrialFunction(Vh[hp.PARAMETER])\n",
    "m_test = dl.TestFunction(Vh[hp.PARAMETER])\n",
    "\n",
    "M_M = dl.assemble(dl.inner(m_trial,m_test)*dl.dx)"
   ]
  },
  {
   "cell_type": "code",
   "execution_count": 8,
   "id": "ab93476b-3c35-48bb-ada9-624f36896d82",
   "metadata": {},
   "outputs": [
    {
     "data": {
      "text/plain": [
       "((50, 961), (50, 961, 2))"
      ]
     },
     "execution_count": 8,
     "metadata": {},
     "output_type": "execute_result"
    }
   ],
   "source": [
    "nsamples = c.shape[0]\n",
    "\n",
    "m = dl.Function(Vh[hp.PARAMETER])\n",
    "\n",
    "u = dl.Function(Vh[hp.STATE])\n",
    "uadj = dl.Function(Vh[hp.ADJOINT])\n",
    "\n",
    "dU = u.vector().get_local().shape[0]\n",
    "\n",
    "dC = c.shape[1]\n",
    "\n",
    "# once you have modified the means of c->m(c) comment this\n",
    "#sol = gp.compute_model(geo_model_test)\n",
    "#m_values = geo_model_test.solutions.octrees_output[0].last_output_center.custom_grid_values\n",
    "uhat = dl.Function(Vh[hp.STATE])\n",
    "m_nodes_hat = dl.Function(Vh[hp.PARAMETER])\n",
    "m_hat = dl.Function(Vh[hp.PARAMETER])\n",
    "u_data = np.zeros((nsamples,dU))\n",
    "J_data = np.zeros((nsamples, dU, dC))\n",
    "\n",
    "plotting = False\n",
    "for sample_index in range(nsamples):\n",
    "    # Do something here to modify the coefficients\n",
    "    # sol = gp.compute_model(geo_model_test)\n",
    "    #m_values = geo_model_test.solutions.octrees_output[0].last_output_center.custom_grid_values\n",
    "    \n",
    "    m_values = m_data[sample_index,:]\n",
    "    m.vector().set_local(m_values[d2v]) #uncomment this\n",
    "    # m.vector().set_local(m_values[d2v] +0.1*np.random.randn(m_values.shape[0])) #comment this\n",
    "    if plotting:\n",
    "        #plt.axis(\"off\")\n",
    "        dl.plot(m)\n",
    "        fig = plt.gcf()\n",
    "        fig.set_size_inches(1, 1)\n",
    "        plt.show()\n",
    "    x = [u.vector(),m.vector(),uadj.vector()]\n",
    "    pde.solveFwd(x[hp.STATE], x)\n",
    "    \n",
    "    Jm.observable.setLinearizationPoint(x)\n",
    "    \n",
    "    \n",
    "    # Get the data\n",
    "    u_data[sample_index,:] = x[hp.STATE].get_local()\n",
    "    \n",
    "    for component in range(dC):\n",
    "        #mhat.vector().set_local(dmdc[:,i])\n",
    "        m_nodes_hat.vector().set_local(dmdc_data[sample_index,:,component])\n",
    "        M_M.mult(m_nodes_hat.vector(), m_hat.vector())\n",
    "        Jm.mult(m_hat.vector(),uhat.vector())\n",
    "        J_data[sample_index,:,component] = uhat.vector().get_local()\n",
    "    \n",
    "u_data.shape, J_data.shape"
   ]
  },
  {
   "cell_type": "markdown",
   "id": "6f1612cd-b32d-4122-be65-49c0d517acab",
   "metadata": {},
   "source": [
    "## POD"
   ]
  },
  {
   "cell_type": "code",
   "execution_count": 9,
   "id": "ee42998e-952c-48dc-bbc8-ebc50eba3783",
   "metadata": {},
   "outputs": [
    {
     "name": "stdout",
     "output_type": "stream",
     "text": [
      "50\n",
      "Using HEP\n",
      "Preprocessing took 0.000555 seconds\n",
      "Eigenvalue solve took 0.000856 seconds\n",
      "Postprocessing took 0.00136 seconds\n",
      "Basis Orthogonality error: 4.1806954391577753e-07\n",
      "Basis-Projector Orthogonality error: 4.180695439157775e-07\n",
      "Mean reconstruction error: 1.511e-11\n",
      "Max reconstruction error: 4.993e-11\n"
     ]
    }
   ],
   "source": [
    "# u_trial = dl.TrialFunction(Vh[hp.STATE])\n",
    "# u_test = dl.TestFunction(Vh[hp.STATE])\n",
    "\n",
    "# M_U = dl.assemble(dl.inner(u_trial,u_test)*dl.dx)\n",
    "\n",
    "POD = hf.PODProjectorFromData(Vh,M_output = M_U)\n",
    "\n",
    "mean_shifting = True\n",
    "\n",
    "# Change this later on to be chosen appropriately.\n",
    "u_rank = len(u_data)\n",
    "print(u_rank)\n",
    "d, phi, Mphi, u_shift  = POD.construct_subspace(u_data, u_rank, shifted=mean_shifting, method='hep', verify=True)"
   ]
  },
  {
   "cell_type": "code",
   "execution_count": 10,
   "id": "ea24dc21",
   "metadata": {},
   "outputs": [
    {
     "name": "stdout",
     "output_type": "stream",
     "text": [
      "[7.44468967e-05 4.02101165e-05 1.95087467e-06 1.92685969e-06\n",
      " 8.98955414e-07 2.96440814e-07 1.40237348e-07 8.51733952e-08\n",
      " 5.70999411e-08 2.29796549e-08 1.54191664e-08 7.14269589e-09\n",
      " 5.06592031e-09 3.59894401e-09 2.92165588e-09 2.08440141e-09\n",
      " 1.16259931e-09 6.98626552e-10 5.46775613e-10 4.85582416e-10\n",
      " 4.07572936e-10 3.13479757e-10 1.96536493e-10 1.33482171e-10\n",
      " 7.86531342e-11 4.70723559e-11 2.70946730e-11 2.21565008e-11\n",
      " 1.88877434e-11 8.87917374e-12 6.96083430e-12 6.29955714e-12\n",
      " 4.64975116e-12 3.97320220e-12 2.01216726e-12 1.74282866e-12\n",
      " 1.05939010e-12 7.25251020e-13 6.64491495e-13 3.79478302e-13\n",
      " 2.37906158e-13 1.78352950e-13 1.33491348e-13 5.31353848e-14\n",
      " 4.98826443e-14 3.30133953e-14 1.36104305e-14 6.52530542e-15\n",
      " 2.25172569e-15 1.06051257e-21]\n"
     ]
    }
   ],
   "source": [
    "print(d)\n",
    "r = np.sum(d>=1e-8)"
   ]
  },
  {
   "cell_type": "code",
   "execution_count": 11,
   "id": "d37573bc",
   "metadata": {},
   "outputs": [
    {
     "data": {
      "text/plain": [
       "((961, 11), (961, 11))"
      ]
     },
     "execution_count": 11,
     "metadata": {},
     "output_type": "execute_result"
    }
   ],
   "source": [
    "\n",
    "Mphi = Mphi[:, :r]\n",
    "phi = phi[:,:r]\n",
    "Mphi.shape, phi.shape"
   ]
  },
  {
   "cell_type": "code",
   "execution_count": 12,
   "id": "0cb859dd-473a-4148-bc89-34f272a041a8",
   "metadata": {},
   "outputs": [],
   "source": [
    "## Compare reconstructions in POD basis"
   ]
  },
  {
   "cell_type": "code",
   "execution_count": 13,
   "id": "0aa17d28-4add-48db-ae9e-d0b037df768b",
   "metadata": {},
   "outputs": [
    {
     "name": "stdout",
     "output_type": "stream",
     "text": [
      "################################################################################\n",
      "True state\n"
     ]
    },
    {
     "data": {
      "image/png": "[encoded data removed]",
      "text/plain": [
       "<Figure size 100x100 with 1 Axes>"
      ]
     },
     "metadata": {},
     "output_type": "display_data"
    },
    {
     "name": "stdout",
     "output_type": "stream",
     "text": [
      "################################################################################\n",
      "POD projected state\n"
     ]
    },
    {
     "data": {
      "image/png": "[encoded data removed]",
      "text/plain": [
       "<Figure size 100x100 with 1 Axes>"
      ]
     },
     "metadata": {},
     "output_type": "display_data"
    },
    {
     "name": "stdout",
     "output_type": "stream",
     "text": [
      "################################################################################\n",
      "As you can see, this problem is trivial, as only ten modes basically perfectly reconstruct the trivial output function\n"
     ]
    }
   ],
   "source": [
    "print(80*'#')\n",
    "print('True state')\n",
    "u.vector().set_local(u_data[0])\n",
    "plt.axis(\"off\")\n",
    "dl.plot(u)\n",
    "fig = plt.gcf()\n",
    "fig.set_size_inches(1, 1)\n",
    "plt.show()\n",
    "\n",
    "print(80*'#')\n",
    "print('POD projected state')\n",
    "u.vector().set_local(phi@Mphi.T@(u_data[0] - u_shift) + u_shift)\n",
    "plt.axis(\"off\")\n",
    "dl.plot(u)\n",
    "fig = plt.gcf()\n",
    "fig.set_size_inches(1, 1)\n",
    "plt.show()\n",
    "\n",
    "print(80*'#')\n",
    "print('As you can see, this problem is trivial, as only ten modes basically perfectly reconstruct the trivial output function')"
   ]
  },
  {
   "cell_type": "markdown",
   "id": "143e9768-ac88-4df7-85f4-a716db888bac",
   "metadata": {},
   "source": [
    "## (Linear) encoders and decoders.\n",
    "\n",
    "Please consult our papers for a more in-depth discussion. E.g., [section 2.4 in this work](https://arxiv.org/abs/2411.12726)\n",
    "\n",
    "We can expand a function on an orthonormal basis as\n",
    "\n",
    "$$ u(x) = \\sum_{i=1}^\\infty \\langle u(x),\\phi_i(x)\\rangle_\\mathcal{U} \\phi_i(x)$$\n",
    "\n",
    "and the truncated representation\n",
    "\n",
    "$$ u(x) = \\sum_{i=1}^r \\langle u(x),\\phi_i(x)\\rangle_\\mathcal{U} \\phi_i(x)$$\n",
    "\n",
    "The encoder is the mapping from the data $u(x)$ to its truncated coefficient expansion $\\mathcal{E}_r u \\in \\mathbb{R}^{r}$\n",
    "\n",
    "$$ \\mathcal{E}_r u = \\left[\\langle u,\\phi_i\\rangle_\\mathcal{U}\\right]_{i=1}^r \\in \\mathbb{R}^{r}$$\n",
    "\n",
    "The decoder maps this data back to the function space (e.g., the basis expansion operation), given $\\alpha \\in \\mathbb{R}^r$ we have\n",
    "\n",
    "$$ \\mathcal{D}_r \\alpha  = \\sum_{i=1}^r \\alpha_i \\phi_i$$\n",
    "\n",
    "The encoder has the effect of the inner product $\\langle \\cdot,\\cdot\\rangle_\\mathcal{U}$, e.g., the mass matrix in finite elements, each column of it is $\\langle \\cdot, \\phi\\rangle_\\mathcal{U}$, so we call it `Mphi` $\\in \\mathbb{R}^{d_u \\times r}$. Likewise we call the decoder `\\phi` since its columns are just the basis vectors\n",
    "\n",
    "### Encoding u data\n",
    "\n",
    "The mapping to the coefficients of u is $u_r = \\mathcal{E}_r u$. In numpy this is `ur_data = Mphi.T@u_data`\n",
    "\n",
    "### Decoding the u data\n",
    "\n",
    "We decode with the basis: $\\mathcal{D}_r u_r$. In numpy this is `phi@ur_data`\n",
    "\n",
    "### Encoding and decoding the derivatives.\n",
    "\n",
    "The derivative of the map is \n",
    "\n",
    "$$ Du(c) \\in \\mathcal{L}(\\mathbb{R}^{d_c},\\mathcal{U}) $$\n",
    "\n",
    "that is, the space of linear operators from $\\mathbb{R}^{d_c}$ into $\\mathcal{U}$. We want to remove the high-dimensionality associated with $\\mathcal{U}$\n",
    "\n",
    "This is done with the encoder operator:\n",
    "\n",
    "$$\\mathcal{E}_r Du(c) \\in \\mathbb{R}^{r\\times d_c}$$"
   ]
  },
  {
   "cell_type": "code",
   "execution_count": 14,
   "id": "1faf9ed4-dfdf-4a15-963b-cc6c2834b998",
   "metadata": {},
   "outputs": [],
   "source": [
    "# Encode the u_data\n",
    "\n",
    "ur = np.einsum('ur,du->dr',Mphi,u_data)\n",
    "\n",
    "# Encoder the Du_data\n",
    "\n",
    "dc = 2\n",
    "Du_data = np.random.randn(nsamples,dU,dc)\n",
    "Dur_data = np.einsum('ur,duc->drc',Mphi,Du_data)"
   ]
  },
  {
   "cell_type": "markdown",
   "id": "b59c945f-28a6-4590-b789-02fa5252775b",
   "metadata": {},
   "source": [
    "## Training data\n",
    "\n",
    "The training data then is inputs (`c_data` \\in $\\mathbb{R}^{nsamples\\times dc}$) and outputs (`ur_data`, `Dur_data`)\n",
    "\n",
    "\n",
    "## To figure out in the $Du(c)$ calculations\n",
    "\n",
    "The derivative I believe should have the mass matrix for $\\mathcal{M}$ space in it:\n",
    "\n",
    "$$ Du(c) = D_m(u(m(c)) \\frac{dm}{dc} = -\\left[\\frac{\\partial R}{\\partial u}\\right]^{-1}\\frac{\\partial R}{\\partial m} \\frac{dm}{dc}$$\n",
    "\n",
    "In the other notebook we are evaluating the mapping from $c\\mapsto m_\\text{node}$, the nodal representation of $m$, but not the function. The mapping to the function requires the mass matrix\n",
    "\n",
    "The torch gempy code will give you\n",
    "$$ \\frac{dm_\\text{node}}{dc}$$\n",
    "\n",
    "and we need in the end\n",
    "$$ \\frac{dm}{dc} = M_\\mathcal{M} \\frac{dm_\\text{node}}{dc}$$"
   ]
  },
  {
   "cell_type": "code",
   "execution_count": 15,
   "id": "9624321f-e22b-4791-969b-f7373ff93c55",
   "metadata": {},
   "outputs": [],
   "source": [
    "# Calculating the mass matrix for $\\mathcal{M}$\n"
   ]
  },
  {
   "cell_type": "code",
   "execution_count": 16,
   "id": "fa30828f-d84e-41f7-a160-bad3681fb863",
   "metadata": {},
   "outputs": [],
   "source": [
    "m_trial = dl.TrialFunction(Vh[hp.PARAMETER])\n",
    "m_test = dl.TestFunction(Vh[hp.PARAMETER])\n",
    "\n",
    "M_M = dl.assemble(dl.inner(m_trial,m_test)*dl.dx)"
   ]
  },
  {
   "cell_type": "markdown",
   "id": "705e62f8-6ca7-4419-bfe1-790cf5b244b2",
   "metadata": {},
   "source": [
    "## Final form of the pre-reduced Jacobian\n",
    "\n",
    "$$ Du(c) = -\\left[\\frac{\\partial R}{\\partial u}\\right]^{-1}\\frac{\\partial R}{\\partial m} M_\\mathcal{M}\\frac{dm_\\text{node}}{dc}$$\n",
    "\n",
    "Where \n",
    "\n",
    "$$ \\frac{dm_\\text{node}}{dc} \\in \\mathbb{R}^{d_\\text{node}\\times dc}$$\n",
    "\n",
    "is the nodal Jacobian you will get as the output from the gempy torch automatic differntiation\n",
    "\n",
    "## DOF ORDERING FOR m\n",
    "\n",
    "You will also need to check the correct degree of freedom mapping for $m$\n",
    "\n",
    "It will likely be something like the code we had: `m_values[d2v]`\n",
    "\n",
    "So the output of your torch AD for dm_node/dc will need to have each column reordered using the d2v re-ordering.\n",
    "\n",
    "When in doubt, plot everything. Do you see that I am constantly plotting to make sure that I am dealing with the right thing? If you get the vertex to dof map wrong you will be able to see it immediately via plotting columns of the Jacobian."
   ]
  },
  {
   "cell_type": "code",
   "execution_count": 17,
   "id": "6e2d7d89",
   "metadata": {},
   "outputs": [
    {
     "data": {
      "image/png": "[encoded data removed]",
      "text/plain": [
       "<Figure size 100x100 with 1 Axes>"
      ]
     },
     "metadata": {},
     "output_type": "display_data"
    }
   ],
   "source": [
    "m = dl.Function(Vh[hp.PARAMETER])\n",
    "m_nodes_hat = dl.Function(Vh[hp.PARAMETER])\n",
    "m_hat = dl.Function(Vh[hp.PARAMETER])\n",
    "m.vector().set_local(m_data[0,:][d2v])\n",
    "\n",
    "plt.axis(\"off\")\n",
    "dl.plot(m)\n",
    "fig = plt.gcf()\n",
    "fig.set_size_inches(1, 1)"
   ]
  },
  {
   "cell_type": "code",
   "execution_count": 18,
   "id": "68dc206a",
   "metadata": {},
   "outputs": [
    {
     "name": "stdout",
     "output_type": "stream",
     "text": [
      "################################################################################\n"
     ]
    },
    {
     "data": {
      "image/png": "[encoded data removed]",
      "text/plain": [
       "<Figure size 100x100 with 1 Axes>"
      ]
     },
     "metadata": {},
     "output_type": "display_data"
    }
   ],
   "source": [
    "print(80*'#')\n",
    "\n",
    "u.vector().set_local(u_data[0])\n",
    "plt.axis(\"off\")\n",
    "dl.plot(u)\n",
    "fig = plt.gcf()\n",
    "fig.set_size_inches(1, 1)\n",
    "plt.show()"
   ]
  },
  {
   "cell_type": "code",
   "execution_count": 19,
   "id": "2988a014",
   "metadata": {},
   "outputs": [
    {
     "data": {
      "image/png": "[encoded data removed]",
      "text/plain": [
       "<Figure size 100x100 with 1 Axes>"
      ]
     },
     "metadata": {},
     "output_type": "display_data"
    }
   ],
   "source": [
    "m_nodes_hat.vector().set_local(dmdc_data[0,:,0][d2v])\n",
    "M_M.mult(m_nodes_hat.vector(), m_hat.vector())\n",
    "plt.axis(\"off\")\n",
    "dl.plot(m_hat)\n",
    "#dl.plot(m_nodes_hat)\n",
    "fig = plt.gcf()\n",
    "fig.set_size_inches(1, 1)"
   ]
  },
  {
   "cell_type": "code",
   "execution_count": 20,
   "id": "d3abfd56",
   "metadata": {},
   "outputs": [
    {
     "data": {
      "image/png": "[encoded data removed]",
      "text/plain": [
       "<Figure size 100x100 with 1 Axes>"
      ]
     },
     "metadata": {},
     "output_type": "display_data"
    }
   ],
   "source": [
    "m_nodes_hat.vector().set_local(dmdc_data[0,:,1][d2v])\n",
    "M_M.mult(m_nodes_hat.vector(), m_hat.vector())\n",
    "plt.axis(\"off\")\n",
    "#dl.plot(m_nodes_hat)\n",
    "dl.plot(m_hat)\n",
    "fig = plt.gcf()\n",
    "fig.set_size_inches(1, 1)"
   ]
  },
  {
   "cell_type": "code",
   "execution_count": 21,
   "id": "b2c1b47d",
   "metadata": {},
   "outputs": [
    {
     "data": {
      "image/png": "[encoded data removed]",
      "text/plain": [
       "<Figure size 100x100 with 1 Axes>"
      ]
     },
     "metadata": {},
     "output_type": "display_data"
    }
   ],
   "source": [
    "u_hat = dl.Function(Vh[hp.STATE])\n",
    "u_hat.vector().set_local(J_data[3,:,0][d2v])\n",
    "plt.axis(\"off\")\n",
    "dl.plot(u_hat)\n",
    "fig = plt.gcf()\n",
    "fig.set_size_inches(1, 1)"
   ]
  },
  {
   "cell_type": "code",
   "execution_count": 22,
   "id": "7504e88d",
   "metadata": {},
   "outputs": [
    {
     "data": {
      "image/png": "[encoded data removed]",
      "text/plain": [
       "<Figure size 100x100 with 1 Axes>"
      ]
     },
     "metadata": {},
     "output_type": "display_data"
    }
   ],
   "source": [
    "u_hat = dl.Function(Vh[hp.STATE])\n",
    "u_hat.vector().set_local(J_data[3,:,1][d2v])\n",
    "plt.axis(\"off\")\n",
    "dl.plot(u_hat)\n",
    "fig = plt.gcf()\n",
    "fig.set_size_inches(1, 1)"
   ]
  },
  {
   "cell_type": "code",
   "execution_count": 23,
   "id": "21d6aeeb",
   "metadata": {},
   "outputs": [
    {
     "data": {
      "text/plain": [
       "((50, 11), (50, 11, 2))"
      ]
     },
     "execution_count": 23,
     "metadata": {},
     "output_type": "execute_result"
    }
   ],
   "source": [
    "Dur = np.einsum('ur,duc->drc',Mphi,J_data)\n",
    "ur.shape, Dur_data.shape"
   ]
  },
  {
   "cell_type": "code",
   "execution_count": 24,
   "id": "db7eb5f2",
   "metadata": {},
   "outputs": [
    {
     "name": "stdout",
     "output_type": "stream",
     "text": [
      "torch.Size([11, 11]) torch.Size([2, 2])\n",
      "Train size: 30,Valid size: 10,  Test size: 10\n",
      "Epoch [0/100], Train Loss: 0.6354, Val Loss: 0.6235\n",
      "Epoch [10/100], Train Loss: 0.4796, Val Loss: 0.4704\n",
      "Epoch [20/100], Train Loss: 0.3561, Val Loss: 0.3487\n",
      "Epoch [30/100], Train Loss: 0.2563, Val Loss: 0.2507\n",
      "Epoch [40/100], Train Loss: 0.1798, Val Loss: 0.1757\n",
      "Epoch [50/100], Train Loss: 0.1227, Val Loss: 0.1202\n",
      "Epoch [60/100], Train Loss: 0.0830, Val Loss: 0.0813\n",
      "Epoch [70/100], Train Loss: 0.0548, Val Loss: 0.0537\n",
      "Epoch [80/100], Train Loss: 0.0350, Val Loss: 0.0343\n",
      "Epoch [90/100], Train Loss: 0.0216, Val Loss: 0.0212\n",
      "Epoch [99/100], Train Loss: 0.0135, Val Loss: 0.0133\n",
      "L2 accuaracy without Jacobian:  tensor(0.7012, device='cuda:0', grad_fn=<RsubBackward1>)\n"
     ]
    }
   ],
   "source": [
    "train_network(Gempy_Inputs=c, PDE_outputs=ur, Jacobian=Dur, layer_sizes=[c.shape[1],r,r,r,r], num_epochs=100)"
   ]
  },
  {
   "cell_type": "code",
   "execution_count": 25,
   "id": "63745892",
   "metadata": {},
   "outputs": [
    {
     "name": "stdout",
     "output_type": "stream",
     "text": [
      "torch.Size([11, 11]) torch.Size([2, 2])\n",
      "Train size: 30,Valid size: 10,  Test size: 10\n",
      "Epoch [0/100], Train Loss: 0.3223, Val Loss: 0.3160, L2 Loss: 0.3177, F2 Loss: 0.0047\n",
      "Epoch [10/100], Train Loss: 0.2434, Val Loss: 0.2381, L2 Loss: 0.2405, F2 Loss: 0.0029\n",
      "Epoch [20/100], Train Loss: 0.1804, Val Loss: 0.1770, L2 Loss: 0.1788, F2 Loss: 0.0016\n",
      "Epoch [30/100], Train Loss: 0.1300, Val Loss: 0.1273, L2 Loss: 0.1286, F2 Loss: 0.0014\n",
      "Epoch [40/100], Train Loss: 0.0909, Val Loss: 0.0889, L2 Loss: 0.0901, F2 Loss: 0.0008\n",
      "Epoch [50/100], Train Loss: 0.0619, Val Loss: 0.0606, L2 Loss: 0.0616, F2 Loss: 0.0003\n",
      "Epoch [60/100], Train Loss: 0.0418, Val Loss: 0.0409, L2 Loss: 0.0415, F2 Loss: 0.0003\n",
      "Epoch [70/100], Train Loss: 0.0275, Val Loss: 0.0269, L2 Loss: 0.0272, F2 Loss: 0.0002\n",
      "Epoch [80/100], Train Loss: 0.0175, Val Loss: 0.0171, L2 Loss: 0.0173, F2 Loss: 0.0002\n",
      "Epoch [90/100], Train Loss: 0.0107, Val Loss: 0.0105, L2 Loss: 0.0105, F2 Loss: 0.0002\n",
      "Epoch [99/100], Train Loss: 0.0067, Val Loss: 0.0066, L2 Loss: 0.0065, F2 Loss: 0.0002\n",
      "L2 accuracy with Jacobian:  tensor(0.7067, device='cuda:0', grad_fn=<RsubBackward1>)\n",
      "H1 accuracy :  tensor(-6721.9180, device='cuda:0', grad_fn=<RsubBackward1>)\n"
     ]
    }
   ],
   "source": [
    "train_network(network_type=\"full\", Gempy_Inputs=c, PDE_outputs=ur, Jacobian=Dur, layer_sizes=[c.shape[1],r,r,r,r], num_epochs=100)"
   ]
  },
  {
   "cell_type": "code",
   "execution_count": 26,
   "id": "3ebb796a",
   "metadata": {},
   "outputs": [
    {
     "name": "stdout",
     "output_type": "stream",
     "text": [
      "torch.Size([11, 11]) torch.Size([2, 2])\n",
      "Train size: 30,Valid size: 10,  Test size: 10\n",
      "Epoch [0/100], Train Loss: 0.3220, Val Loss: 0.3155, L2 Loss: 0.3177, F2 Loss: 0.0043\n",
      "Epoch [10/100], Train Loss: 0.2442, Val Loss: 0.2375, L2 Loss: 0.2405, F2 Loss: 0.0037\n",
      "Epoch [20/100], Train Loss: 0.1802, Val Loss: 0.1765, L2 Loss: 0.1789, F2 Loss: 0.0013\n",
      "Epoch [30/100], Train Loss: 0.1301, Val Loss: 0.1275, L2 Loss: 0.1287, F2 Loss: 0.0014\n",
      "Epoch [40/100], Train Loss: 0.0909, Val Loss: 0.0890, L2 Loss: 0.0901, F2 Loss: 0.0008\n",
      "Epoch [50/100], Train Loss: 0.0620, Val Loss: 0.0607, L2 Loss: 0.0616, F2 Loss: 0.0004\n",
      "Epoch [60/100], Train Loss: 0.0418, Val Loss: 0.0409, L2 Loss: 0.0415, F2 Loss: 0.0003\n",
      "Epoch [70/100], Train Loss: 0.0275, Val Loss: 0.0269, L2 Loss: 0.0272, F2 Loss: 0.0003\n",
      "Epoch [80/100], Train Loss: 0.0175, Val Loss: 0.0171, L2 Loss: 0.0173, F2 Loss: 0.0002\n",
      "Epoch [90/100], Train Loss: 0.0108, Val Loss: 0.0105, L2 Loss: 0.0105, F2 Loss: 0.0002\n",
      "Epoch [99/100], Train Loss: 0.0067, Val Loss: 0.0066, L2 Loss: 0.0065, F2 Loss: 0.0002\n",
      "L2 accuaracy with Jacobian:  tensor(0.7068, device='cuda:0', grad_fn=<RsubBackward1>)\n",
      "H1 accuracy :  tensor(-6886.0757, device='cuda:0', grad_fn=<RsubBackward1>)\n"
     ]
    }
   ],
   "source": [
    "train_network(network_type=5, Gempy_Inputs=c, PDE_outputs=ur, Jacobian=Dur, layer_sizes=[c.shape[1],r,r,r,r], num_epochs=100)"
   ]
  }
 ],
 "metadata": {
  "kernelspec": {
   "display_name": "gempy_dino",
   "language": "python",
   "name": "python3"
  },
  "language_info": {
   "codemirror_mode": {
    "name": "ipython",
    "version": 3
   },
   "file_extension": ".py",
   "mimetype": "text/x-python",
   "name": "python",
   "nbconvert_exporter": "python",
   "pygments_lexer": "ipython3",
   "version": "3.10.13"
  }
 },
 "nbformat": 4,
 "nbformat_minor": 5
}
